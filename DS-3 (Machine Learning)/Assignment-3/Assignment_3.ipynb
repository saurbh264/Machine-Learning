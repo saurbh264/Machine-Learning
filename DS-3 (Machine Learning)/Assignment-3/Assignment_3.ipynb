{
 "cells": [
  {
   "cell_type": "markdown",
   "id": "05232481-4348-4248-b701-aad8d9f41dbc",
   "metadata": {},
   "source": [
    "<h1 style=\"color:skyblue;\">Assignment -3</h1>"
   ]
  },
  {
   "cell_type": "markdown",
   "id": "fdee3cb4-aa7e-4cd8-8210-9d93248bd3ed",
   "metadata": {},
   "source": [
    "<h1 style=\"color:orange;\">Part - I</h1>"
   ]
  },
  {
   "cell_type": "code",
   "execution_count": 1,
   "id": "b746d999-daf0-4b8f-9f92-e140f0b1dd34",
   "metadata": {},
   "outputs": [],
   "source": [
    "import pandas as pd\n",
    "import numpy as np\n",
    "import math"
   ]
  },
  {
   "cell_type": "code",
   "execution_count": 2,
   "id": "f9b8312a-e769-4887-8ceb-d935263f0145",
   "metadata": {},
   "outputs": [],
   "source": [
    "df=pd.read_csv(\"iris_train.csv\",index_col=0)\n",
    "df1=pd.read_csv(\"iris_test.csv\",index_col=0)"
   ]
  },
  {
   "cell_type": "code",
   "execution_count": 3,
   "id": "6df8f608-c4e0-416a-9d9a-5754c9d32904",
   "metadata": {},
   "outputs": [],
   "source": [
    "X_train=df.iloc[:,:-1].T.values\n",
    "X_tr=X_train.copy()\n",
    "Y_train=np.array(df.iloc[:,-1])\n",
    "X_test=df1.iloc[:,:-1].T.values\n",
    "X_ts=X_test.copy()\n",
    "Y_test=np.array(df1.iloc[:,-1])"
   ]
  },
  {
   "cell_type": "code",
   "execution_count": 4,
   "id": "d5735c7a-374c-4211-9e35-68c3d8d1d22e",
   "metadata": {},
   "outputs": [],
   "source": [
    "def mean_(arr):\n",
    "    return np.sum(arr)/len(arr)\n"
   ]
  },
  {
   "cell_type": "code",
   "execution_count": 5,
   "id": "bbb7c0c9-7ae4-4455-a20c-dd3b3492a10c",
   "metadata": {},
   "outputs": [],
   "source": [
    "def std_(arr):\n",
    "    newd= (arr-mean_(arr))**2\n",
    "    num=np.sum(newd)\n",
    "    return np.sqrt(num/len(arr))\n"
   ]
  },
  {
   "cell_type": "markdown",
   "id": "9f845948-c8af-4b95-92d0-91a0cd862224",
   "metadata": {},
   "source": [
    "<h3 style=\"color:purple;\">Perfoming PCA on X_train and X_test</h3>"
   ]
  },
  {
   "cell_type": "code",
   "execution_count": 6,
   "id": "f9e048c0-3e0f-4c89-924d-98c2a1fa0b6d",
   "metadata": {},
   "outputs": [],
   "source": [
    "X_train.shape\n",
    "for i in range(0,4):\n",
    "    X_train[i]=X_train[i]-mean_(X_train[i])\n",
    "    X_test[i]=X_test[i]-mean_(X_test[i])"
   ]
  },
  {
   "cell_type": "code",
   "execution_count": 7,
   "id": "d3b98492-4ee4-4906-b423-7ae99d2f2132",
   "metadata": {
    "scrolled": true
   },
   "outputs": [
    {
     "data": {
      "text/plain": [
       "array([[-1.20916667, -0.10916667,  0.89083333, -1.00916667, -1.40916667,\n",
       "         0.49083333,  0.59083333, -0.60916667, -0.80916667, -0.60916667,\n",
       "        -0.00916667,  0.19083333,  0.89083333, -0.40916667, -0.40916667,\n",
       "        -0.30916667,  0.49083333,  0.59083333,  0.79083333,  1.39083333,\n",
       "        -0.10916667,  1.79083333, -0.20916667, -0.70916667,  1.89083333,\n",
       "        -0.00916667, -0.60916667, -0.80916667, -0.70916667, -0.80916667,\n",
       "         0.49083333, -1.00916667, -0.80916667, -0.70916667, -0.20916667,\n",
       "        -0.70916667, -0.10916667,  1.89083333, -1.20916667,  0.39083333,\n",
       "        -0.10916667, -0.30916667,  0.19083333, -0.00916667,  0.19083333,\n",
       "        -0.40916667,  0.39083333, -0.30916667, -0.40916667, -0.80916667,\n",
       "         0.59083333, -0.80916667, -0.80916667, -0.30916667,  0.89083333,\n",
       "        -0.90916667, -0.00916667, -0.80916667, -0.80916667,  0.09083333,\n",
       "        -0.70916667,  1.09083333,  0.19083333,  0.29083333,  1.89083333,\n",
       "        -0.30916667, -1.40916667, -1.50916667,  0.19083333,  1.39083333,\n",
       "        -1.20916667, -0.70916667, -1.40916667,  0.49083333,  0.49083333,\n",
       "        -1.20916667,  0.99083333,  0.49083333, -1.10916667,  0.29083333,\n",
       "         0.69083333,  0.39083333,  1.19083333,  0.59083333, -0.70916667,\n",
       "         1.09083333,  0.09083333,  0.69083333, -0.10916667, -0.60916667,\n",
       "         0.29083333, -1.30916667,  0.79083333, -0.30916667, -0.50916667,\n",
       "        -0.20916667,  1.49083333,  0.89083333, -0.70916667, -0.90916667,\n",
       "         0.89083333,  1.39083333, -0.90916667,  0.89083333, -0.90916667,\n",
       "         1.09083333,  1.59083333,  0.49083333, -0.10916667,  0.69083333,\n",
       "         0.49083333,  0.59083333, -0.20916667,  0.09083333, -0.40916667,\n",
       "         0.29083333, -0.90916667, -0.00916667, -0.00916667,  1.29083333],\n",
       "       [ 0.5425    ,  1.3425    ,  0.0425    ,  0.3425    ,  0.1425    ,\n",
       "        -0.5575    ,  0.1425    ,  0.4425    ,  0.5425    ,  1.0425    ,\n",
       "        -0.3575    ,  0.3425    ,  0.0425    ,  0.8425    ,  0.6425    ,\n",
       "        -0.6575    , -0.2575    ,  0.0425    , -0.0575    ,  0.5425    ,\n",
       "        -0.1575    , -0.0575    , -0.0575    ,  0.4425    , -0.2575    ,\n",
       "        -0.3575    ,  0.3425    ,  0.4425    ,  0.7425    , -1.0575    ,\n",
       "        -0.3575    ,  0.3425    , -0.0575    ,  0.2425    , -0.3575    ,\n",
       "         0.3425    , -0.0575    ,  0.7425    ,  0.1425    , -0.1575    ,\n",
       "        -0.5575    ,  1.1425    , -0.0575    , -0.3575    , -0.8575    ,\n",
       "        -0.0575    ,  0.3425    , -0.7575    ,  0.8425    , -0.7575    ,\n",
       "        -0.3575    ,  0.2425    ,  0.1425    , -0.6575    , -0.0575    ,\n",
       "         0.0425    , -0.2575    ,  0.3425    ,  0.4425    ,  0.1425    ,\n",
       "        -0.5575    ,  0.1425    , -0.3575    , -0.4575    , -0.0575    ,\n",
       "        -0.5575    , -0.1575    , -0.0575    , -0.8575    ,  0.1425    ,\n",
       "         0.0425    ,  0.4425    , -0.0575    , -0.5575    ,  0.3425    ,\n",
       "         0.3425    , -0.0575    ,  0.2425    ,  0.1425    , -0.1575    ,\n",
       "        -0.2575    , -0.2575    ,  0.1425    ,  0.1425    ,  0.7425    ,\n",
       "         0.0425    , -0.0575    , -0.0575    , -0.4575    , -0.3575    ,\n",
       "        -0.0575    , -0.7575    , -0.1575    , -0.4575    ,  0.6425    ,\n",
       "        -0.0575    , -0.1575    ,  0.2425    ,  0.6425    , -0.6575    ,\n",
       "         0.2425    , -0.0575    ,  0.0425    ,  0.0425    , -0.0575    ,\n",
       "         0.0425    , -0.2575    , -0.1575    , -0.2575    , -0.0575    ,\n",
       "        -0.7575    , -0.1575    , -0.2575    , -0.0575    ,  0.3425    ,\n",
       "        -0.2575    , -0.5575    ,  0.9425    , -0.4575    , -0.0575    ],\n",
       "       [-2.7275    , -2.2275    ,  0.6725    , -2.1275    , -2.4275    ,\n",
       "         1.2725    ,  0.7725    , -2.2275    , -2.3275    , -2.2275    ,\n",
       "         1.3725    ,  0.7725    ,  0.9725    , -2.4275    , -2.2275    ,\n",
       "        -0.0275    ,  1.3725    ,  1.7725    ,  0.6725    ,  2.3725    ,\n",
       "         0.4725    ,  2.8725    ,  0.7725    , -2.3275    ,  2.9725    ,\n",
       "         0.3725    , -2.3275    , -2.4275    , -1.8275    , -0.2275    ,\n",
       "         1.1725    , -1.8275    , -2.1275    , -2.0275    ,  0.4725    ,\n",
       "        -2.2275    ,  0.4725    ,  2.9725    , -2.3275    ,  0.5725    ,\n",
       "         1.2725    , -2.3275    ,  1.0725    ,  1.3725    ,  0.2725    ,\n",
       "         0.7725    ,  1.6725    ,  0.2725    , -2.0275    , -0.4275    ,\n",
       "         1.5725    , -2.3275    , -2.5275    ,  0.0725    ,  1.2725    ,\n",
       "        -2.2275    ,  1.3725    , -2.2275    , -2.1275    ,  1.0725    ,\n",
       "        -0.7275    ,  1.9725    ,  1.3725    ,  1.8725    ,  2.3725    ,\n",
       "         0.2725    , -2.3275    , -2.6275    ,  1.2725    ,  2.2725    ,\n",
       "        -2.2275    , -2.3275    , -2.4275    ,  1.1725    ,  1.8725    ,\n",
       "        -2.3275    ,  1.7725    ,  2.2725    , -2.4275    ,  0.9725    ,\n",
       "         0.8725    ,  1.0725    ,  0.9725    ,  1.5725    , -2.1275    ,\n",
       "         1.6725    ,  0.4725    ,  1.4725    , -0.2275    ,  0.1725    ,\n",
       "         0.8725    , -2.4275    ,  0.8725    ,  0.6725    , -2.2275    ,\n",
       "         0.3725    ,  2.5725    ,  1.9725    , -2.2275    , -0.4275    ,\n",
       "         1.9725    ,  2.0725    , -2.2275    ,  1.8725    , -2.3275    ,\n",
       "         1.1725    ,  2.3725    ,  1.8725    ,  0.3725    ,  1.7725    ,\n",
       "         0.6725    ,  0.5725    ,  1.1725    ,  1.3725    , -2.0275    ,\n",
       "         0.2725    ,  0.7725    , -2.5275    ,  0.2725    ,  2.1725    ],\n",
       "       [-0.9825    , -0.7825    ,  0.2175    , -0.9825    , -0.9825    ,\n",
       "         0.7175    ,  0.3175    , -0.9825    , -0.9825    , -1.0825    ,\n",
       "         0.7175    ,  0.4175    ,  0.3175    , -0.7825    , -0.9825    ,\n",
       "        -0.1825    ,  0.3175    ,  0.6175    ,  0.2175    ,  1.3175    ,\n",
       "         0.1175    ,  0.9175    ,  0.3175    , -0.9825    ,  0.8175    ,\n",
       "        -0.1825    , -0.9825    , -0.8825    , -0.7825    , -0.1825    ,\n",
       "         0.6175    , -0.9825    , -0.9825    , -0.6825    ,  0.1175    ,\n",
       "        -0.9825    ,  0.0175    ,  1.0175    , -0.9825    ,  0.1175    ,\n",
       "         0.8175    , -0.9825    ,  0.6175    ,  0.7175    , -0.1825    ,\n",
       "         0.3175    ,  1.1175    ,  0.1175    , -0.7825    , -0.1825    ,\n",
       "         0.7175    , -0.9825    , -0.9825    , -0.0825    ,  0.5175    ,\n",
       "        -1.0825    ,  1.2175    , -0.9825    , -0.5825    ,  0.6175    ,\n",
       "        -0.0825    ,  1.1175    ,  0.4175    ,  0.2175    ,  1.1175    ,\n",
       "         0.1175    , -0.9825    , -1.0825    ,  0.3175    ,  0.6175    ,\n",
       "        -0.9825    , -0.8825    , -0.9825    ,  0.3175    ,  1.2175    ,\n",
       "        -0.8825    ,  0.9175    ,  1.3175    , -0.9825    ,  0.2175    ,\n",
       "         0.3175    ,  0.6175    ,  0.2175    ,  1.1175    , -0.9825    ,\n",
       "         0.9175    ,  0.3175    ,  0.8175    , -0.1825    ,  0.2175    ,\n",
       "         0.2175    , -0.8825    ,  0.1175    ,  0.0175    , -0.9825    ,\n",
       "         0.1175    ,  0.6175    ,  0.9175    , -0.7825    , -0.1825    ,\n",
       "         1.3175    ,  0.4175    , -1.0825    ,  1.2175    , -0.9825    ,\n",
       "         0.3175    ,  0.7175    ,  0.6175    ,  0.1175    ,  0.6175    ,\n",
       "         0.1175    ,  0.1175    ,  0.8175    ,  0.6175    , -0.9825    ,\n",
       "         0.1175    ,  0.5175    , -0.9825    ,  0.0175    ,  0.9175    ]])"
      ]
     },
     "execution_count": 7,
     "metadata": {},
     "output_type": "execute_result"
    }
   ],
   "source": [
    "X_train"
   ]
  },
  {
   "cell_type": "code",
   "execution_count": 8,
   "id": "7b2b02a6-79f3-4193-b612-d52952fc744e",
   "metadata": {},
   "outputs": [],
   "source": [
    "Cv1=np.dot(X_train,X_train.T)\n",
    "Cv2=np.dot(X_test,X_test.T)"
   ]
  },
  {
   "cell_type": "code",
   "execution_count": 9,
   "id": "98a4d5d9-94e6-4fca-8088-e837ca3dabe3",
   "metadata": {},
   "outputs": [],
   "source": [
    "eigen_value1,eigen_vector1=np.linalg.eig(Cv1)\n",
    "eigen_value2,eigen_vector2=np.linalg.eig(Cv2)\n"
   ]
  },
  {
   "cell_type": "code",
   "execution_count": 10,
   "id": "4586d715-9a66-4ad2-90d9-3070422b6306",
   "metadata": {},
   "outputs": [],
   "source": [
    "Q1=eigen_vector1.T[0]\n",
    "Q2=eigen_vector2.T[0]"
   ]
  },
  {
   "cell_type": "code",
   "execution_count": 11,
   "id": "c0231981-d598-4b4e-9dbb-c40223b23ae6",
   "metadata": {},
   "outputs": [],
   "source": [
    "red_x_train=np.dot(X_tr.T,Q1.T)\n",
    "red_x_test=np.dot(X_ts.T,Q2.T)"
   ]
  },
  {
   "cell_type": "code",
   "execution_count": 39,
   "id": "711322c2-3123-41a9-aa5a-eb028f4b6e99",
   "metadata": {},
   "outputs": [
    {
     "data": {
      "text/plain": [
       "array([6.48301376, 3.37868613, 9.36080695, 6.37861702, 6.89723943,\n",
       "       3.16280886, 5.39146286, 7.49805426, 6.50033072, 5.6978117 ,\n",
       "       7.23523399, 2.77633974, 2.94861334, 2.89124567, 2.98882916,\n",
       "       6.66764342, 7.91950226, 5.60206016, 6.20280538, 7.72622741,\n",
       "       2.93311512, 6.85919897, 3.10197824, 7.68965285, 8.8141878 ,\n",
       "       7.51724619, 7.88102066, 8.13710826, 2.84948886, 2.97660066])"
      ]
     },
     "execution_count": 39,
     "metadata": {},
     "output_type": "execute_result"
    }
   ],
   "source": [
    "red_x_test"
   ]
  },
  {
   "cell_type": "markdown",
   "id": "76cd409f-53da-4bf7-a32b-0f5769385798",
   "metadata": {},
   "source": [
    "<h3 style=\"color:purple;\">Now Calculating Prior and Posterior Probability </h3>"
   ]
  },
  {
   "cell_type": "code",
   "execution_count": 13,
   "id": "c1c5cf4b-d053-4e36-991e-ce5b3e78da35",
   "metadata": {},
   "outputs": [],
   "source": [
    "def pdf(x,mean,std):\n",
    "    coefficient = 1 / (std * math.sqrt(2 * math.pi))\n",
    "    exponent = -((x - mean) ** 2) / (2 * std** 2)\n",
    "    return coefficient * math.exp(exponent)\n"
   ]
  },
  {
   "cell_type": "markdown",
   "id": "378664f1-84f9-47fb-ba73-a7af69321b53",
   "metadata": {},
   "source": [
    "### Extracting Different Classes"
   ]
  },
  {
   "cell_type": "code",
   "execution_count": 14,
   "id": "60d7d6aa-e329-46bc-a3e9-7aff7c161672",
   "metadata": {},
   "outputs": [],
   "source": [
    "setosa=[]\n",
    "virginica=[]\n",
    "versicolor=[]\n",
    "for i,v in enumerate(Y_train):\n",
    "    if v==\"Iris-setosa\":\n",
    "        setosa.append(red_x_train[i])\n",
    "    elif v==\"Iris-versicolor\":\n",
    "        versicolor.append(red_x_train[i])\n",
    "    elif v==\"Iris-virginica\":\n",
    "        virginica.append(red_x_train[i])\n",
    "    "
   ]
  },
  {
   "cell_type": "code",
   "execution_count": 15,
   "id": "4f4adbca-f23e-4e8e-8af7-c76461de2987",
   "metadata": {},
   "outputs": [],
   "source": [
    "mean_c1=mean_(setosa)\n",
    "mean_c2=mean_(versicolor)\n",
    "mean_c3=mean_(virginica)\n",
    "std_c1=std_(setosa)\n",
    "std_c2=std_(versicolor)\n",
    "std_c3=std_(virginica)"
   ]
  },
  {
   "cell_type": "markdown",
   "id": "d08fafeb-6af8-48fc-8ef1-d1a6ecdef7a2",
   "metadata": {},
   "source": [
    "### Calculating Prior Probability"
   ]
  },
  {
   "cell_type": "code",
   "execution_count": 16,
   "id": "438ed003-a455-4b95-9fd3-085acc864758",
   "metadata": {},
   "outputs": [
    {
     "data": {
      "text/plain": [
       "{'Iris-setosa': 0.3333333333333333,\n",
       " 'Iris-versicolor': 0.3416666666666667,\n",
       " 'Iris-virginica': 0.325}"
      ]
     },
     "execution_count": 16,
     "metadata": {},
     "output_type": "execute_result"
    }
   ],
   "source": [
    "def prior(arr):\n",
    "    dic={}\n",
    "    prior={}\n",
    "    for i in arr:\n",
    "        if i in dic:\n",
    "            dic[i]+=1\n",
    "        else:\n",
    "            dic[i]=1\n",
    "    for i in dic:\n",
    "        prior[i]= dic[i]/len(arr)\n",
    "    return prior\n",
    "        \n",
    "prior_prob=prior(Y_train)\n",
    "prior_prob"
   ]
  },
  {
   "cell_type": "markdown",
   "id": "8fe40b6b-c4e3-495a-b493-ddb1b9b4bab4",
   "metadata": {},
   "source": [
    "### Calculating Posterior Probability and Making Predictions"
   ]
  },
  {
   "cell_type": "code",
   "execution_count": 17,
   "id": "7feb1235-6b66-43ee-a33c-46a215393338",
   "metadata": {},
   "outputs": [],
   "source": [
    "l2=[]\n",
    "for i in prior_prob:\n",
    "    l2.append(prior_prob[i])\n",
    "y_pred=[]\n",
    "for i in red_x_test:\n",
    "    prob_c1=pdf(i,mean_c1,std_c1)*l2[0]\n",
    "    prob_c2=pdf(i,mean_c2,std_c2)*l2[1]\n",
    "    prob_c3=pdf(i,mean_c3,std_c3)*l2[2]\n",
    "    posterior=max(prob_c1,prob_c2,prob_c3)\n",
    "    if posterior==prob_c1:\n",
    "        y_pred.append(list(prior_prob.keys())[0])\n",
    "    elif posterior==prob_c2:\n",
    "        y_pred.append(list(prior_prob.keys())[1])\n",
    "    else:\n",
    "        y_pred.append(list(prior_prob.keys())[2])\n",
    "y_pred=np.array(y_pred)\n",
    "    "
   ]
  },
  {
   "cell_type": "code",
   "execution_count": 18,
   "id": "5302dcbe-dcb4-4350-998d-66fe6e959fa4",
   "metadata": {},
   "outputs": [
    {
     "data": {
      "text/plain": [
       "array(['Iris-versicolor', 'Iris-setosa', 'Iris-virginica',\n",
       "       'Iris-versicolor', 'Iris-virginica', 'Iris-setosa',\n",
       "       'Iris-versicolor', 'Iris-virginica', 'Iris-versicolor',\n",
       "       'Iris-versicolor', 'Iris-virginica', 'Iris-setosa', 'Iris-setosa',\n",
       "       'Iris-setosa', 'Iris-setosa', 'Iris-versicolor', 'Iris-virginica',\n",
       "       'Iris-versicolor', 'Iris-versicolor', 'Iris-virginica',\n",
       "       'Iris-setosa', 'Iris-virginica', 'Iris-setosa', 'Iris-virginica',\n",
       "       'Iris-virginica', 'Iris-virginica', 'Iris-virginica',\n",
       "       'Iris-virginica', 'Iris-setosa', 'Iris-setosa'], dtype='<U15')"
      ]
     },
     "execution_count": 18,
     "metadata": {},
     "output_type": "execute_result"
    }
   ],
   "source": [
    "y_pred"
   ]
  },
  {
   "cell_type": "markdown",
   "id": "9e2c8532-45ef-4af0-beb9-8089e6cc76b1",
   "metadata": {},
   "source": [
    "<h3 style=\"color:purple;\">Computing The Accuracy Score and Confusion Matrix</h3>"
   ]
  },
  {
   "cell_type": "code",
   "execution_count": 19,
   "id": "1dcd69bf-e9cc-4ed5-8f89-45338082b295",
   "metadata": {},
   "outputs": [],
   "source": [
    "def accuracy_score(y_test,y_pred):\n",
    "    if y_test.shape!=y_pred.shape:\n",
    "        raise ValueError(\"Accuracy Score cannot be calculated for different sizes\")\n",
    "        return\n",
    "    acc=0\n",
    "    for i,v in enumerate(y_test):\n",
    "        if v==y_pred[i]:\n",
    "            acc+=1\n",
    "    return (acc/len(y_test))*100 "
   ]
  },
  {
   "cell_type": "code",
   "execution_count": 20,
   "id": "44623d2c-fef9-4847-9eff-dc9c267157c2",
   "metadata": {},
   "outputs": [
    {
     "name": "stdout",
     "output_type": "stream",
     "text": [
      "The accuracy score for the dimension reduced data is 96.66666666666667 %\n"
     ]
    }
   ],
   "source": [
    "print(f'The accuracy score for the dimension reduced data is {accuracy_score(Y_test,y_pred)} %')"
   ]
  },
  {
   "cell_type": "markdown",
   "id": "3cc68397-ab4c-41e3-8406-4cf5983841c1",
   "metadata": {},
   "source": [
    "### Computing Confusion Matrix by user-defined function"
   ]
  },
  {
   "cell_type": "code",
   "execution_count": 21,
   "id": "a3882d77-b42f-4d25-a691-60ba0fd514fc",
   "metadata": {},
   "outputs": [],
   "source": [
    "def confusionmatrix(y_true,y_pred):\n",
    "    cm=np.zeros((3,3))\n",
    "\n",
    "    for i in range(len(y_true)):\n",
    "        if y_true[i] == 'Iris-setosa' and y_pred[i] == 'Iris-setosa':\n",
    "          cm[0, 0] += 1  \n",
    "        elif y_true[i] == 'Iris-versicolor' and y_pred[i] == 'Iris-setosa':\n",
    "          cm[1, 0] += 1  \n",
    "        elif y_true[i] == 'Iris-virginica' and y_pred[i] == 'Iris-setosa':\n",
    "          cm[2, 0] += 1 \n",
    "        elif y_true[i] == 'Iris-setosa' and y_pred[i] == 'Iris-versicolor':\n",
    "          cm[0, 1] += 1  \n",
    "        elif y_true[i] == 'Iris-versicolor' and y_pred[i] == 'Iris-versicolor':\n",
    "          cm[1, 1] += 1  \n",
    "        elif y_true[i] == 'Iris-virginica' and y_pred[i] == 'Iris-versicolor':\n",
    "          cm[2, 1] += 1  \n",
    "        elif y_true[i] == 'Iris-setosa' and y_pred[i] == 'Iris-virginica':\n",
    "          cm[0, 2] += 1 \n",
    "        elif y_true[i] == 'Iris-versicolor' and y_pred[i] == 'Iris-virginica':\n",
    "          cm[1, 2] += 1 \n",
    "        elif y_true[i] == 'Iris-virginica' and y_pred[i] == 'Iris-virginica':\n",
    "          cm[2, 2] += 1  \n",
    "    return cm"
   ]
  },
  {
   "cell_type": "code",
   "execution_count": 22,
   "id": "1135d31e-2663-4c9a-986d-8ca9f8a23f0e",
   "metadata": {
    "scrolled": true
   },
   "outputs": [
    {
     "data": {
      "text/plain": [
       "array([[10.,  0.,  0.],\n",
       "       [ 0.,  8.,  1.],\n",
       "       [ 0.,  0., 11.]])"
      ]
     },
     "execution_count": 22,
     "metadata": {},
     "output_type": "execute_result"
    }
   ],
   "source": [
    "confusionmatrix(Y_test,y_pred)"
   ]
  },
  {
   "cell_type": "markdown",
   "id": "b5bcd20f-830d-4170-b75a-3a040d6fae45",
   "metadata": {},
   "source": [
    "### Computing Confusion Matrix using Inbuilt Library"
   ]
  },
  {
   "cell_type": "code",
   "execution_count": 23,
   "id": "8ad240bb-5370-4fdf-a73b-5dd807ccac21",
   "metadata": {},
   "outputs": [
    {
     "data": {
      "text/plain": [
       "<sklearn.metrics._plot.confusion_matrix.ConfusionMatrixDisplay at 0x13639b45810>"
      ]
     },
     "execution_count": 23,
     "metadata": {},
     "output_type": "execute_result"
    },
    {
     "data": {
      "image/png": "[encoded data removed]",
      "text/plain": [
       "<Figure size 640x480 with 2 Axes>"
      ]
     },
     "metadata": {},
     "output_type": "display_data"
    }
   ],
   "source": [
    "from sklearn.metrics import confusion_matrix,ConfusionMatrixDisplay\n",
    "cm=confusion_matrix(Y_test,y_pred)\n",
    "cmp=ConfusionMatrixDisplay(cm,display_labels=prior_prob.keys())\n",
    "cmp.plot()\n"
   ]
  },
  {
   "cell_type": "markdown",
   "id": "9db086df-5ec8-44d6-b08b-ded5a9fdc23c",
   "metadata": {},
   "source": [
    "<h1 style=\"color:orange;\">Part - II</h1>"
   ]
  },
  {
   "cell_type": "code",
   "execution_count": 24,
   "id": "34182ff9-ac5c-4e24-97ff-9cdd90bcf025",
   "metadata": {
    "scrolled": true
   },
   "outputs": [
    {
     "data": {
      "text/plain": [
       "array([[6.1, 2.8, 4.7, 1.2],\n",
       "       [5.7, 3.8, 1.7, 0.3],\n",
       "       [7.7, 2.6, 6.9, 2.3],\n",
       "       [6. , 2.9, 4.5, 1.5],\n",
       "       [6.8, 2.8, 4.8, 1.4],\n",
       "       [5.4, 3.4, 1.5, 0.4],\n",
       "       [5.6, 2.9, 3.6, 1.3],\n",
       "       [6.9, 3.1, 5.1, 2.3],\n",
       "       [6.2, 2.2, 4.5, 1.5],\n",
       "       [5.8, 2.7, 3.9, 1.2],\n",
       "       [6.5, 3.2, 5.1, 2. ],\n",
       "       [4.8, 3. , 1.4, 0.1],\n",
       "       [5.5, 3.5, 1.3, 0.2],\n",
       "       [4.9, 3.1, 1.5, 0.1],\n",
       "       [5.1, 3.8, 1.5, 0.3],\n",
       "       [6.3, 3.3, 4.7, 1.6],\n",
       "       [6.5, 3. , 5.8, 2.2],\n",
       "       [5.6, 2.5, 3.9, 1.1],\n",
       "       [5.7, 2.8, 4.5, 1.3],\n",
       "       [6.4, 2.8, 5.6, 2.2],\n",
       "       [4.7, 3.2, 1.6, 0.2],\n",
       "       [6.1, 3. , 4.9, 1.8],\n",
       "       [5. , 3.4, 1.6, 0.4],\n",
       "       [6.4, 2.8, 5.6, 2.1],\n",
       "       [7.9, 3.8, 6.4, 2. ],\n",
       "       [6.7, 3. , 5.2, 2.3],\n",
       "       [6.7, 2.5, 5.8, 1.8],\n",
       "       [6.8, 3.2, 5.9, 2.3],\n",
       "       [4.8, 3. , 1.4, 0.3],\n",
       "       [4.8, 3.1, 1.6, 0.2]])"
      ]
     },
     "execution_count": 24,
     "metadata": {},
     "output_type": "execute_result"
    }
   ],
   "source": [
    "X_tr=X_tr.T\n",
    "Y_train\n",
    "X_ts=X_ts.T\n",
    "Y_test\n",
    "X_ts"
   ]
  },
  {
   "cell_type": "markdown",
   "id": "5eab4511-e336-4713-b2d4-2fbe330d8732",
   "metadata": {},
   "source": [
    "<h3 style=\"color:purple;\">Now Calculating Prior and Posterior Probability </h3>"
   ]
  },
  {
   "cell_type": "markdown",
   "id": "094316a8-0f2d-496a-bd7b-0cfe2f80aa4d",
   "metadata": {},
   "source": [
    "### Calculating the Posterior Probability"
   ]
  },
  {
   "cell_type": "code",
   "execution_count": 25,
   "id": "a4cb0f98-2591-4a9f-9881-58f449a68f61",
   "metadata": {},
   "outputs": [],
   "source": [
    "def prob_multidim(x,mu,cov):\n",
    "    a=x - mu\n",
    "    coef=1/(((2*math.pi)**2)*(np.linalg.det(cov)**0.5))\n",
    "    expo1= np.dot(a,np.linalg.inv(cov)).dot(a.T)\n",
    "    exponent=(-1*expo1)/2\n",
    "    return coef*np.exp(exponent)\n",
    "    "
   ]
  },
  {
   "cell_type": "code",
   "execution_count": 26,
   "id": "a6c952f0-9c5b-45be-9e69-6d7f840a392f",
   "metadata": {},
   "outputs": [],
   "source": [
    "setosa1=[]\n",
    "versicolor1=[]\n",
    "virginica1=[]\n",
    "for i,v in enumerate(Y_train):\n",
    "    if v==\"Iris-setosa\":\n",
    "        setosa1.append(X_tr[i])\n",
    "    elif v==\"Iris-versicolor\":\n",
    "        versicolor1.append(X_tr[i])\n",
    "    elif v==\"Iris-virginica\":\n",
    "        virginica1.append(X_tr[i])\n",
    "setosa1=np.array(setosa1)\n",
    "versicolor1=np.array(versicolor1)\n",
    "virginica1=np.array(virginica1)\n"
   ]
  },
  {
   "cell_type": "code",
   "execution_count": 27,
   "id": "e01cdd72-cec4-4ea8-ae99-87cd2ecd1fb8",
   "metadata": {},
   "outputs": [],
   "source": [
    "def mean_new(class1):\n",
    "    mean_ans=[]\n",
    "    data=class1.T\n",
    "    for i in data:\n",
    "           mean_ans.append(np.mean(i))\n",
    "    mean_ans=np.array(mean_ans)\n",
    "    return mean_ans"
   ]
  },
  {
   "cell_type": "code",
   "execution_count": 28,
   "id": "a8ce51c9-9f82-42c0-9a03-9744b3c9064b",
   "metadata": {},
   "outputs": [],
   "source": [
    "mean_c1=mean_new(setosa1)\n",
    "mean_c2=mean_new(versicolor1)\n",
    "mean_c3=mean_new(virginica1)\n",
    "cov_c1=np.dot((setosa1-mean_c1).T,(setosa1-mean_c1))/setosa1.shape[0]\n",
    "cov_c2=np.dot((versicolor1-mean_c2).T,(versicolor1-mean_c2))/versicolor1.shape[0]\n",
    "cov_c3=np.dot((virginica1-mean_c3).T,(virginica1-mean_c3))/virginica1.shape[0]"
   ]
  },
  {
   "cell_type": "code",
   "execution_count": 29,
   "id": "38e05fad-500e-4c84-bc5f-d120fa40cbb3",
   "metadata": {},
   "outputs": [
    {
     "data": {
      "text/plain": [
       "{'Iris-setosa': 0.3333333333333333,\n",
       " 'Iris-versicolor': 0.3416666666666667,\n",
       " 'Iris-virginica': 0.325}"
      ]
     },
     "execution_count": 29,
     "metadata": {},
     "output_type": "execute_result"
    }
   ],
   "source": [
    "prior_prob"
   ]
  },
  {
   "cell_type": "code",
   "execution_count": 30,
   "id": "5cb66e37-42ba-40a4-b329-ea0353095176",
   "metadata": {},
   "outputs": [
    {
     "data": {
      "text/plain": [
       "array([[ 20.79596731, -13.6935214 ,  -5.79557875,  -1.45522242],\n",
       "       [-13.6935214 ,  15.99821673,   2.03709134,  -4.54226026],\n",
       "       [ -5.79557875,   2.03709134,  35.59382225, -15.82508371],\n",
       "       [ -1.45522242,  -4.54226026, -15.82508371, 101.09304551]])"
      ]
     },
     "execution_count": 30,
     "metadata": {},
     "output_type": "execute_result"
    }
   ],
   "source": [
    "np.linalg.inv(cov_c1)"
   ]
  },
  {
   "cell_type": "code",
   "execution_count": 31,
   "id": "4165b768-0075-4854-88cb-3cffd82d1c0c",
   "metadata": {},
   "outputs": [],
   "source": [
    "prior_p=[]\n",
    "for i in prior_prob:\n",
    "    prior_p.append(prior_prob[i])"
   ]
  },
  {
   "cell_type": "markdown",
   "id": "04424cc8-2cea-4ade-b69d-72be9f1ad743",
   "metadata": {},
   "source": [
    "<h3 style=\"color:purple;\">Calculating Posterior Probability and making Predictions</h3>"
   ]
  },
  {
   "cell_type": "code",
   "execution_count": 32,
   "id": "666e1987-0396-44d2-b939-1bb3dc8e3275",
   "metadata": {},
   "outputs": [],
   "source": [
    "y_pred_new=[]\n",
    "for i in X_ts:\n",
    "    prob_c1=prob_multidim(i,mean_c1,cov_c1)*prior_p[0]\n",
    "    prob_c2=prob_multidim(i,mean_c2,cov_c2)*prior_p[1]\n",
    "    prob_c3=prob_multidim(i,mean_c3,cov_c3)*prior_p[2]\n",
    "    ans=max(prob_c1,prob_c2,prob_c3)\n",
    "    # print(f'{i}-->{prob_c1}--->{prob_c2}--->{prob_c3}')\n",
    "    if ans==prob_c1:\n",
    "        y_pred_new.append(list(prior_prob.keys())[0])\n",
    "    elif ans==prob_c2:\n",
    "        y_pred_new.append(list(prior_prob.keys())[1])\n",
    "    elif ans==prob_c3:\n",
    "        y_pred_new.append(list(prior_prob.keys())[2])\n",
    "y_pred_new=np.array(y_pred_new)"
   ]
  },
  {
   "cell_type": "markdown",
   "id": "c6eb2442-e7f8-46e2-98a4-1f057a32a3e6",
   "metadata": {},
   "source": [
    "<h3 style=\"color:red;\">Computing Accuracy Score and Confusion Matrix </h3>"
   ]
  },
  {
   "cell_type": "code",
   "execution_count": 33,
   "id": "8bc4dbd7-9b7b-405b-b641-d15a6395b6b5",
   "metadata": {},
   "outputs": [
    {
     "name": "stdout",
     "output_type": "stream",
     "text": [
      "The accuracy score for the 4-D Data is 96.66666666666667%\n"
     ]
    }
   ],
   "source": [
    "print(f'The accuracy score for the 4-D Data is {accuracy_score(Y_test,y_pred_new)}%')"
   ]
  },
  {
   "cell_type": "markdown",
   "id": "4bacdb60-7207-4794-be17-1c079bf84793",
   "metadata": {},
   "source": [
    "### User Defined Function Confusion Matrix"
   ]
  },
  {
   "cell_type": "code",
   "execution_count": 34,
   "id": "9db06e7e-5fc0-409d-9cbf-cb19ace0c53d",
   "metadata": {},
   "outputs": [
    {
     "data": {
      "text/plain": [
       "array([[10.,  0.,  0.],\n",
       "       [ 0.,  8.,  1.],\n",
       "       [ 0.,  0., 11.]])"
      ]
     },
     "execution_count": 34,
     "metadata": {},
     "output_type": "execute_result"
    }
   ],
   "source": [
    "confusionmatrix(Y_test,y_pred_new)"
   ]
  },
  {
   "cell_type": "markdown",
   "id": "b3cf6be5-42d1-49df-9092-2e9253848673",
   "metadata": {},
   "source": [
    "### Confusion Matrix using Inbuilt Function"
   ]
  },
  {
   "cell_type": "code",
   "execution_count": 35,
   "id": "19c6c5f1-ad42-4e50-9d15-61037c78d25d",
   "metadata": {},
   "outputs": [
    {
     "data": {
      "text/plain": [
       "<sklearn.metrics._plot.confusion_matrix.ConfusionMatrixDisplay at 0x1364dd8c8d0>"
      ]
     },
     "execution_count": 35,
     "metadata": {},
     "output_type": "execute_result"
    },
    {
     "data": {
      "image/png": "[encoded data removed]",
      "text/plain": [
       "<Figure size 640x480 with 2 Axes>"
      ]
     },
     "metadata": {},
     "output_type": "display_data"
    }
   ],
   "source": [
    "cm_new=confusion_matrix(Y_test,y_pred_new)\n",
    "cmp_new=ConfusionMatrixDisplay(cm_new,display_labels=prior_prob.keys())\n",
    "cmp_new.plot()"
   ]
  },
  {
   "cell_type": "markdown",
   "id": "060d1b14-4c5f-4a6e-b08f-be20312e5f08",
   "metadata": {},
   "source": [
    "<h1 style=\"color:orange;\">Part - III</h1>"
   ]
  },
  {
   "cell_type": "code",
   "execution_count": 36,
   "id": "603fba8c-d13a-4d66-ab69-8fed2d895ecc",
   "metadata": {},
   "outputs": [],
   "source": [
    "accuracyscore_1=accuracy_score(Y_test,y_pred)\n",
    "accuracyscore_2=accuracy_score(Y_test,y_pred_new)"
   ]
  },
  {
   "cell_type": "code",
   "execution_count": 37,
   "id": "4fe65bea-8429-476b-8c4f-0f2e20746e42",
   "metadata": {},
   "outputs": [
    {
     "name": "stdout",
     "output_type": "stream",
     "text": [
      "The difference of the accuracy scores are coming out to be 0 .\n"
     ]
    }
   ],
   "source": [
    "print(f'The difference of the accuracy scores are coming out to be {round(accuracyscore_1-accuracyscore_2)} .')"
   ]
  }
 ],
 "metadata": {
  "kernelspec": {
   "display_name": "Python 3 (ipykernel)",
   "language": "python",
   "name": "python3"
  },
  "language_info": {
   "codemirror_mode": {
    "name": "ipython",
    "version": 3
   },
   "file_extension": ".py",
   "mimetype": "text/x-python",
   "name": "python",
   "nbconvert_exporter": "python",
   "pygments_lexer": "ipython3",
   "version": "3.11.1"
  }
 },
 "nbformat": 4,
 "nbformat_minor": 5
}
