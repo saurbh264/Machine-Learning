{
 "cells": [
  {
   "cell_type": "markdown",
   "id": "90f1c140-3a4a-4a13-aa8c-bd84ed56cf56",
   "metadata": {},
   "source": [
    "<h1 style=\"color: skyblue;\">Assignment-1</h1>\n",
    "<h2 style=\"color: orange;\">Q2</h2>"
   ]
  },
  {
   "cell_type": "code",
   "execution_count": 1,
   "id": "1fa77922-a038-4124-8dc2-985c3a10d86f",
   "metadata": {},
   "outputs": [],
   "source": [
    "import pandas as pd\n",
    "import numpy as np"
   ]
  },
  {
   "cell_type": "code",
   "execution_count": 2,
   "id": "58f85605-6de7-4d4e-9d39-264f05e8175a",
   "metadata": {},
   "outputs": [
    {
     "name": "stdout",
     "output_type": "stream",
     "text": [
      "(945, 9)\n"
     ]
    }
   ],
   "source": [
    "df=pd.read_csv(\"landslide_data_miss.csv\")\n",
    "print(df.shape)"
   ]
  },
  {
   "cell_type": "code",
   "execution_count": 3,
   "id": "6ba25ea6-1759-4760-a73b-f227ef1dbe55",
   "metadata": {},
   "outputs": [],
   "source": [
    "df1=df.dropna(subset=['stationid'])"
   ]
  },
  {
   "cell_type": "code",
   "execution_count": 4,
   "id": "d6d7b22c-ac3e-461c-9e2f-a0c754bafe04",
   "metadata": {},
   "outputs": [
    {
     "name": "stdout",
     "output_type": "stream",
     "text": [
      "(926, 9)\n"
     ]
    }
   ],
   "source": [
    "print(df1.shape)"
   ]
  },
  {
   "cell_type": "code",
   "execution_count": 5,
   "id": "7f360aa0-9de7-4460-9bda-a77f75101bf4",
   "metadata": {},
   "outputs": [],
   "source": [
    "df1=df1.dropna(thresh=df.shape[1]/3)"
   ]
  },
  {
   "cell_type": "code",
   "execution_count": 6,
   "id": "65d72142-0093-4761-8bc1-1d99f063ead9",
   "metadata": {},
   "outputs": [
    {
     "name": "stdout",
     "output_type": "stream",
     "text": [
      "(912, 9)\n"
     ]
    }
   ],
   "source": [
    "print(df1.shape)"
   ]
  },
  {
   "cell_type": "code",
   "execution_count": 7,
   "id": "c2da87f1-367f-41b4-a205-b02ceee241b1",
   "metadata": {},
   "outputs": [],
   "source": [
    "df2=df"
   ]
  },
  {
   "cell_type": "code",
   "execution_count": 8,
   "id": "eb3b23b7-2ce0-4bd4-a0f7-8f347ca65c8b",
   "metadata": {},
   "outputs": [],
   "source": [
    "df2=df2.set_index('dates')"
   ]
  },
  {
   "cell_type": "code",
   "execution_count": 9,
   "id": "61a2a661-e945-49d6-bb71-73d4007cec1e",
   "metadata": {},
   "outputs": [
    {
     "data": {
      "text/html": [
       "<div>\n",
       "<style scoped>\n",
       "    .dataframe tbody tr th:only-of-type {\n",
       "        vertical-align: middle;\n",
       "    }\n",
       "\n",
       "    .dataframe tbody tr th {\n",
       "        vertical-align: top;\n",
       "    }\n",
       "\n",
       "    .dataframe thead th {\n",
       "        text-align: right;\n",
       "    }\n",
       "</style>\n",
       "<table border=\"1\" class=\"dataframe\">\n",
       "  <thead>\n",
       "    <tr style=\"text-align: right;\">\n",
       "      <th></th>\n",
       "      <th>stationid</th>\n",
       "      <th>temperature</th>\n",
       "      <th>humidity</th>\n",
       "      <th>pressure</th>\n",
       "      <th>rain</th>\n",
       "      <th>lightavg</th>\n",
       "      <th>lightmax</th>\n",
       "      <th>moisture</th>\n",
       "    </tr>\n",
       "    <tr>\n",
       "      <th>dates</th>\n",
       "      <th></th>\n",
       "      <th></th>\n",
       "      <th></th>\n",
       "      <th></th>\n",
       "      <th></th>\n",
       "      <th></th>\n",
       "      <th></th>\n",
       "      <th></th>\n",
       "    </tr>\n",
       "  </thead>\n",
       "  <tbody>\n",
       "    <tr>\n",
       "      <th>08-07-2018</th>\n",
       "      <td>t10</td>\n",
       "      <td>25.46875</td>\n",
       "      <td>82.18750</td>\n",
       "      <td>1036.346875</td>\n",
       "      <td>6.75</td>\n",
       "      <td>5.5000</td>\n",
       "      <td>4000.0</td>\n",
       "      <td>0.0000</td>\n",
       "    </tr>\n",
       "    <tr>\n",
       "      <th>09-07-2018</th>\n",
       "      <td>t10</td>\n",
       "      <td>26.19298</td>\n",
       "      <td>83.14912</td>\n",
       "      <td>1037.604386</td>\n",
       "      <td>1761.75</td>\n",
       "      <td>11.8448</td>\n",
       "      <td>4000.0</td>\n",
       "      <td>5.6930</td>\n",
       "    </tr>\n",
       "    <tr>\n",
       "      <th>10-07-2018</th>\n",
       "      <td>t10</td>\n",
       "      <td>25.17021</td>\n",
       "      <td>85.34043</td>\n",
       "      <td>1037.889362</td>\n",
       "      <td>652.50</td>\n",
       "      <td>8.7692</td>\n",
       "      <td>4000.0</td>\n",
       "      <td>NaN</td>\n",
       "    </tr>\n",
       "    <tr>\n",
       "      <th>11-07-2018</th>\n",
       "      <td>t10</td>\n",
       "      <td>NaN</td>\n",
       "      <td>87.68657</td>\n",
       "      <td>1036.857463</td>\n",
       "      <td>963.00</td>\n",
       "      <td>8.8358</td>\n",
       "      <td>4000.0</td>\n",
       "      <td>6.0373</td>\n",
       "    </tr>\n",
       "    <tr>\n",
       "      <th>12-07-2018</th>\n",
       "      <td>t10</td>\n",
       "      <td>24.06923</td>\n",
       "      <td>87.64615</td>\n",
       "      <td>1027.830769</td>\n",
       "      <td>254.25</td>\n",
       "      <td>274.6232</td>\n",
       "      <td>4333.0</td>\n",
       "      <td>31.2385</td>\n",
       "    </tr>\n",
       "  </tbody>\n",
       "</table>\n",
       "</div>"
      ],
      "text/plain": [
       "           stationid  temperature  humidity     pressure     rain  lightavg  \\\n",
       "dates                                                                         \n",
       "08-07-2018       t10     25.46875  82.18750  1036.346875     6.75    5.5000   \n",
       "09-07-2018       t10     26.19298  83.14912  1037.604386  1761.75   11.8448   \n",
       "10-07-2018       t10     25.17021  85.34043  1037.889362   652.50    8.7692   \n",
       "11-07-2018       t10          NaN  87.68657  1036.857463   963.00    8.8358   \n",
       "12-07-2018       t10     24.06923  87.64615  1027.830769   254.25  274.6232   \n",
       "\n",
       "            lightmax  moisture  \n",
       "dates                           \n",
       "08-07-2018    4000.0    0.0000  \n",
       "09-07-2018    4000.0    5.6930  \n",
       "10-07-2018    4000.0       NaN  \n",
       "11-07-2018    4000.0    6.0373  \n",
       "12-07-2018    4333.0   31.2385  "
      ]
     },
     "execution_count": 9,
     "metadata": {},
     "output_type": "execute_result"
    }
   ],
   "source": [
    "df2.head(5)"
   ]
  },
  {
   "cell_type": "code",
   "execution_count": 10,
   "id": "d2eef59b-554f-44cb-8fa6-ef7b52aacc51",
   "metadata": {},
   "outputs": [],
   "source": [
    "def interpolate(df):\n",
    "    for i,v in enumerate(df):\n",
    "        if pd.isnull(df.iloc[i]) and i>0 and i< df.shape[0]-1:\n",
    "            prev_index=i-1\n",
    "            next_index=i+1\n",
    "            while next_index<df.shape[0] and pd.isnull(df.iloc[next_index]):\n",
    "                next_index+=1\n",
    "            if next_index<df.shape[0]:\n",
    "                ip= df.iloc[prev_index] + (i-prev_index)*(df.iloc[next_index]-df.iloc[prev_index])/(next_index-prev_index)\n",
    "                df.iat[i]=ip\n",
    "\n",
    "            "
   ]
  },
  {
   "cell_type": "code",
   "execution_count": 11,
   "id": "4b94b666-c9ec-4f4d-9006-93a40d05d5e5",
   "metadata": {},
   "outputs": [
    {
     "data": {
      "text/plain": [
       "['stationid',\n",
       " 'temperature',\n",
       " 'humidity',\n",
       " 'pressure',\n",
       " 'rain',\n",
       " 'lightavg',\n",
       " 'lightmax',\n",
       " 'moisture']"
      ]
     },
     "execution_count": 11,
     "metadata": {},
     "output_type": "execute_result"
    }
   ],
   "source": [
    "columns=df2.columns.tolist()\n",
    "columns"
   ]
  },
  {
   "cell_type": "code",
   "execution_count": 12,
   "id": "f31fbc53-2127-46cf-a6e1-ef32dac3b8ad",
   "metadata": {},
   "outputs": [],
   "source": [
    "for i in columns:\n",
    "    if (i!='stationid' and i!='dates'):\n",
    "        interpolate(df2[i])\n",
    "\n"
   ]
  },
  {
   "cell_type": "code",
   "execution_count": 13,
   "id": "afa900e2-ed10-4888-8de0-db917ad12ecd",
   "metadata": {},
   "outputs": [
    {
     "data": {
      "text/plain": [
       "stationid      19\n",
       "temperature     0\n",
       "humidity        0\n",
       "pressure        0\n",
       "rain            0\n",
       "lightavg        0\n",
       "lightmax        0\n",
       "moisture        0\n",
       "dtype: int64"
      ]
     },
     "execution_count": 13,
     "metadata": {},
     "output_type": "execute_result"
    }
   ],
   "source": [
    "df2.isnull().sum()"
   ]
  },
  {
   "cell_type": "code",
   "execution_count": null,
   "id": "0cd703d3-eefd-4872-881b-f7045164e671",
   "metadata": {},
   "outputs": [],
   "source": []
  },
  {
   "cell_type": "code",
   "execution_count": 14,
   "id": "ccf7efbf-63f0-42ef-88db-bc9058441794",
   "metadata": {},
   "outputs": [
    {
     "data": {
      "text/html": [
       "<div>\n",
       "<style scoped>\n",
       "    .dataframe tbody tr th:only-of-type {\n",
       "        vertical-align: middle;\n",
       "    }\n",
       "\n",
       "    .dataframe tbody tr th {\n",
       "        vertical-align: top;\n",
       "    }\n",
       "\n",
       "    .dataframe thead th {\n",
       "        text-align: right;\n",
       "    }\n",
       "</style>\n",
       "<table border=\"1\" class=\"dataframe\">\n",
       "  <thead>\n",
       "    <tr style=\"text-align: right;\">\n",
       "      <th></th>\n",
       "      <th>stationid</th>\n",
       "      <th>temperature</th>\n",
       "      <th>humidity</th>\n",
       "      <th>pressure</th>\n",
       "      <th>rain</th>\n",
       "      <th>lightavg</th>\n",
       "      <th>lightmax</th>\n",
       "      <th>moisture</th>\n",
       "    </tr>\n",
       "    <tr>\n",
       "      <th>dates</th>\n",
       "      <th></th>\n",
       "      <th></th>\n",
       "      <th></th>\n",
       "      <th></th>\n",
       "      <th></th>\n",
       "      <th></th>\n",
       "      <th></th>\n",
       "      <th></th>\n",
       "    </tr>\n",
       "  </thead>\n",
       "  <tbody>\n",
       "    <tr>\n",
       "      <th>28-09-2018</th>\n",
       "      <td>t13</td>\n",
       "      <td>22.86957</td>\n",
       "      <td>62.00000</td>\n",
       "      <td>1011.727826</td>\n",
       "      <td>0.00</td>\n",
       "      <td>69.9167</td>\n",
       "      <td>4000.0</td>\n",
       "      <td>73.3913</td>\n",
       "    </tr>\n",
       "    <tr>\n",
       "      <th>11-08-2018</th>\n",
       "      <td>t14</td>\n",
       "      <td>23.81690</td>\n",
       "      <td>99.00000</td>\n",
       "      <td>1006.567535</td>\n",
       "      <td>144.00</td>\n",
       "      <td>650.0122</td>\n",
       "      <td>2259.0</td>\n",
       "      <td>66.0704</td>\n",
       "    </tr>\n",
       "    <tr>\n",
       "      <th>01-09-2018</th>\n",
       "      <td>t14</td>\n",
       "      <td>25.51376</td>\n",
       "      <td>95.46789</td>\n",
       "      <td>908.822110</td>\n",
       "      <td>15.75</td>\n",
       "      <td>1057.5570</td>\n",
       "      <td>4000.0</td>\n",
       "      <td>66.2752</td>\n",
       "    </tr>\n",
       "    <tr>\n",
       "      <th>04-08-2018</th>\n",
       "      <td>t8</td>\n",
       "      <td>22.40230</td>\n",
       "      <td>97.87356</td>\n",
       "      <td>1006.325172</td>\n",
       "      <td>949.50</td>\n",
       "      <td>1160.1818</td>\n",
       "      <td>6056.0</td>\n",
       "      <td>89.8276</td>\n",
       "    </tr>\n",
       "    <tr>\n",
       "      <th>30-08-2018</th>\n",
       "      <td>t9</td>\n",
       "      <td>23.74820</td>\n",
       "      <td>98.23022</td>\n",
       "      <td>1015.427266</td>\n",
       "      <td>4212.00</td>\n",
       "      <td>483.6400</td>\n",
       "      <td>4000.0</td>\n",
       "      <td>97.9784</td>\n",
       "    </tr>\n",
       "    <tr>\n",
       "      <th>15-09-2018</th>\n",
       "      <td>t8</td>\n",
       "      <td>21.49296</td>\n",
       "      <td>93.75352</td>\n",
       "      <td>1017.014507</td>\n",
       "      <td>105.75</td>\n",
       "      <td>2837.5584</td>\n",
       "      <td>6415.0</td>\n",
       "      <td>97.1479</td>\n",
       "    </tr>\n",
       "  </tbody>\n",
       "</table>\n",
       "</div>"
      ],
      "text/plain": [
       "           stationid  temperature  humidity     pressure     rain   lightavg  \\\n",
       "dates                                                                          \n",
       "28-09-2018       t13     22.86957  62.00000  1011.727826     0.00    69.9167   \n",
       "11-08-2018       t14     23.81690  99.00000  1006.567535   144.00   650.0122   \n",
       "01-09-2018       t14     25.51376  95.46789   908.822110    15.75  1057.5570   \n",
       "04-08-2018        t8     22.40230  97.87356  1006.325172   949.50  1160.1818   \n",
       "30-08-2018        t9     23.74820  98.23022  1015.427266  4212.00   483.6400   \n",
       "15-09-2018        t8     21.49296  93.75352  1017.014507   105.75  2837.5584   \n",
       "\n",
       "            lightmax  moisture  \n",
       "dates                           \n",
       "28-09-2018    4000.0   73.3913  \n",
       "11-08-2018    2259.0   66.0704  \n",
       "01-09-2018    4000.0   66.2752  \n",
       "04-08-2018    6056.0   89.8276  \n",
       "30-08-2018    4000.0   97.9784  \n",
       "15-09-2018    6415.0   97.1479  "
      ]
     },
     "execution_count": 14,
     "metadata": {},
     "output_type": "execute_result"
    }
   ],
   "source": [
    "df2.sample(6)"
   ]
  },
  {
   "cell_type": "code",
   "execution_count": 15,
   "id": "1734ecd2-54f0-4bcf-9b5c-3603e37a86ee",
   "metadata": {},
   "outputs": [],
   "source": [
    "cols=df2.iloc[:,1:].columns.tolist()\n",
    "    "
   ]
  },
  {
   "cell_type": "code",
   "execution_count": 16,
   "id": "1e9eac09-2d7a-4d89-9606-c67d1db1595f",
   "metadata": {},
   "outputs": [
    {
     "data": {
      "text/plain": [
       "['temperature',\n",
       " 'humidity',\n",
       " 'pressure',\n",
       " 'rain',\n",
       " 'lightavg',\n",
       " 'lightmax',\n",
       " 'moisture']"
      ]
     },
     "execution_count": 16,
     "metadata": {},
     "output_type": "execute_result"
    }
   ],
   "source": [
    "cols"
   ]
  },
  {
   "cell_type": "code",
   "execution_count": 17,
   "id": "fd4b5fba-a9bf-46a9-b00a-24a905623795",
   "metadata": {},
   "outputs": [],
   "source": [
    "\n",
    "def mean_(df):\n",
    "    newf={}\n",
    "    for i in df[cols]:\n",
    "        sum1=0\n",
    "        for j in df[i]:\n",
    "            sum1+=j\n",
    "        mean1=round(sum1/df[i].shape[0],1)\n",
    "        newf[i]=mean1\n",
    "    return newf\n",
    "        "
   ]
  },
  {
   "cell_type": "code",
   "execution_count": 18,
   "id": "c4a668d1-14b4-4545-9aa2-4cf13979fcf2",
   "metadata": {},
   "outputs": [
    {
     "data": {
      "text/plain": [
       "{'temperature': 21.2,\n",
       " 'humidity': 83.5,\n",
       " 'pressure': 1009.3,\n",
       " 'rain': 10651.6,\n",
       " 'lightavg': 4486.3,\n",
       " 'lightmax': 21517.2,\n",
       " 'moisture': 32.3}"
      ]
     },
     "execution_count": 18,
     "metadata": {},
     "output_type": "execute_result"
    }
   ],
   "source": [
    "miss_ans=mean_(df2)\n",
    "miss_ans"
   ]
  },
  {
   "cell_type": "code",
   "execution_count": 19,
   "id": "15eef6f2-65b3-47d3-9b00-4b15186e3615",
   "metadata": {},
   "outputs": [],
   "source": [
    "original=pd.read_csv(\"landslide_data_original.csv\")"
   ]
  },
  {
   "cell_type": "code",
   "execution_count": 20,
   "id": "910c0182-6c3c-4452-aeea-a342a81a4222",
   "metadata": {},
   "outputs": [],
   "source": [
    "original_ans=mean_(original)"
   ]
  },
  {
   "cell_type": "code",
   "execution_count": 21,
   "id": "fe8e8514-e1df-4e8c-b490-6ceb25e066c3",
   "metadata": {},
   "outputs": [
    {
     "data": {
      "text/plain": [
       "{'temperature': 21.2,\n",
       " 'humidity': 83.5,\n",
       " 'pressure': 1009.0,\n",
       " 'rain': 10701.5,\n",
       " 'lightavg': 4438.4,\n",
       " 'lightmax': 21788.6,\n",
       " 'moisture': 32.4}"
      ]
     },
     "execution_count": 21,
     "metadata": {},
     "output_type": "execute_result"
    }
   ],
   "source": [
    "original_ans"
   ]
  },
  {
   "cell_type": "code",
   "execution_count": 22,
   "id": "99ee2169-806d-4566-b906-898fd9597e8b",
   "metadata": {},
   "outputs": [],
   "source": [
    "def median_(df):\n",
    "    dic = {}\n",
    "    for i in cols:\n",
    "        sorted_col = df[i].sort_values() \n",
    "        if sorted_col.shape[0] % 2 == 0:\n",
    "            med =round( (sorted_col.iloc[sorted_col.shape[0] // 2 - 1] + sorted_col.iloc[sorted_col.shape[0] // 2]) / 2 ,1)\n",
    "        else:\n",
    "            med = round(sorted_col.iloc[sorted_col.shape[0] // 2],1)\n",
    "        dic[i] = med\n",
    "    return dic\n"
   ]
  },
  {
   "cell_type": "code",
   "execution_count": 23,
   "id": "bef9dfe2-d0ea-4bbc-aae5-d614386a5657",
   "metadata": {},
   "outputs": [
    {
     "data": {
      "text/plain": [
       "{'temperature': 22.2,\n",
       " 'humidity': 91.4,\n",
       " 'pressure': 1014.7,\n",
       " 'rain': 22.5,\n",
       " 'lightavg': 1623.5,\n",
       " 'lightmax': 6569.0,\n",
       " 'moisture': 16.3}"
      ]
     },
     "execution_count": 23,
     "metadata": {},
     "output_type": "execute_result"
    }
   ],
   "source": [
    "med_miss=median_(df2)\n",
    "med_miss"
   ]
  },
  {
   "cell_type": "code",
   "execution_count": 24,
   "id": "2f2fb772-0142-4643-a696-a97bf8676467",
   "metadata": {},
   "outputs": [],
   "source": [
    "med_original=median_(original)"
   ]
  },
  {
   "cell_type": "code",
   "execution_count": 25,
   "id": "4e83180d-d2ae-42e0-8bba-a9d339964c1c",
   "metadata": {},
   "outputs": [
    {
     "data": {
      "text/plain": [
       "{'temperature': 22.3,\n",
       " 'humidity': 91.4,\n",
       " 'pressure': 1014.7,\n",
       " 'rain': 18.0,\n",
       " 'lightavg': 1656.9,\n",
       " 'lightmax': 6634,\n",
       " 'moisture': 16.7}"
      ]
     },
     "execution_count": 25,
     "metadata": {},
     "output_type": "execute_result"
    }
   ],
   "source": [
    "med_original"
   ]
  },
  {
   "cell_type": "code",
   "execution_count": 26,
   "id": "7ab84eb3-0705-4985-aa2b-1ee6458b19e7",
   "metadata": {},
   "outputs": [],
   "source": [
    "def std_(df):\n",
    "   dic={}\n",
    "   for i in df[cols]:\n",
    "        sigma=0\n",
    "        mean1=sum(df[i])/df[i].shape[0]\n",
    "        for j in df[i]:\n",
    "            sigma=sum((df[i]-mean1)**2)\n",
    "        std=np.sqrt(sigma/df[i].shape[0])\n",
    "        dic[i]=round(std,1)\n",
    "   return dic\n",
    "    # return mean"
   ]
  },
  {
   "cell_type": "code",
   "execution_count": 27,
   "id": "e4bf134a-948c-4de4-8079-225abc8e47e3",
   "metadata": {},
   "outputs": [
    {
     "data": {
      "text/plain": [
       "{'temperature': 4.3,\n",
       " 'humidity': 18.2,\n",
       " 'pressure': 46.0,\n",
       " 'rain': 24766.4,\n",
       " 'lightavg': 7569.8,\n",
       " 'lightmax': 21923.6,\n",
       " 'moisture': 33.6}"
      ]
     },
     "execution_count": 27,
     "metadata": {},
     "output_type": "execute_result"
    }
   ],
   "source": [
    "miss_std=std_(df2)\n",
    "miss_std"
   ]
  },
  {
   "cell_type": "code",
   "execution_count": 28,
   "id": "eecd176c-75e4-48c5-bdad-c10cd95330a3",
   "metadata": {},
   "outputs": [
    {
     "data": {
      "text/plain": [
       "{'temperature': 4.4,\n",
       " 'humidity': 18.2,\n",
       " 'pressure': 47.0,\n",
       " 'rain': 24839.1,\n",
       " 'lightavg': 7569.2,\n",
       " 'lightmax': 22053.3,\n",
       " 'moisture': 33.6}"
      ]
     },
     "execution_count": 28,
     "metadata": {},
     "output_type": "execute_result"
    }
   ],
   "source": [
    "original_std=std_(original)\n",
    "original_std"
   ]
  },
  {
   "cell_type": "code",
   "execution_count": 29,
   "id": "f0e14203-27b5-4936-bd00-44b90c4d04be",
   "metadata": {},
   "outputs": [
    {
     "name": "stdout",
     "output_type": "stream",
     "text": [
      "             original_mean  missing_mean  original_median  missing_median  original_std  miss_std\n",
      "temperature           21.2          21.2             22.3            22.2           4.4       4.3\n",
      "humidity              83.5          83.5             91.4            91.4          18.2      18.2\n",
      "pressure            1009.0        1009.3           1014.7          1014.7          47.0      46.0\n",
      "rain               10701.5       10651.6             18.0            22.5       24839.1   24766.4\n",
      "lightavg            4438.4        4486.3           1656.9          1623.5        7569.2    7569.8\n",
      "lightmax           21788.6       21517.2           6634.0          6569.0       22053.3   21923.6\n",
      "moisture              32.4          32.3             16.7            16.3          33.6      33.6\n"
     ]
    }
   ],
   "source": [
    "data = {'original_mean': original_ans,\n",
    "        'missing_mean': miss_ans,\n",
    "        'original_median': med_original,\n",
    "        'missing_median': med_miss,\n",
    "        'original_std': original_std,\n",
    "        'miss_std': miss_std}\n",
    "\n",
    "df = pd.DataFrame(data)\n",
    "pd.set_option('display.expand_frame_repr', False)\n",
    "print(df)\n"
   ]
  },
  {
   "cell_type": "code",
   "execution_count": 30,
   "id": "e8afb7d0-ec2d-4679-b47c-b1282853d999",
   "metadata": {},
   "outputs": [],
   "source": [
    "original.set_index('dates', inplace=True)"
   ]
  },
  {
   "cell_type": "code",
   "execution_count": 31,
   "id": "bd2d53c5-5b09-47a1-b0bd-7d81e2562fc8",
   "metadata": {},
   "outputs": [
    {
     "data": {
      "text/plain": [
       "(945, 8)"
      ]
     },
     "execution_count": 31,
     "metadata": {},
     "output_type": "execute_result"
    }
   ],
   "source": [
    "df2.shape"
   ]
  },
  {
   "cell_type": "code",
   "execution_count": 32,
   "id": "9302bae7-fa59-444d-938e-7bac99a8083f",
   "metadata": {},
   "outputs": [
    {
     "data": {
      "text/plain": [
       "(945, 8)"
      ]
     },
     "execution_count": 32,
     "metadata": {},
     "output_type": "execute_result"
    }
   ],
   "source": [
    "original.shape"
   ]
  },
  {
   "cell_type": "code",
   "execution_count": 33,
   "id": "de50ec4d-56c8-4ff0-a5a0-efec0f8f07f2",
   "metadata": {},
   "outputs": [
    {
     "data": {
      "text/html": [
       "<div>\n",
       "<style scoped>\n",
       "    .dataframe tbody tr th:only-of-type {\n",
       "        vertical-align: middle;\n",
       "    }\n",
       "\n",
       "    .dataframe tbody tr th {\n",
       "        vertical-align: top;\n",
       "    }\n",
       "\n",
       "    .dataframe thead th {\n",
       "        text-align: right;\n",
       "    }\n",
       "</style>\n",
       "<table border=\"1\" class=\"dataframe\">\n",
       "  <thead>\n",
       "    <tr style=\"text-align: right;\">\n",
       "      <th></th>\n",
       "      <th>stationid</th>\n",
       "      <th>temperature</th>\n",
       "      <th>humidity</th>\n",
       "      <th>pressure</th>\n",
       "      <th>rain</th>\n",
       "      <th>lightavg</th>\n",
       "      <th>lightmax</th>\n",
       "      <th>moisture</th>\n",
       "    </tr>\n",
       "    <tr>\n",
       "      <th>dates</th>\n",
       "      <th></th>\n",
       "      <th></th>\n",
       "      <th></th>\n",
       "      <th></th>\n",
       "      <th></th>\n",
       "      <th></th>\n",
       "      <th></th>\n",
       "      <th></th>\n",
       "    </tr>\n",
       "  </thead>\n",
       "  <tbody>\n",
       "    <tr>\n",
       "      <th>08-07-2018</th>\n",
       "      <td>t10</td>\n",
       "      <td>25.46875</td>\n",
       "      <td>82.18750</td>\n",
       "      <td>1036.346875</td>\n",
       "      <td>6.75</td>\n",
       "      <td>5.5000</td>\n",
       "      <td>4000.0</td>\n",
       "      <td>0.00000</td>\n",
       "    </tr>\n",
       "    <tr>\n",
       "      <th>09-07-2018</th>\n",
       "      <td>t10</td>\n",
       "      <td>26.19298</td>\n",
       "      <td>83.14912</td>\n",
       "      <td>1037.604386</td>\n",
       "      <td>1761.75</td>\n",
       "      <td>11.8448</td>\n",
       "      <td>4000.0</td>\n",
       "      <td>5.69300</td>\n",
       "    </tr>\n",
       "    <tr>\n",
       "      <th>10-07-2018</th>\n",
       "      <td>t10</td>\n",
       "      <td>25.17021</td>\n",
       "      <td>85.34043</td>\n",
       "      <td>1037.889362</td>\n",
       "      <td>652.50</td>\n",
       "      <td>8.7692</td>\n",
       "      <td>4000.0</td>\n",
       "      <td>5.86515</td>\n",
       "    </tr>\n",
       "    <tr>\n",
       "      <th>11-07-2018</th>\n",
       "      <td>t10</td>\n",
       "      <td>24.61972</td>\n",
       "      <td>87.68657</td>\n",
       "      <td>1036.857463</td>\n",
       "      <td>963.00</td>\n",
       "      <td>8.8358</td>\n",
       "      <td>4000.0</td>\n",
       "      <td>6.03730</td>\n",
       "    </tr>\n",
       "    <tr>\n",
       "      <th>12-07-2018</th>\n",
       "      <td>t10</td>\n",
       "      <td>24.06923</td>\n",
       "      <td>87.64615</td>\n",
       "      <td>1027.830769</td>\n",
       "      <td>254.25</td>\n",
       "      <td>274.6232</td>\n",
       "      <td>4333.0</td>\n",
       "      <td>31.23850</td>\n",
       "    </tr>\n",
       "  </tbody>\n",
       "</table>\n",
       "</div>"
      ],
      "text/plain": [
       "           stationid  temperature  humidity     pressure     rain  lightavg  lightmax  moisture\n",
       "dates                                                                                          \n",
       "08-07-2018       t10     25.46875  82.18750  1036.346875     6.75    5.5000    4000.0   0.00000\n",
       "09-07-2018       t10     26.19298  83.14912  1037.604386  1761.75   11.8448    4000.0   5.69300\n",
       "10-07-2018       t10     25.17021  85.34043  1037.889362   652.50    8.7692    4000.0   5.86515\n",
       "11-07-2018       t10     24.61972  87.68657  1036.857463   963.00    8.8358    4000.0   6.03730\n",
       "12-07-2018       t10     24.06923  87.64615  1027.830769   254.25  274.6232    4333.0  31.23850"
      ]
     },
     "execution_count": 33,
     "metadata": {},
     "output_type": "execute_result"
    }
   ],
   "source": [
    "df2.head()"
   ]
  },
  {
   "cell_type": "code",
   "execution_count": 34,
   "id": "b89f98f7-6aca-4f9f-a414-c7f3e710f4be",
   "metadata": {},
   "outputs": [
    {
     "data": {
      "text/plain": [
       "['temperature',\n",
       " 'humidity',\n",
       " 'pressure',\n",
       " 'rain',\n",
       " 'lightavg',\n",
       " 'lightmax',\n",
       " 'moisture']"
      ]
     },
     "execution_count": 34,
     "metadata": {},
     "output_type": "execute_result"
    }
   ],
   "source": [
    "cols"
   ]
  },
  {
   "cell_type": "code",
   "execution_count": 35,
   "id": "b53f04fd-46bc-4e3e-8c05-c9b0db0794ec",
   "metadata": {},
   "outputs": [],
   "source": [
    "def rmse(df1,df2):\n",
    "    dic={}\n",
    "    for i in cols:\n",
    "        top=sum((df1[i].values-df2[i].values)**2)\n",
    "        rmse=np.sqrt(top/df1.shape[0])\n",
    "        dic[i]=round(rmse,2)\n",
    "    return dic\n",
    "        \n",
    "    \n",
    "        \n",
    "        \n",
    "        "
   ]
  },
  {
   "cell_type": "code",
   "execution_count": 36,
   "id": "c96e87b5-054b-4991-9d80-f7946ab8d6f3",
   "metadata": {},
   "outputs": [
    {
     "data": {
      "text/plain": [
       "{'temperature': 0.49,\n",
       " 'humidity': 0.84,\n",
       " 'pressure': 7.03,\n",
       " 'rain': 1206.15,\n",
       " 'lightavg': 1241.59,\n",
       " 'lightmax': 3830.83,\n",
       " 'moisture': 1.27}"
      ]
     },
     "execution_count": 36,
     "metadata": {},
     "output_type": "execute_result"
    }
   ],
   "source": [
    "rmse_ans=rmse(original,df2)\n",
    "rmse_ans"
   ]
  },
  {
   "cell_type": "code",
   "execution_count": 37,
   "id": "38fd3c60-c058-4a58-8f9a-80962fbf5c27",
   "metadata": {},
   "outputs": [
    {
     "data": {
      "text/plain": [
       "Text(0, 0.5, 'RMSE--------->')"
      ]
     },
     "execution_count": 37,
     "metadata": {},
     "output_type": "execute_result"
    },
    {
     "data": {
      "image/png": "[encoded data removed]",
      "text/plain": [
       "<Figure size 640x480 with 1 Axes>"
      ]
     },
     "metadata": {},
     "output_type": "display_data"
    }
   ],
   "source": [
    "import matplotlib.pyplot as plt\n",
    "colors = [1,2,3,4,5,6,7]\n",
    "plt.scatter(rmse_ans.keys(),rmse_ans.values(),c=colors)\n",
    "plt.xlabel(\"Attributes-------->\")\n",
    "plt.ylabel(\"RMSE--------->\")"
   ]
  },
  {
   "cell_type": "markdown",
   "id": "85c4c6e7-0ae8-4e8e-bfe5-854fc428eb89",
   "metadata": {},
   "source": [
    "<h2 style=\"color: orange;\">Q3</h2>"
   ]
  },
  {
   "cell_type": "code",
   "execution_count": 39,
   "id": "f5a49ff5-e2c9-495b-a87f-6d404a9732ba",
   "metadata": {},
   "outputs": [],
   "source": [
    "def outl(df):\n",
    "    dic={}\n",
    "    for i in cols:\n",
    "        iqr=df[i].quantile(0.75)-df[i].quantile(0.25)\n",
    "        mini=df[i].quantile(0.25)- 1.5*iqr\n",
    "        maxi=df[i].quantile(0.75)+1.5*iqr\n",
    "        col_out=[]\n",
    "        for j in df[i]:\n",
    "            if j<mini or j>maxi:\n",
    "                col_out.append(j)\n",
    "        dic[i]=col_out\n",
    "    return dic\n",
    "        "
   ]
  },
  {
   "cell_type": "code",
   "execution_count": 40,
   "id": "4e653776-79db-49b2-b785-12d1fe2b39bc",
   "metadata": {},
   "outputs": [
    {
     "data": {
      "image/png": "[encoded data removed]",
      "text/plain": [
       "<Figure size 640x480 with 1 Axes>"
      ]
     },
     "metadata": {},
     "output_type": "display_data"
    },
    {
     "data": {
      "image/png": "[encoded data removed]",
      "text/plain": [
       "<Figure size 640x480 with 1 Axes>"
      ]
     },
     "metadata": {},
     "output_type": "display_data"
    },
    {
     "data": {
      "image/png": "[encoded data removed]",
      "text/plain": [
       "<Figure size 640x480 with 1 Axes>"
      ]
     },
     "metadata": {},
     "output_type": "display_data"
    },
    {
     "data": {
      "image/png": "[encoded data removed]",
      "text/plain": [
       "<Figure size 640x480 with 1 Axes>"
      ]
     },
     "metadata": {},
     "output_type": "display_data"
    },
    {
     "data": {
      "image/png": "[encoded data removed]",
      "text/plain": [
       "<Figure size 640x480 with 1 Axes>"
      ]
     },
     "metadata": {},
     "output_type": "display_data"
    },
    {
     "data": {
      "image/png": "[encoded data removed]",
      "text/plain": [
       "<Figure size 640x480 with 1 Axes>"
      ]
     },
     "metadata": {},
     "output_type": "display_data"
    },
    {
     "data": {
      "image/png": "[encoded data removed]",
      "text/plain": [
       "<Figure size 640x480 with 1 Axes>"
      ]
     },
     "metadata": {},
     "output_type": "display_data"
    }
   ],
   "source": [
    "for i in cols:\n",
    "    plt.boxplot(df2[i])\n",
    "    plt.title(i)\n",
    "    plt.show()"
   ]
  },
  {
   "cell_type": "code",
   "execution_count": 41,
   "id": "a1c44e75-d8f7-4389-beda-1f3961c7a91c",
   "metadata": {},
   "outputs": [],
   "source": [
    "outliers=outl(df2)\n"
   ]
  },
  {
   "cell_type": "code",
   "execution_count": 42,
   "id": "39da2944-59a1-4e0e-8dfe-2816fb817108",
   "metadata": {},
   "outputs": [
    {
     "name": "stdout",
     "output_type": "stream",
     "text": [
      "{\n",
      "  \"temperature\": [\n",
      "    7.6729,\n",
      "    7.6729,\n",
      "    7.6729,\n",
      "    7.6729,\n",
      "    7.6729,\n",
      "    7.6729,\n",
      "    7.6729,\n",
      "    7.6729,\n",
      "    7.6729,\n",
      "    7.6729\n",
      "  ],\n",
      "  \"humidity\": [\n",
      "    31.0,\n",
      "    31.0,\n",
      "    31.07143,\n",
      "    34.26923,\n",
      "    34.26923,\n",
      "    34.26923,\n",
      "    34.26923,\n",
      "    34.26923,\n",
      "    34.26923,\n",
      "    34.26923,\n",
      "    34.26923,\n",
      "    34.26923,\n",
      "    34.26923,\n",
      "    34.26923,\n",
      "    34.26923,\n",
      "    34.26923,\n",
      "    34.26923,\n",
      "    34.26923,\n",
      "    34.26923,\n",
      "    34.26923,\n",
      "    34.26923,\n",
      "    34.26923,\n",
      "    34.26923,\n",
      "    34.26923,\n",
      "    34.26923,\n",
      "    34.26923,\n",
      "    31.0,\n",
      "    31.0,\n",
      "    31.0,\n",
      "    31.0,\n",
      "    31.0,\n",
      "    34.20567\n",
      "  ],\n",
      "  \"pressure\": [\n",
      "    1037.889362,\n",
      "    991.6541121,\n",
      "    800.0,\n",
      "    894.634,\n",
      "    894.0100735,\n",
      "    893.8089565,\n",
      "    789.3926923,\n",
      "    812.4557229,\n",
      "    893.6775373,\n",
      "    973.53853615,\n",
      "    1053.399535,\n",
      "    1044.148333,\n",
      "    882.735,\n",
      "    991.693617,\n",
      "    986.093007,\n",
      "    990.115493,\n",
      "    987.0530657,\n",
      "    588.4661972,\n",
      "    452.0978873,\n",
      "    1054.751163,\n",
      "    1055.439552,\n",
      "    1055.291791,\n",
      "    1054.119048,\n",
      "    1053.457778,\n",
      "    1053.315672,\n",
      "    1053.218045,\n",
      "    1053.413077,\n",
      "    1054.634586,\n",
      "    1052.657576,\n",
      "    1053.548855,\n",
      "    1054.71791,\n",
      "    1053.056716,\n",
      "    1052.4664175,\n",
      "    1051.876119,\n",
      "    1054.952239,\n",
      "    1052.053731,\n",
      "    1050.310526,\n",
      "    1052.415789,\n",
      "    1055.583582,\n",
      "    1055.833333,\n",
      "    1055.343651,\n",
      "    1056.08797,\n",
      "    1057.887313,\n",
      "    1055.096183,\n",
      "    1055.103093,\n",
      "    967.86592,\n",
      "    1048.197118,\n",
      "    1048.875159,\n",
      "    1050.871681,\n",
      "    1051.672632,\n",
      "    1053.282778,\n",
      "    1053.110952,\n",
      "    1054.945532,\n",
      "    1055.168358,\n",
      "    1055.459697,\n",
      "    1054.461462,\n",
      "    1053.450301,\n",
      "    1053.168731,\n",
      "    1053.02097,\n",
      "    1053.229254,\n",
      "    1054.279627,\n",
      "    1052.305682,\n",
      "    1053.224286,\n",
      "    1054.594478,\n",
      "    1052.967836,\n",
      "    1051.022463,\n",
      "    1051.827176,\n",
      "    1054.972609,\n",
      "    1051.857402,\n",
      "    1050.13303,\n",
      "    1052.262406,\n",
      "    1055.29097,\n",
      "    1056.560455,\n",
      "    1055.047236,\n",
      "    1055.766767,\n",
      "    1057.711343,\n",
      "    1054.865224,\n",
      "    1054.739381,\n",
      "    899.1026415,\n",
      "    899.2087975,\n",
      "    925.655540375,\n",
      "    952.10228325,\n",
      "    978.549026125,\n",
      "    789.3926923,\n",
      "    789.3926923,\n",
      "    789.3926923,\n",
      "    844.601269225,\n",
      "    899.80984615,\n",
      "    955.018423075,\n",
      "    789.3926923,\n",
      "    908.8221101,\n",
      "    686.7717431,\n",
      "    942.5096471,\n",
      "    842.2871698,\n",
      "    827.5075926,\n",
      "    789.3926923,\n",
      "    789.3926923,\n",
      "    789.3926923,\n",
      "    789.3926923,\n",
      "    789.3926923,\n",
      "    789.3926923,\n",
      "    789.3926923,\n",
      "    789.3926923,\n",
      "    907.0687879,\n",
      "    900.4232,\n",
      "    899.7149306,\n",
      "    789.3926923,\n",
      "    825.8940909,\n",
      "    1037.7249923749998,\n",
      "    1041.7099104999998,\n",
      "    1045.694828625,\n",
      "    1049.6797467499998,\n",
      "    1053.6646648749997,\n",
      "    1057.649583,\n",
      "    1057.195278,\n",
      "    1057.530647,\n",
      "    1058.100146,\n",
      "    1058.941773,\n",
      "    1059.348873,\n",
      "    1059.07,\n",
      "    1059.228333,\n",
      "    1066.85,\n",
      "    1066.857547,\n",
      "    794.6072549,\n",
      "    732.2822222,\n",
      "    950.606,\n",
      "    1079.162,\n",
      "    990.0,\n",
      "    992.6545833,\n",
      "    990.0,\n",
      "    984.0891429,\n",
      "    927.4593103\n",
      "  ],\n",
      "  \"rain\": [\n",
      "    13583.25,\n",
      "    6791.625,\n",
      "    15459.75,\n",
      "    14001.75,\n",
      "    16571.25,\n",
      "    13666.5,\n",
      "    59982.75,\n",
      "    80000.0,\n",
      "    75048.75,\n",
      "    80000.0,\n",
      "    80000.0,\n",
      "    80000.0,\n",
      "    80000.0,\n",
      "    3930.5,\n",
      "    36636.75,\n",
      "    40789.0,\n",
      "    2470.5,\n",
      "    63256.5,\n",
      "    54616.5,\n",
      "    50172.75,\n",
      "    37928.25,\n",
      "    26178.75,\n",
      "    3138.75,\n",
      "    3449.25,\n",
      "    18884.25,\n",
      "    9765.0,\n",
      "    18976.5,\n",
      "    30393.0,\n",
      "    2814.75,\n",
      "    25697.25,\n",
      "    80000.0,\n",
      "    82037.25,\n",
      "    56319.75,\n",
      "    71968.5,\n",
      "    80000.0,\n",
      "    80000.0,\n",
      "    50242.5,\n",
      "    80000.0,\n",
      "    80000.0,\n",
      "    80000.0,\n",
      "    80000.0,\n",
      "    80000.0,\n",
      "    80000.0,\n",
      "    80000.0,\n",
      "    80000.0,\n",
      "    80000.0,\n",
      "    80000.0,\n",
      "    80000.0,\n",
      "    80000.0,\n",
      "    80000.0,\n",
      "    80000.0,\n",
      "    80000.0,\n",
      "    80000.0,\n",
      "    80000.0,\n",
      "    80000.0,\n",
      "    80000.0,\n",
      "    80000.0,\n",
      "    80000.0,\n",
      "    80000.0,\n",
      "    80000.0,\n",
      "    80000.0,\n",
      "    80000.0,\n",
      "    80000.0,\n",
      "    80000.0,\n",
      "    80000.0,\n",
      "    80000.0,\n",
      "    80000.0,\n",
      "    80000.0,\n",
      "    60675.75,\n",
      "    41463.0,\n",
      "    22250.25,\n",
      "    2637.0,\n",
      "    80000.0,\n",
      "    80000.0,\n",
      "    80000.0,\n",
      "    80000.0,\n",
      "    80000.0,\n",
      "    80000.0,\n",
      "    80000.0,\n",
      "    37392.75,\n",
      "    49725.0,\n",
      "    80000.0,\n",
      "    80000.0,\n",
      "    71154.0,\n",
      "    80000.0,\n",
      "    80000.0,\n",
      "    12854.25,\n",
      "    34879.5,\n",
      "    4610.25,\n",
      "    6210.0,\n",
      "    10557.0,\n",
      "    3451.5,\n",
      "    3312.0,\n",
      "    18285.75,\n",
      "    3613.5,\n",
      "    2893.5,\n",
      "    23474.25,\n",
      "    14042.25,\n",
      "    3647.25,\n",
      "    5877.0,\n",
      "    10062.0,\n",
      "    17997.75,\n",
      "    29517.75,\n",
      "    32514.75,\n",
      "    13943.25,\n",
      "    4212.0,\n",
      "    4691.25,\n",
      "    7519.5,\n",
      "    11112.75,\n",
      "    2821.5,\n",
      "    33941.25,\n",
      "    43643.25,\n",
      "    20664.0,\n",
      "    11144.25,\n",
      "    18587.25,\n",
      "    18373.5,\n",
      "    15646.5,\n",
      "    12915.0,\n",
      "    49916.25,\n",
      "    24522.75,\n",
      "    75105.0,\n",
      "    73417.5,\n",
      "    70580.25,\n",
      "    78126.75,\n",
      "    56097.0,\n",
      "    6061.5,\n",
      "    38355.75,\n",
      "    55509.75,\n",
      "    43974.0,\n",
      "    6747.75,\n",
      "    54843.75,\n",
      "    59377.5,\n",
      "    58320.0,\n",
      "    60963.75,\n",
      "    63342.0,\n",
      "    67378.5,\n",
      "    70929.0,\n",
      "    73158.75,\n",
      "    71367.75,\n",
      "    73838.25,\n",
      "    46732.5,\n",
      "    48429.0,\n",
      "    67830.75,\n",
      "    75447.0,\n",
      "    74646.0,\n",
      "    75402.0,\n",
      "    75723.75,\n",
      "    74254.5,\n",
      "    75201.75,\n",
      "    77044.5,\n",
      "    74472.75,\n",
      "    77503.5,\n",
      "    78180.75,\n",
      "    79915.5,\n",
      "    80583.75,\n",
      "    80482.5,\n",
      "    79337.25,\n",
      "    79317.0,\n",
      "    70823.25,\n",
      "    75638.25,\n",
      "    73752.75,\n",
      "    65893.5,\n",
      "    72774.0,\n",
      "    7773.75,\n",
      "    12037.5,\n",
      "    79839.0,\n",
      "    78633.0,\n",
      "    78779.25,\n",
      "    76662.0,\n",
      "    67252.5,\n",
      "    74913.75,\n",
      "    4869.0,\n",
      "    41618.25,\n",
      "    58443.75,\n",
      "    74173.5,\n",
      "    72445.5,\n",
      "    65873.25,\n",
      "    67675.5,\n",
      "    61989.75,\n",
      "    71237.25,\n",
      "    73577.25,\n",
      "    65301.75,\n",
      "    73534.5,\n",
      "    72283.5,\n",
      "    71799.75\n",
      "  ],\n",
      "  \"lightavg\": [\n",
      "    14148.9787,\n",
      "    12035.2787,\n",
      "    48975.4779,\n",
      "    10962.3108,\n",
      "    15494.0,\n",
      "    11935.8103,\n",
      "    33387.9143,\n",
      "    19950.2388,\n",
      "    26803.4211,\n",
      "    11408.3929,\n",
      "    15445.631,\n",
      "    27306.0,\n",
      "    54612.0,\n",
      "    36428.0,\n",
      "    10667.6419,\n",
      "    12907.166000000001,\n",
      "    15146.6901,\n",
      "    22749.7333,\n",
      "    40962.0,\n",
      "    19799.3571,\n",
      "    14451.2727,\n",
      "    15609.4286,\n",
      "    19131.8182,\n",
      "    22228.9403,\n",
      "    16847.5844,\n",
      "    11115.2055,\n",
      "    19219.88,\n",
      "    21606.8533,\n",
      "    29345.32,\n",
      "    27873.9726,\n",
      "    29247.4521,\n",
      "    24249.1644,\n",
      "    45463.9348,\n",
      "    24249.1644,\n",
      "    23827.4583,\n",
      "    23827.4583,\n",
      "    23827.4583,\n",
      "    23827.4583,\n",
      "    23827.4583,\n",
      "    23827.4583,\n",
      "    23827.4583,\n",
      "    23827.4583,\n",
      "    22372.662,\n",
      "    22372.662,\n",
      "    22372.662,\n",
      "    21417.6986,\n",
      "    22063.5972,\n",
      "    22697.9014,\n",
      "    26060.11265,\n",
      "    29422.3239,\n",
      "    29422.3239,\n",
      "    29422.3239,\n",
      "    29422.3239,\n",
      "    29422.3239,\n",
      "    29422.3239,\n",
      "    29422.3239,\n",
      "    29422.3239,\n",
      "    29422.3239,\n",
      "    29422.3239,\n",
      "    29422.3239,\n",
      "    43040.9275,\n",
      "    36231.6257,\n",
      "    29422.3239,\n",
      "    29422.3239,\n",
      "    29422.3239,\n",
      "    10648.1014,\n",
      "    22179.8143,\n",
      "    29422.3239,\n",
      "    29422.3239,\n",
      "    29422.3239,\n",
      "    29422.3239,\n",
      "    29422.3239,\n",
      "    29422.3239,\n",
      "    29422.3239,\n",
      "    29422.3239,\n",
      "    29422.3239,\n",
      "    29422.3239,\n",
      "    29422.3239,\n",
      "    29422.3239,\n",
      "    29422.3239,\n",
      "    29422.3239,\n",
      "    29422.3239,\n",
      "    29422.3239,\n",
      "    29422.3239,\n",
      "    29422.3239,\n",
      "    29422.3239,\n",
      "    29842.5286,\n",
      "    16630.5588\n",
      "  ],\n",
      "  \"lightmax\": [],\n",
      "  \"moisture\": []\n",
      "}\n"
     ]
    }
   ],
   "source": [
    "import json\n",
    "str=json.dumps(outliers,indent=2)\n",
    "print(str)"
   ]
  },
  {
   "cell_type": "code",
   "execution_count": 43,
   "id": "309c1384-b839-44b2-8a44-6769fbe44b02",
   "metadata": {},
   "outputs": [],
   "source": [
    "def replacebymedian(df):\n",
    "    for i,v in enumerate(df):\n",
    "            iqr=df.quantile(0.75)-df.quantile(0.25)\n",
    "            mini=df.quantile(0.25)- 1.5*iqr\n",
    "            maxi=df.quantile(0.75)+ 1.5*iqr\n",
    "            sorted=df.sort_values(ascending=True)\n",
    "            median_=df.iloc[sorted.shape[0]//2]\n",
    "            if v>maxi or v<mini:\n",
    "                df.iat[i]=median_"
   ]
  },
  {
   "cell_type": "code",
   "execution_count": 44,
   "id": "7033abe5-904b-485c-a5a4-b8e5e63a1da4",
   "metadata": {},
   "outputs": [],
   "source": [
    "df4=df2"
   ]
  },
  {
   "cell_type": "code",
   "execution_count": 45,
   "id": "9b877a72-e18d-4494-95dd-19c158b61afc",
   "metadata": {},
   "outputs": [],
   "source": [
    "df3=df2\n",
    "for i in cols:\n",
    "    replacebymedian(df3[i])"
   ]
  },
  {
   "cell_type": "code",
   "execution_count": 46,
   "id": "c60acb38-4936-4dbb-9610-7165bd662ea4",
   "metadata": {},
   "outputs": [
    {
     "data": {
      "image/png": "[encoded data removed]",
      "text/plain": [
       "<Figure size 640x480 with 1 Axes>"
      ]
     },
     "metadata": {},
     "output_type": "display_data"
    },
    {
     "data": {
      "image/png": "[encoded data removed]",
      "text/plain": [
       "<Figure size 640x480 with 1 Axes>"
      ]
     },
     "metadata": {},
     "output_type": "display_data"
    },
    {
     "data": {
      "image/png": "[encoded data removed]",
      "text/plain": [
       "<Figure size 640x480 with 1 Axes>"
      ]
     },
     "metadata": {},
     "output_type": "display_data"
    },
    {
     "data": {
      "image/png": "[encoded data removed]",
      "text/plain": [
       "<Figure size 640x480 with 1 Axes>"
      ]
     },
     "metadata": {},
     "output_type": "display_data"
    },
    {
     "data": {
      "image/png": "[encoded data removed]",
      "text/plain": [
       "<Figure size 640x480 with 1 Axes>"
      ]
     },
     "metadata": {},
     "output_type": "display_data"
    },
    {
     "data": {
      "image/png": "[encoded data removed]",
      "text/plain": [
       "<Figure size 640x480 with 1 Axes>"
      ]
     },
     "metadata": {},
     "output_type": "display_data"
    },
    {
     "data": {
      "image/png": "[encoded data removed]",
      "text/plain": [
       "<Figure size 640x480 with 1 Axes>"
      ]
     },
     "metadata": {},
     "output_type": "display_data"
    }
   ],
   "source": [
    "for i in cols:\n",
    "    plt.boxplot(df3[i])\n",
    "    plt.title(i)\n",
    "    plt.show()"
   ]
  },
  {
   "cell_type": "markdown",
   "id": "fb49c5ca-9c1b-4c8c-9734-0d1f1794a600",
   "metadata": {},
   "source": [
    "<h2 style=\"color: orange;\">Q4</h2>"
   ]
  },
  {
   "cell_type": "code",
   "execution_count": 47,
   "id": "c685caf8-291d-4935-aa39-bd971d5b2ef8",
   "metadata": {},
   "outputs": [],
   "source": [
    "def normalization(df):\n",
    "    maxi=np.max(df)\n",
    "    mini=np.min(df)\n",
    "    upp,low=12,5\n",
    "    for i,v in enumerate(df):\n",
    "            nrml=(((v-mini)/(maxi-mini))*(upp-low))+low\n",
    "            df.iat[i]=nrml"
   ]
  },
  {
   "cell_type": "code",
   "execution_count": 48,
   "id": "23fab53d-7b1c-4f16-87a3-3c03d79fde75",
   "metadata": {},
   "outputs": [],
   "source": [
    "\n",
    "for i in cols:\n",
    "    normalization(df3[i])"
   ]
  },
  {
   "cell_type": "code",
   "execution_count": 49,
   "id": "9601cf15-a872-4d03-a3f2-926b8774f22c",
   "metadata": {},
   "outputs": [
    {
     "data": {
      "text/html": [
       "<div>\n",
       "<style scoped>\n",
       "    .dataframe tbody tr th:only-of-type {\n",
       "        vertical-align: middle;\n",
       "    }\n",
       "\n",
       "    .dataframe tbody tr th {\n",
       "        vertical-align: top;\n",
       "    }\n",
       "\n",
       "    .dataframe thead th {\n",
       "        text-align: right;\n",
       "    }\n",
       "</style>\n",
       "<table border=\"1\" class=\"dataframe\">\n",
       "  <thead>\n",
       "    <tr style=\"text-align: right;\">\n",
       "      <th></th>\n",
       "      <th>temperature</th>\n",
       "      <th>humidity</th>\n",
       "      <th>pressure</th>\n",
       "      <th>rain</th>\n",
       "      <th>lightavg</th>\n",
       "      <th>lightmax</th>\n",
       "      <th>moisture</th>\n",
       "    </tr>\n",
       "  </thead>\n",
       "  <tbody>\n",
       "    <tr>\n",
       "      <th>count</th>\n",
       "      <td>945.000000</td>\n",
       "      <td>945.000000</td>\n",
       "      <td>945.000000</td>\n",
       "      <td>945.000000</td>\n",
       "      <td>945.000000</td>\n",
       "      <td>945.000000</td>\n",
       "      <td>945.000000</td>\n",
       "    </tr>\n",
       "    <tr>\n",
       "      <th>mean</th>\n",
       "      <td>8.711452</td>\n",
       "      <td>10.316210</td>\n",
       "      <td>8.046533</td>\n",
       "      <td>5.421374</td>\n",
       "      <td>6.503971</td>\n",
       "      <td>7.574969</td>\n",
       "      <td>7.262920</td>\n",
       "    </tr>\n",
       "    <tr>\n",
       "      <th>std</th>\n",
       "      <td>1.351034</td>\n",
       "      <td>1.903058</td>\n",
       "      <td>1.038641</td>\n",
       "      <td>1.004306</td>\n",
       "      <td>1.468447</td>\n",
       "      <td>2.932901</td>\n",
       "      <td>2.352180</td>\n",
       "    </tr>\n",
       "    <tr>\n",
       "      <th>min</th>\n",
       "      <td>5.000000</td>\n",
       "      <td>5.000000</td>\n",
       "      <td>5.000000</td>\n",
       "      <td>5.000000</td>\n",
       "      <td>5.000000</td>\n",
       "      <td>5.000000</td>\n",
       "      <td>5.000000</td>\n",
       "    </tr>\n",
       "    <tr>\n",
       "      <th>25%</th>\n",
       "      <td>7.760941</td>\n",
       "      <td>9.278500</td>\n",
       "      <td>7.356904</td>\n",
       "      <td>5.000000</td>\n",
       "      <td>5.276306</td>\n",
       "      <td>5.232785</td>\n",
       "      <td>5.209510</td>\n",
       "    </tr>\n",
       "    <tr>\n",
       "      <th>50%</th>\n",
       "      <td>9.012168</td>\n",
       "      <td>11.232240</td>\n",
       "      <td>7.813023</td>\n",
       "      <td>5.000000</td>\n",
       "      <td>6.075635</td>\n",
       "      <td>5.576280</td>\n",
       "      <td>6.141462</td>\n",
       "    </tr>\n",
       "    <tr>\n",
       "      <th>75%</th>\n",
       "      <td>9.712139</td>\n",
       "      <td>11.857202</td>\n",
       "      <td>8.791643</td>\n",
       "      <td>5.152332</td>\n",
       "      <td>7.974096</td>\n",
       "      <td>12.000000</td>\n",
       "      <td>9.517499</td>\n",
       "    </tr>\n",
       "    <tr>\n",
       "      <th>max</th>\n",
       "      <td>12.000000</td>\n",
       "      <td>12.000000</td>\n",
       "      <td>12.000000</td>\n",
       "      <td>12.000000</td>\n",
       "      <td>12.000000</td>\n",
       "      <td>12.000000</td>\n",
       "      <td>12.000000</td>\n",
       "    </tr>\n",
       "  </tbody>\n",
       "</table>\n",
       "</div>"
      ],
      "text/plain": [
       "       temperature    humidity    pressure        rain    lightavg    lightmax    moisture\n",
       "count   945.000000  945.000000  945.000000  945.000000  945.000000  945.000000  945.000000\n",
       "mean      8.711452   10.316210    8.046533    5.421374    6.503971    7.574969    7.262920\n",
       "std       1.351034    1.903058    1.038641    1.004306    1.468447    2.932901    2.352180\n",
       "min       5.000000    5.000000    5.000000    5.000000    5.000000    5.000000    5.000000\n",
       "25%       7.760941    9.278500    7.356904    5.000000    5.276306    5.232785    5.209510\n",
       "50%       9.012168   11.232240    7.813023    5.000000    6.075635    5.576280    6.141462\n",
       "75%       9.712139   11.857202    8.791643    5.152332    7.974096   12.000000    9.517499\n",
       "max      12.000000   12.000000   12.000000   12.000000   12.000000   12.000000   12.000000"
      ]
     },
     "execution_count": 49,
     "metadata": {},
     "output_type": "execute_result"
    }
   ],
   "source": [
    "df3.describe()"
   ]
  },
  {
   "cell_type": "code",
   "execution_count": 50,
   "id": "22b04361-edff-4bed-9925-17a72f3ab5df",
   "metadata": {},
   "outputs": [],
   "source": [
    "def standardization(df):\n",
    "    mean_=np.mean(df)\n",
    "    std_=np.std(df)\n",
    "    for i,v in enumerate(df):\n",
    "            stnd=(v-mean_)/std_\n",
    "            df.iat[i]=stnd"
   ]
  },
  {
   "cell_type": "code",
   "execution_count": 51,
   "id": "a7a7d115-1723-483e-810e-a536c48b2f34",
   "metadata": {},
   "outputs": [
    {
     "data": {
      "text/html": [
       "<div>\n",
       "<style scoped>\n",
       "    .dataframe tbody tr th:only-of-type {\n",
       "        vertical-align: middle;\n",
       "    }\n",
       "\n",
       "    .dataframe tbody tr th {\n",
       "        vertical-align: top;\n",
       "    }\n",
       "\n",
       "    .dataframe thead th {\n",
       "        text-align: right;\n",
       "    }\n",
       "</style>\n",
       "<table border=\"1\" class=\"dataframe\">\n",
       "  <thead>\n",
       "    <tr style=\"text-align: right;\">\n",
       "      <th></th>\n",
       "      <th>temperature</th>\n",
       "      <th>humidity</th>\n",
       "      <th>pressure</th>\n",
       "      <th>rain</th>\n",
       "      <th>lightavg</th>\n",
       "      <th>lightmax</th>\n",
       "      <th>moisture</th>\n",
       "    </tr>\n",
       "  </thead>\n",
       "  <tbody>\n",
       "    <tr>\n",
       "      <th>count</th>\n",
       "      <td>945.000000</td>\n",
       "      <td>945.000000</td>\n",
       "      <td>945.000000</td>\n",
       "      <td>945.000000</td>\n",
       "      <td>945.000000</td>\n",
       "      <td>945.000000</td>\n",
       "      <td>945.000000</td>\n",
       "    </tr>\n",
       "    <tr>\n",
       "      <th>mean</th>\n",
       "      <td>8.711452</td>\n",
       "      <td>10.316210</td>\n",
       "      <td>8.046533</td>\n",
       "      <td>5.421374</td>\n",
       "      <td>6.503971</td>\n",
       "      <td>7.574969</td>\n",
       "      <td>7.262920</td>\n",
       "    </tr>\n",
       "    <tr>\n",
       "      <th>std</th>\n",
       "      <td>1.351034</td>\n",
       "      <td>1.903058</td>\n",
       "      <td>1.038641</td>\n",
       "      <td>1.004306</td>\n",
       "      <td>1.468447</td>\n",
       "      <td>2.932901</td>\n",
       "      <td>2.352180</td>\n",
       "    </tr>\n",
       "    <tr>\n",
       "      <th>min</th>\n",
       "      <td>5.000000</td>\n",
       "      <td>5.000000</td>\n",
       "      <td>5.000000</td>\n",
       "      <td>5.000000</td>\n",
       "      <td>5.000000</td>\n",
       "      <td>5.000000</td>\n",
       "      <td>5.000000</td>\n",
       "    </tr>\n",
       "    <tr>\n",
       "      <th>25%</th>\n",
       "      <td>7.760941</td>\n",
       "      <td>9.278500</td>\n",
       "      <td>7.356904</td>\n",
       "      <td>5.000000</td>\n",
       "      <td>5.276306</td>\n",
       "      <td>5.232785</td>\n",
       "      <td>5.209510</td>\n",
       "    </tr>\n",
       "    <tr>\n",
       "      <th>50%</th>\n",
       "      <td>9.012168</td>\n",
       "      <td>11.232240</td>\n",
       "      <td>7.813023</td>\n",
       "      <td>5.000000</td>\n",
       "      <td>6.075635</td>\n",
       "      <td>5.576280</td>\n",
       "      <td>6.141462</td>\n",
       "    </tr>\n",
       "    <tr>\n",
       "      <th>75%</th>\n",
       "      <td>9.712139</td>\n",
       "      <td>11.857202</td>\n",
       "      <td>8.791643</td>\n",
       "      <td>5.152332</td>\n",
       "      <td>7.974096</td>\n",
       "      <td>12.000000</td>\n",
       "      <td>9.517499</td>\n",
       "    </tr>\n",
       "    <tr>\n",
       "      <th>max</th>\n",
       "      <td>12.000000</td>\n",
       "      <td>12.000000</td>\n",
       "      <td>12.000000</td>\n",
       "      <td>12.000000</td>\n",
       "      <td>12.000000</td>\n",
       "      <td>12.000000</td>\n",
       "      <td>12.000000</td>\n",
       "    </tr>\n",
       "  </tbody>\n",
       "</table>\n",
       "</div>"
      ],
      "text/plain": [
       "       temperature    humidity    pressure        rain    lightavg    lightmax    moisture\n",
       "count   945.000000  945.000000  945.000000  945.000000  945.000000  945.000000  945.000000\n",
       "mean      8.711452   10.316210    8.046533    5.421374    6.503971    7.574969    7.262920\n",
       "std       1.351034    1.903058    1.038641    1.004306    1.468447    2.932901    2.352180\n",
       "min       5.000000    5.000000    5.000000    5.000000    5.000000    5.000000    5.000000\n",
       "25%       7.760941    9.278500    7.356904    5.000000    5.276306    5.232785    5.209510\n",
       "50%       9.012168   11.232240    7.813023    5.000000    6.075635    5.576280    6.141462\n",
       "75%       9.712139   11.857202    8.791643    5.152332    7.974096   12.000000    9.517499\n",
       "max      12.000000   12.000000   12.000000   12.000000   12.000000   12.000000   12.000000"
      ]
     },
     "execution_count": 51,
     "metadata": {},
     "output_type": "execute_result"
    }
   ],
   "source": [
    "df4.describe()"
   ]
  },
  {
   "cell_type": "code",
   "execution_count": 52,
   "id": "0f4d6278-e94e-42a0-ab9f-53ef87581b78",
   "metadata": {},
   "outputs": [],
   "source": [
    "for i in cols:\n",
    "    standardization(df4[i])"
   ]
  },
  {
   "cell_type": "code",
   "execution_count": 53,
   "id": "26eef9bc-001b-4df3-92d2-2d8673ea4fba",
   "metadata": {},
   "outputs": [
    {
     "data": {
      "text/html": [
       "<div>\n",
       "<style scoped>\n",
       "    .dataframe tbody tr th:only-of-type {\n",
       "        vertical-align: middle;\n",
       "    }\n",
       "\n",
       "    .dataframe tbody tr th {\n",
       "        vertical-align: top;\n",
       "    }\n",
       "\n",
       "    .dataframe thead th {\n",
       "        text-align: right;\n",
       "    }\n",
       "</style>\n",
       "<table border=\"1\" class=\"dataframe\">\n",
       "  <thead>\n",
       "    <tr style=\"text-align: right;\">\n",
       "      <th></th>\n",
       "      <th>temperature</th>\n",
       "      <th>humidity</th>\n",
       "      <th>pressure</th>\n",
       "      <th>rain</th>\n",
       "      <th>lightavg</th>\n",
       "      <th>lightmax</th>\n",
       "      <th>moisture</th>\n",
       "    </tr>\n",
       "  </thead>\n",
       "  <tbody>\n",
       "    <tr>\n",
       "      <th>count</th>\n",
       "      <td>945.00</td>\n",
       "      <td>945.00</td>\n",
       "      <td>945.00</td>\n",
       "      <td>945.00</td>\n",
       "      <td>945.00</td>\n",
       "      <td>945.00</td>\n",
       "      <td>945.00</td>\n",
       "    </tr>\n",
       "    <tr>\n",
       "      <th>mean</th>\n",
       "      <td>-0.00</td>\n",
       "      <td>-0.00</td>\n",
       "      <td>-0.00</td>\n",
       "      <td>-0.00</td>\n",
       "      <td>0.00</td>\n",
       "      <td>0.00</td>\n",
       "      <td>0.00</td>\n",
       "    </tr>\n",
       "    <tr>\n",
       "      <th>std</th>\n",
       "      <td>1.00</td>\n",
       "      <td>1.00</td>\n",
       "      <td>1.00</td>\n",
       "      <td>1.00</td>\n",
       "      <td>1.00</td>\n",
       "      <td>1.00</td>\n",
       "      <td>1.00</td>\n",
       "    </tr>\n",
       "    <tr>\n",
       "      <th>min</th>\n",
       "      <td>-2.75</td>\n",
       "      <td>-2.79</td>\n",
       "      <td>-2.93</td>\n",
       "      <td>-0.42</td>\n",
       "      <td>-1.02</td>\n",
       "      <td>-0.88</td>\n",
       "      <td>-0.96</td>\n",
       "    </tr>\n",
       "    <tr>\n",
       "      <th>25%</th>\n",
       "      <td>-0.70</td>\n",
       "      <td>-0.55</td>\n",
       "      <td>-0.66</td>\n",
       "      <td>-0.42</td>\n",
       "      <td>-0.84</td>\n",
       "      <td>-0.80</td>\n",
       "      <td>-0.87</td>\n",
       "    </tr>\n",
       "    <tr>\n",
       "      <th>50%</th>\n",
       "      <td>0.22</td>\n",
       "      <td>0.48</td>\n",
       "      <td>-0.22</td>\n",
       "      <td>-0.42</td>\n",
       "      <td>-0.29</td>\n",
       "      <td>-0.68</td>\n",
       "      <td>-0.48</td>\n",
       "    </tr>\n",
       "    <tr>\n",
       "      <th>75%</th>\n",
       "      <td>0.74</td>\n",
       "      <td>0.81</td>\n",
       "      <td>0.72</td>\n",
       "      <td>-0.27</td>\n",
       "      <td>1.00</td>\n",
       "      <td>1.51</td>\n",
       "      <td>0.96</td>\n",
       "    </tr>\n",
       "    <tr>\n",
       "      <th>max</th>\n",
       "      <td>2.44</td>\n",
       "      <td>0.89</td>\n",
       "      <td>3.81</td>\n",
       "      <td>6.55</td>\n",
       "      <td>3.74</td>\n",
       "      <td>1.51</td>\n",
       "      <td>2.01</td>\n",
       "    </tr>\n",
       "  </tbody>\n",
       "</table>\n",
       "</div>"
      ],
      "text/plain": [
       "       temperature  humidity  pressure    rain  lightavg  lightmax  moisture\n",
       "count       945.00    945.00    945.00  945.00    945.00    945.00    945.00\n",
       "mean         -0.00     -0.00     -0.00   -0.00      0.00      0.00      0.00\n",
       "std           1.00      1.00      1.00    1.00      1.00      1.00      1.00\n",
       "min          -2.75     -2.79     -2.93   -0.42     -1.02     -0.88     -0.96\n",
       "25%          -0.70     -0.55     -0.66   -0.42     -0.84     -0.80     -0.87\n",
       "50%           0.22      0.48     -0.22   -0.42     -0.29     -0.68     -0.48\n",
       "75%           0.74      0.81      0.72   -0.27      1.00      1.51      0.96\n",
       "max           2.44      0.89      3.81    6.55      3.74      1.51      2.01"
      ]
     },
     "execution_count": 53,
     "metadata": {},
     "output_type": "execute_result"
    }
   ],
   "source": [
    "round(df4.describe(),2)"
   ]
  },
  {
   "cell_type": "code",
   "execution_count": null,
   "id": "c2a1ba76-a7ea-490c-bb32-d30a8ea9e7fc",
   "metadata": {},
   "outputs": [],
   "source": []
  }
 ],
 "metadata": {
  "kernelspec": {
   "display_name": "Python 3 (ipykernel)",
   "language": "python",
   "name": "python3"
  },
  "language_info": {
   "codemirror_mode": {
    "name": "ipython",
    "version": 3
   },
   "file_extension": ".py",
   "mimetype": "text/x-python",
   "name": "python",
   "nbconvert_exporter": "python",
   "pygments_lexer": "ipython3",
   "version": "3.11.1"
  }
 },
 "nbformat": 4,
 "nbformat_minor": 5
}
