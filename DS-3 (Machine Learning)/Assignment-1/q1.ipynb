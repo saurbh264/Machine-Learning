{
 "cells": [
  {
   "cell_type": "markdown",
   "id": "b2ab3909-0b73-4388-b2d8-2d31bd1e47d4",
   "metadata": {},
   "source": [
    "<h1 style=\"color: #87CEEB;\">Assignment-1</h1>\n",
    "<h2 style=\"color: red;\">Part - A</h2>"
   ]
  },
  {
   "cell_type": "code",
   "execution_count": 1,
   "id": "7dd92b94-9107-4add-a0b1-13fd39a5ec39",
   "metadata": {},
   "outputs": [
    {
     "name": "stdout",
     "output_type": "stream",
     "text": [
      "There are 66 missing values in missing dataset.\n",
      " So Dropped Them.\n"
     ]
    }
   ],
   "source": [
    "import pandas as pd\n",
    "import numpy as np\n",
    "df=pd.read_csv(\"landslide_data_original.csv\")\n",
    "df2=pd.read_csv(\"landslide_data_miss.csv\")\n",
    "temp=df['temperature'].tolist()\n",
    "temp.sort()\n",
    "temp2=df2['temperature']\n",
    "print(f\"There are {temp2.isnull().sum()} missing values in missing dataset.\\n So Dropped Them.\")\n",
    "temp2=temp2.dropna()\n",
    "temp2=temp2.tolist()\n",
    "temp2.sort()"
   ]
  },
  {
   "cell_type": "code",
   "execution_count": 2,
   "id": "c524cbb0-842f-436c-8663-35875c3b1173",
   "metadata": {},
   "outputs": [],
   "source": [
    "#Mean\n",
    "def sumof(l1):\n",
    "    s=0\n",
    "    for i in l1:\n",
    "        s+=i\n",
    "    return s\n",
    "mean1=round((sumof(temp)/len(temp)),2)\n",
    "\n",
    "mean2=round(sumof(temp2)/len(temp2),2)"
   ]
  },
  {
   "cell_type": "code",
   "execution_count": 3,
   "id": "ed45db3e-4d30-4348-94ce-355d280fedea",
   "metadata": {},
   "outputs": [],
   "source": [
    "#Minimum\n",
    "def minof(l1):\n",
    "    min=10000\n",
    "    for i in l1:\n",
    "        if i<min:\n",
    "            min=i\n",
    "    return min\n",
    "\n",
    "mini1=round(minof(temp),2)\n",
    "mini2=round(minof(temp2),2)"
   ]
  },
  {
   "cell_type": "code",
   "execution_count": 4,
   "id": "c2d866e5-e78a-4df4-987e-c8e148f94015",
   "metadata": {},
   "outputs": [],
   "source": [
    "#Maximum\n",
    "def maxof(l1):\n",
    "    max=-10000\n",
    "    for i in l1:\n",
    "        if i>max:\n",
    "            max=i\n",
    "    return max\n",
    "\n",
    "maxi1=round(maxof(temp),2)\n",
    "maxi2=round(maxof(temp2),2)\n"
   ]
  },
  {
   "cell_type": "code",
   "execution_count": 5,
   "id": "b7337acf-27d6-44c5-8daf-03751204437e",
   "metadata": {},
   "outputs": [],
   "source": [
    "#Median\n",
    "\n",
    "median1=round(temp[int((len(temp)+1)/2)],2)\n",
    "median2=round(temp2[int((len(temp2)+1)/2)],2)"
   ]
  },
  {
   "cell_type": "code",
   "execution_count": 6,
   "id": "12ee555f-0765-4250-a1a7-7466a15431a7",
   "metadata": {},
   "outputs": [],
   "source": [
    "#Standard Deviation\n",
    "def stnd(l1,mean):\n",
    "    sigma = 0\n",
    "    for i in l1:\n",
    "        sigma += ((i - mean) ** 2)\n",
    "    std = np.sqrt(sigma / len(l1))\n",
    "    return std"
   ]
  },
  {
   "cell_type": "code",
   "execution_count": 7,
   "id": "02a45474-2faa-40b3-befb-453e17de3319",
   "metadata": {},
   "outputs": [],
   "source": [
    "std1=round(stnd(temp,mean1),2)\n",
    "std2=round(stnd(temp2,mean2),2)"
   ]
  },
  {
   "cell_type": "code",
   "execution_count": 8,
   "id": "d77b8ca6-8048-45e2-8bef-fe8574b96dc0",
   "metadata": {},
   "outputs": [
    {
     "name": "stdout",
     "output_type": "stream",
     "text": [
      "The statistical measures of Temperature attribute of Complete Data are:\n",
      "Mean: 21.21\n",
      "Minimum: 7.67\n",
      "Maximum: 31.38\n",
      "Since the no of terms is 945 in complete data which is odd.\n",
      "Median: 22.27\n",
      "Standard Deviation: 4.35\n"
     ]
    }
   ],
   "source": [
    "print(f'The statistical measures of Temperature attribute of Complete Data are:')\n",
    "print(f\"Mean: {mean1}\")\n",
    "print(f\"Minimum: {mini1}\")\n",
    "print(f'Maximum: {maxi1}')\n",
    "print(f\"Since the no of terms is {len(temp)} in complete data which is odd.\")\n",
    "print(f\"Median: {median1}\")\n",
    "print(f\"Standard Deviation: {std1}\")"
   ]
  },
  {
   "cell_type": "code",
   "execution_count": 9,
   "id": "176cc2ff-64ae-4c93-901d-5ee4799d24b7",
   "metadata": {},
   "outputs": [
    {
     "name": "stdout",
     "output_type": "stream",
     "text": [
      "The statistical measures of Temperature attribute of Incomplete Data are:\n",
      "Mean: 21.08\n",
      "Minimum: 7.67\n",
      "Maximum: 31.38\n",
      "Since the no of terms is 879 in missing data which is odd.\n",
      "Median: 22.11\n",
      "Standard Deviation: 4.4\n"
     ]
    }
   ],
   "source": [
    "print(f'The statistical measures of Temperature attribute of Incomplete Data are:')\n",
    "print(f\"Mean: {mean2}\")\n",
    "print(f\"Minimum: {mini2}\")\n",
    "print(f'Maximum: {maxi2}')\n",
    "print(f\"Since the no of terms is {len(temp2)} in missing data which is odd.\")\n",
    "print(f\"Median: {median2}\")\n",
    "print(f\"Standard Deviation: {std2}\")"
   ]
  },
  {
   "cell_type": "markdown",
   "id": "6d38135f-851c-4b92-b4d8-0469dd2f486c",
   "metadata": {},
   "source": [
    "<h2 style=\"color: Red;\">Part-B</h2>"
   ]
  },
  {
   "cell_type": "code",
   "execution_count": 10,
   "id": "fde20054-817a-471a-91f5-e32076cca948",
   "metadata": {},
   "outputs": [],
   "source": [
    "df=pd.read_csv(\"landslide_data_original.csv\")\n",
    "temp=df['temperature'].tolist()\n",
    "humi=df['humidity'].tolist()\n",
    "press=df['pressure'].tolist()\n",
    "rain=df['rain'].tolist()\n",
    "lavg=df['lightavg'].tolist()\n",
    "limax=df['lightmax'].tolist()\n",
    "mois=df['moisture'].tolist()"
   ]
  },
  {
   "cell_type": "code",
   "execution_count": 11,
   "id": "dcc77753-ee07-4ec4-983d-bb2ca290f788",
   "metadata": {},
   "outputs": [],
   "source": [
    "def mul(l1,l2):\n",
    "    l3=[]\n",
    "    for i in range(0,max(len(l1),len(l2))):\n",
    "        a=l1[i]*l2[i]\n",
    "        l3.append(a)\n",
    "    return l3"
   ]
  },
  {
   "cell_type": "code",
   "execution_count": 12,
   "id": "f49e028e-105b-4d59-b9a8-96ae988f78c3",
   "metadata": {},
   "outputs": [],
   "source": [
    "def crr(para1, para2):\n",
    "    l1 = []\n",
    "    l2 = []\n",
    "    l3 = []\n",
    "    l4 = []\n",
    "    mean1 = sum(para1) / len(para1)\n",
    "    mean2 = sum(para2) / len(para2)\n",
    "    for i in para1:\n",
    "        l1.append(i - mean1)\n",
    "        l3.append((i - mean1) ** 2)\n",
    "    for j in para2:\n",
    "        l2.append(j - mean2)\n",
    "        l4.append((j - mean2) ** 2)\n",
    "\n",
    "    num = sum(mul(l1, l2))\n",
    "    sum1 = sum(l3)\n",
    "    sum2 = sum(l4)\n",
    "    deno = np.sqrt(sum1 * sum2)\n",
    "    return round(num / deno, 2)"
   ]
  },
  {
   "cell_type": "code",
   "execution_count": 13,
   "id": "2ed06fdf-6de5-46ba-8a7d-2af3caed1c8c",
   "metadata": {},
   "outputs": [],
   "source": [
    "dict = {'' : ['Temperature', 'Humidity', 'Pressure', 'Rain','Lightavg',\"LightMax\",\"Moisture\"],\n",
    "        'Temperature' : [crr(temp,temp),crr(temp,humi),crr(press,temp),crr(rain,temp),crr(lavg,temp),crr(limax,temp),crr(mois,temp)],\n",
    "        'Humidity' : [crr(humi,temp), crr(humi,humi), crr(humi,press), crr(humi,rain),crr(humi,lavg),crr(humi,limax),crr(humi,mois)],\n",
    "       'Pressure':[crr(press,temp),crr(press,humi),crr(press,press),crr(press,rain),crr(press,lavg),crr(press,limax),crr(press,mois)],    \n",
    "       'Rain':[crr(rain,temp),crr(rain,humi),crr(rain,press),crr(rain,rain),crr(rain,lavg),crr(rain,limax),crr(rain,mois)],\n",
    "       'LightAvg':[crr(lavg,temp),crr(lavg,humi),crr(lavg,press),crr(lavg,rain),crr(lavg,lavg),crr(lavg,limax),crr(lavg,mois)] ,\n",
    "        'LightMax':[crr(limax,temp),crr(limax,humi),crr(limax,press),crr(limax,rain),crr(limax,lavg),crr(limax,limax),crr(limax,mois)],\n",
    "       'Moisture':[crr(mois,temp),crr(mois,humi),crr(mois,press),crr(mois,rain),crr(mois,lavg),crr(mois,limax),crr(mois,mois)] \n",
    "       }"
   ]
  },
  {
   "cell_type": "code",
   "execution_count": 14,
   "id": "204790a6-4cb5-40b9-a56d-d9492713f6a5",
   "metadata": {},
   "outputs": [
    {
     "data": {
      "text/html": [
       "<div>\n",
       "<style scoped>\n",
       "    .dataframe tbody tr th:only-of-type {\n",
       "        vertical-align: middle;\n",
       "    }\n",
       "\n",
       "    .dataframe tbody tr th {\n",
       "        vertical-align: top;\n",
       "    }\n",
       "\n",
       "    .dataframe thead th {\n",
       "        text-align: right;\n",
       "    }\n",
       "</style>\n",
       "<table border=\"1\" class=\"dataframe\">\n",
       "  <thead>\n",
       "    <tr style=\"text-align: right;\">\n",
       "      <th></th>\n",
       "      <th>Temperature</th>\n",
       "      <th>Humidity</th>\n",
       "      <th>Pressure</th>\n",
       "      <th>Rain</th>\n",
       "      <th>LightAvg</th>\n",
       "      <th>LightMax</th>\n",
       "      <th>Moisture</th>\n",
       "    </tr>\n",
       "    <tr>\n",
       "      <th></th>\n",
       "      <th></th>\n",
       "      <th></th>\n",
       "      <th></th>\n",
       "      <th></th>\n",
       "      <th></th>\n",
       "      <th></th>\n",
       "      <th></th>\n",
       "    </tr>\n",
       "  </thead>\n",
       "  <tbody>\n",
       "    <tr>\n",
       "      <th>Temperature</th>\n",
       "      <td>1.00</td>\n",
       "      <td>0.40</td>\n",
       "      <td>-0.18</td>\n",
       "      <td>-0.11</td>\n",
       "      <td>-0.18</td>\n",
       "      <td>-0.15</td>\n",
       "      <td>0.08</td>\n",
       "    </tr>\n",
       "    <tr>\n",
       "      <th>Humidity</th>\n",
       "      <td>0.40</td>\n",
       "      <td>1.00</td>\n",
       "      <td>-0.11</td>\n",
       "      <td>-0.43</td>\n",
       "      <td>-0.26</td>\n",
       "      <td>-0.24</td>\n",
       "      <td>-0.00</td>\n",
       "    </tr>\n",
       "    <tr>\n",
       "      <th>Pressure</th>\n",
       "      <td>-0.18</td>\n",
       "      <td>-0.11</td>\n",
       "      <td>1.00</td>\n",
       "      <td>0.07</td>\n",
       "      <td>0.08</td>\n",
       "      <td>0.10</td>\n",
       "      <td>-0.04</td>\n",
       "    </tr>\n",
       "    <tr>\n",
       "      <th>Rain</th>\n",
       "      <td>-0.11</td>\n",
       "      <td>-0.43</td>\n",
       "      <td>0.07</td>\n",
       "      <td>1.00</td>\n",
       "      <td>0.53</td>\n",
       "      <td>0.31</td>\n",
       "      <td>0.43</td>\n",
       "    </tr>\n",
       "    <tr>\n",
       "      <th>Lightavg</th>\n",
       "      <td>-0.18</td>\n",
       "      <td>-0.26</td>\n",
       "      <td>0.08</td>\n",
       "      <td>0.53</td>\n",
       "      <td>1.00</td>\n",
       "      <td>0.62</td>\n",
       "      <td>0.34</td>\n",
       "    </tr>\n",
       "    <tr>\n",
       "      <th>LightMax</th>\n",
       "      <td>-0.15</td>\n",
       "      <td>-0.24</td>\n",
       "      <td>0.10</td>\n",
       "      <td>0.31</td>\n",
       "      <td>0.62</td>\n",
       "      <td>1.00</td>\n",
       "      <td>0.01</td>\n",
       "    </tr>\n",
       "    <tr>\n",
       "      <th>Moisture</th>\n",
       "      <td>0.08</td>\n",
       "      <td>-0.00</td>\n",
       "      <td>-0.04</td>\n",
       "      <td>0.43</td>\n",
       "      <td>0.34</td>\n",
       "      <td>0.01</td>\n",
       "      <td>1.00</td>\n",
       "    </tr>\n",
       "  </tbody>\n",
       "</table>\n",
       "</div>"
      ],
      "text/plain": [
       "             Temperature  Humidity  Pressure  Rain  LightAvg  LightMax  \\\n",
       "                                                                         \n",
       "Temperature         1.00      0.40     -0.18 -0.11     -0.18     -0.15   \n",
       "Humidity            0.40      1.00     -0.11 -0.43     -0.26     -0.24   \n",
       "Pressure           -0.18     -0.11      1.00  0.07      0.08      0.10   \n",
       "Rain               -0.11     -0.43      0.07  1.00      0.53      0.31   \n",
       "Lightavg           -0.18     -0.26      0.08  0.53      1.00      0.62   \n",
       "LightMax           -0.15     -0.24      0.10  0.31      0.62      1.00   \n",
       "Moisture            0.08     -0.00     -0.04  0.43      0.34      0.01   \n",
       "\n",
       "             Moisture  \n",
       "                       \n",
       "Temperature      0.08  \n",
       "Humidity        -0.00  \n",
       "Pressure        -0.04  \n",
       "Rain             0.43  \n",
       "Lightavg         0.34  \n",
       "LightMax         0.01  \n",
       "Moisture         1.00  "
      ]
     },
     "execution_count": 14,
     "metadata": {},
     "output_type": "execute_result"
    }
   ],
   "source": [
    "df1 = pd.DataFrame(dict)\n",
    "df1=df1.set_index(\"\")\n",
    "df1"
   ]
  },
  {
   "cell_type": "code",
   "execution_count": 15,
   "id": "07f61511-26b4-4a05-bbe8-3879904c0053",
   "metadata": {},
   "outputs": [
    {
     "name": "stdout",
     "output_type": "stream",
     "text": [
      "The redundant attribute w.r.t Light avg is Light Max as it has a strong correlation of 0.62 .\n"
     ]
    }
   ],
   "source": [
    "print(f\"The redundant attribute w.r.t Light avg is Light Max as it has a strong correlation of {crr(limax,lavg)} .\")"
   ]
  },
  {
   "cell_type": "markdown",
   "id": "5a60ef53-72b4-4cac-9a57-da95f4f99b6b",
   "metadata": {},
   "source": [
    "<h2 style=\"color: Red;\">Part-C</h2>"
   ]
  },
  {
   "cell_type": "code",
   "execution_count": 16,
   "id": "391cd84e-cfa4-42e9-a25a-474587ef9a51",
   "metadata": {},
   "outputs": [
    {
     "data": {
      "image/png": "[encoded data removed]",
      "text/plain": [
       "<Figure size 640x480 with 1 Axes>"
      ]
     },
     "metadata": {},
     "output_type": "display_data"
    }
   ],
   "source": [
    "import matplotlib.pyplot as plt\n",
    "df=pd.read_csv(\"landslide_data_original.csv\")\n",
    "newdf=df['stationid']=='t12'\n",
    "reqd=df[newdf]['humidity']\n",
    "bin=np.arange(reqd.min(),reqd.max(),5)\n",
    "\n",
    "plt.hist(reqd,bins=bin,color='purple')\n",
    "plt.xticks(bin)\n",
    "plt.xlabel(\"Values ----->\")\n",
    "plt.ylabel(\"Frequency----->\")\n",
    "plt.title(\"Plot for Humidity For T12\")\n",
    "plt.grid('b')\n",
    "plt.show()"
   ]
  },
  {
   "cell_type": "code",
   "execution_count": null,
   "id": "93f5baf7-a315-48b9-a816-15ff19469562",
   "metadata": {},
   "outputs": [],
   "source": []
  }
 ],
 "metadata": {
  "kernelspec": {
   "display_name": "Python 3 (ipykernel)",
   "language": "python",
   "name": "python3"
  },
  "language_info": {
   "codemirror_mode": {
    "name": "ipython",
    "version": 3
   },
   "file_extension": ".py",
   "mimetype": "text/x-python",
   "name": "python",
   "nbconvert_exporter": "python",
   "pygments_lexer": "ipython3",
   "version": "3.11.1"
  }
 },
 "nbformat": 4,
 "nbformat_minor": 5
}
