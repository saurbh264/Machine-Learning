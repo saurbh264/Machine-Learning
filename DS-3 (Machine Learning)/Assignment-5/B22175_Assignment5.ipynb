{
  "nbformat": 4,
  "nbformat_minor": 0,
  "metadata": {
    "colab": {
      "provenance": [],
      "gpuType": "T4"
    },
    "kernelspec": {
      "name": "python3",
      "display_name": "Python 3"
    },
    "language_info": {
      "name": "python"
    },
    "accelerator": "GPU"
  },
  "cells": [
    {
      "cell_type": "markdown",
      "source": [
        "<h1 style=\"color:red;\">Assignment-5 DS-III</h1>"
      ],
      "metadata": {
        "id": "6Wx6Ot8auyYD"
      }
    },
    {
      "cell_type": "markdown",
      "source": [
        "### Importing Libraries"
      ],
      "metadata": {
        "id": "LSqClE8Pv6qU"
      }
    },
    {
      "cell_type": "code",
      "source": [
        "import os\n",
        "from PIL import Image\n",
        "import numpy as np\n",
        "import matplotlib.pyplot as plt\n",
        "from sklearn.model_selection import train_test_split\n",
        "import tensorflow\n",
        "from tensorflow import keras\n",
        "from tensorflow.keras import Sequential\n",
        "from tensorflow.keras.layers import Dense\n",
        "from tensorflow.keras.layers import Dense,Conv2D,Flatten,MaxPooling2D\n",
        "from sklearn.metrics import accuracy_score,confusion_matrix,ConfusionMatrixDisplay"
      ],
      "metadata": {
        "id": "pMRfqmjUuHMS"
      },
      "execution_count": 7,
      "outputs": []
    },
    {
      "cell_type": "code",
      "execution_count": 8,
      "metadata": {
        "colab": {
          "base_uri": "https://localhost:8080/"
        },
        "id": "KUqgCt09HUbH",
        "outputId": "03956ee6-03b7-4126-d9bf-48224234849c"
      },
      "outputs": [
        {
          "output_type": "stream",
          "name": "stdout",
          "text": [
            "Drive already mounted at /content/drive; to attempt to forcibly remount, call drive.mount(\"/content/drive\", force_remount=True).\n"
          ]
        }
      ],
      "source": [
        "from google.colab import drive\n",
        "drive.mount('/content/drive')"
      ]
    },
    {
      "cell_type": "code",
      "source": [
        "dir='/content/drive/MyDrive/cifar-3class-data/train'"
      ],
      "metadata": {
        "id": "CaPMSUfaHq4s"
      },
      "execution_count": 9,
      "outputs": []
    },
    {
      "cell_type": "markdown",
      "source": [
        "### Created a Function to Load Images in Google Colab"
      ],
      "metadata": {
        "id": "RUC7tPgXwEVF"
      }
    },
    {
      "cell_type": "code",
      "source": [
        "def load_images(directory):\n",
        "    images=[]\n",
        "    labels=[]\n",
        "    for label in os.listdir(directory):\n",
        "      label_path = os.path.join(directory, label)\n",
        "      for filename in os.listdir(label_path):\n",
        "                file_path = os.path.join(label_path, filename)\n",
        "                img = Image.open(file_path)\n",
        "                images.append(np.array(img))\n",
        "                labels.append(int(label[-1]))\n",
        "    return np.array(images),np.array(labels)\n"
      ],
      "metadata": {
        "id": "ufT1-Rg7IhOU"
      },
      "execution_count": 10,
      "outputs": []
    },
    {
      "cell_type": "code",
      "source": [
        "files,labels = load_images(dir)"
      ],
      "metadata": {
        "id": "lRPjWOeFIiVq"
      },
      "execution_count": 11,
      "outputs": []
    },
    {
      "cell_type": "code",
      "source": [
        "plt.figure(figsize=(14,8))\n",
        "plt.subplot(1,4,1)\n",
        "plt.imshow(files[0])\n",
        "plt.subplot(1,4,2)\n",
        "plt.imshow(files[1])\n",
        "plt.subplot(1,4,3)\n",
        "plt.imshow(files[2])\n",
        "plt.subplot(1,4,4)\n",
        "plt.imshow(files[3])"
      ],
      "metadata": {
        "colab": {
          "base_uri": "https://localhost:8080/",
          "height": 277
        },
        "id": "_XwzSAQOJc_j",
        "outputId": "e1e63dcc-7f01-409a-c452-5b3765bb1d91"
      },
      "execution_count": 12,
      "outputs": [
        {
          "output_type": "execute_result",
          "data": {
            "text/plain": [
              "<matplotlib.image.AxesImage at 0x7f1ae5b74220>"
            ]
          },
          "metadata": {},
          "execution_count": 12
        },
        {
          "output_type": "display_data",
          "data": {
            "text/plain": [
              "<Figure size 1400x800 with 4 Axes>"
            ],
            "image/png": "[encoded data removed]"
          },
          "metadata": {}
        }
      ]
    },
    {
      "cell_type": "markdown",
      "source": [
        "# FCNN"
      ],
      "metadata": {
        "id": "32NuYjxm0Bzl"
      }
    },
    {
      "cell_type": "markdown",
      "source": [
        "### Creating a Function to Flatten and Normalize the images b/w [0,1]"
      ],
      "metadata": {
        "id": "VfcO_NdxwSPg"
      }
    },
    {
      "cell_type": "code",
      "source": [
        "def flatten_n_normalize(images):\n",
        "    num_images, height, width, channels = images.shape\n",
        "    flattened_images = images.reshape((num_images, height * width * channels))\n",
        "    return flattened_images/255"
      ],
      "metadata": {
        "id": "gdBf0ZvsWsXP"
      },
      "execution_count": 13,
      "outputs": []
    },
    {
      "cell_type": "code",
      "source": [
        "files=flatten_n_normalize(files)"
      ],
      "metadata": {
        "id": "PPPy4AIsW3WB"
      },
      "execution_count": 14,
      "outputs": []
    },
    {
      "cell_type": "code",
      "source": [
        "files.shape"
      ],
      "metadata": {
        "colab": {
          "base_uri": "https://localhost:8080/"
        },
        "id": "Wspg1D2AX0y7",
        "outputId": "b0547b53-ba16-42ff-eaaa-05f5a9294565"
      },
      "execution_count": 15,
      "outputs": [
        {
          "output_type": "execute_result",
          "data": {
            "text/plain": [
              "(1500, 3072)"
            ]
          },
          "metadata": {},
          "execution_count": 15
        }
      ]
    },
    {
      "cell_type": "code",
      "source": [
        "files"
      ],
      "metadata": {
        "colab": {
          "base_uri": "https://localhost:8080/"
        },
        "id": "GYwgMEZjZ14S",
        "outputId": "9df54dc7-e873-4dd9-da0b-bda7d110606f"
      },
      "execution_count": 16,
      "outputs": [
        {
          "output_type": "execute_result",
          "data": {
            "text/plain": [
              "array([[0.32941176, 0.4627451 , 0.32941176, ..., 0.42745098, 0.57254902,\n",
              "        0.48627451],\n",
              "       [1.        , 1.        , 1.        , ..., 0.85098039, 0.85098039,\n",
              "        0.85490196],\n",
              "       [0.96470588, 0.95294118, 0.93333333, ..., 0.30588235, 0.40784314,\n",
              "        0.49803922],\n",
              "       ...,\n",
              "       [0.57254902, 0.58823529, 0.58039216, ..., 0.66666667, 0.72941176,\n",
              "        0.77254902],\n",
              "       [0.60784314, 0.58823529, 0.5254902 , ..., 0.45098039, 0.43137255,\n",
              "        0.39215686],\n",
              "       [0.99607843, 0.99607843, 0.99607843, ..., 1.        , 1.        ,\n",
              "        1.        ]])"
            ]
          },
          "metadata": {},
          "execution_count": 16
        }
      ]
    },
    {
      "cell_type": "code",
      "source": [
        "print(len(labels))"
      ],
      "metadata": {
        "colab": {
          "base_uri": "https://localhost:8080/"
        },
        "id": "vQuKzsQGclts",
        "outputId": "fb1eca4e-2f18-4f6c-8dbd-8819218e4090"
      },
      "execution_count": 17,
      "outputs": [
        {
          "output_type": "stream",
          "name": "stdout",
          "text": [
            "1500\n"
          ]
        }
      ]
    },
    {
      "cell_type": "markdown",
      "source": [
        "### Created Validation Set of 10% Training Data"
      ],
      "metadata": {
        "id": "Nz_Fhf1jwmSX"
      }
    },
    {
      "cell_type": "code",
      "source": [
        "X_train,X_test,Y_train,Y_test=train_test_split(files,labels,test_size=0.1,random_state=42)"
      ],
      "metadata": {
        "id": "WZEnZlDOdoZL"
      },
      "execution_count": 18,
      "outputs": []
    },
    {
      "cell_type": "code",
      "source": [
        "files[0]"
      ],
      "metadata": {
        "colab": {
          "base_uri": "https://localhost:8080/"
        },
        "id": "IFNilcEqeknO",
        "outputId": "5f57bbc1-45a1-466a-abde-87cb42ff5340"
      },
      "execution_count": 19,
      "outputs": [
        {
          "output_type": "execute_result",
          "data": {
            "text/plain": [
              "array([0.32941176, 0.4627451 , 0.32941176, ..., 0.42745098, 0.57254902,\n",
              "       0.48627451])"
            ]
          },
          "metadata": {},
          "execution_count": 19
        }
      ]
    },
    {
      "cell_type": "markdown",
      "source": [
        "# Creating FCNN Architecture"
      ],
      "metadata": {
        "id": "FuDuSbjmyU4C"
      }
    },
    {
      "cell_type": "code",
      "source": [
        "model=Sequential()\n",
        "model.add(Dense(256,activation='relu'))\n",
        "model.add(Dense(128,activation='relu'))\n",
        "model.add(Dense(64,activation='relu'))\n",
        "model.add(Dense(3,activation='softmax'))"
      ],
      "metadata": {
        "id": "phA3uL8BfczP"
      },
      "execution_count": 20,
      "outputs": []
    },
    {
      "cell_type": "code",
      "source": [
        "model.compile(loss='sparse_categorical_crossentropy',optimizer='Adam',metrics=['accuracy'])"
      ],
      "metadata": {
        "id": "YkD5WHySgIzc"
      },
      "execution_count": 21,
      "outputs": []
    },
    {
      "cell_type": "code",
      "source": [
        "history = model.fit(X_train,Y_train,epochs=500,batch_size=200,validation_data=(X_test,Y_test))"
      ],
      "metadata": {
        "colab": {
          "base_uri": "https://localhost:8080/"
        },
        "id": "0gSf0LTggPjd",
        "outputId": "c1a17388-4f1c-4324-9b76-aa6e95d1dab9"
      },
      "execution_count": 22,
      "outputs": [
        {
          "output_type": "stream",
          "name": "stdout",
          "text": [
            "Epoch 1/500\n",
            "7/7 [==============================] - 7s 58ms/step - loss: 1.6672 - accuracy: 0.3341 - val_loss: 1.1740 - val_accuracy: 0.3400\n",
            "Epoch 2/500\n",
            "7/7 [==============================] - 0s 12ms/step - loss: 1.0984 - accuracy: 0.4126 - val_loss: 0.9843 - val_accuracy: 0.5467\n",
            "Epoch 3/500\n",
            "7/7 [==============================] - 0s 15ms/step - loss: 0.9722 - accuracy: 0.5467 - val_loss: 0.9619 - val_accuracy: 0.5600\n",
            "Epoch 4/500\n",
            "7/7 [==============================] - 0s 13ms/step - loss: 0.9226 - accuracy: 0.5867 - val_loss: 0.8566 - val_accuracy: 0.6533\n",
            "Epoch 5/500\n",
            "7/7 [==============================] - 0s 13ms/step - loss: 0.8576 - accuracy: 0.6348 - val_loss: 0.8031 - val_accuracy: 0.6867\n",
            "Epoch 6/500\n",
            "7/7 [==============================] - 0s 13ms/step - loss: 0.8541 - accuracy: 0.6356 - val_loss: 0.8399 - val_accuracy: 0.6000\n",
            "Epoch 7/500\n",
            "7/7 [==============================] - 0s 15ms/step - loss: 0.7871 - accuracy: 0.6807 - val_loss: 0.7991 - val_accuracy: 0.6533\n",
            "Epoch 8/500\n",
            "7/7 [==============================] - 0s 13ms/step - loss: 0.7614 - accuracy: 0.6904 - val_loss: 0.8061 - val_accuracy: 0.6400\n",
            "Epoch 9/500\n",
            "7/7 [==============================] - 0s 12ms/step - loss: 0.7634 - accuracy: 0.6770 - val_loss: 0.7569 - val_accuracy: 0.6600\n",
            "Epoch 10/500\n",
            "7/7 [==============================] - 0s 11ms/step - loss: 0.7401 - accuracy: 0.6889 - val_loss: 0.8112 - val_accuracy: 0.6067\n",
            "Epoch 11/500\n",
            "7/7 [==============================] - 0s 11ms/step - loss: 0.7324 - accuracy: 0.6896 - val_loss: 0.7377 - val_accuracy: 0.6733\n",
            "Epoch 12/500\n",
            "7/7 [==============================] - 0s 14ms/step - loss: 0.7267 - accuracy: 0.7007 - val_loss: 0.7085 - val_accuracy: 0.7133\n",
            "Epoch 13/500\n",
            "7/7 [==============================] - 0s 11ms/step - loss: 0.7058 - accuracy: 0.7015 - val_loss: 0.7399 - val_accuracy: 0.7067\n",
            "Epoch 14/500\n",
            "7/7 [==============================] - 0s 14ms/step - loss: 0.6759 - accuracy: 0.7178 - val_loss: 0.7311 - val_accuracy: 0.6667\n",
            "Epoch 15/500\n",
            "7/7 [==============================] - 0s 13ms/step - loss: 0.6729 - accuracy: 0.7237 - val_loss: 0.7326 - val_accuracy: 0.7267\n",
            "Epoch 16/500\n",
            "7/7 [==============================] - 0s 12ms/step - loss: 0.7011 - accuracy: 0.7015 - val_loss: 0.7168 - val_accuracy: 0.6867\n",
            "Epoch 17/500\n",
            "7/7 [==============================] - 0s 10ms/step - loss: 0.6770 - accuracy: 0.7259 - val_loss: 0.7255 - val_accuracy: 0.6800\n",
            "Epoch 18/500\n",
            "7/7 [==============================] - 0s 13ms/step - loss: 0.6556 - accuracy: 0.7207 - val_loss: 0.7087 - val_accuracy: 0.7067\n",
            "Epoch 19/500\n",
            "7/7 [==============================] - 0s 12ms/step - loss: 0.6184 - accuracy: 0.7533 - val_loss: 0.6672 - val_accuracy: 0.7067\n",
            "Epoch 20/500\n",
            "7/7 [==============================] - 0s 11ms/step - loss: 0.6346 - accuracy: 0.7452 - val_loss: 0.7828 - val_accuracy: 0.6467\n",
            "Epoch 21/500\n",
            "7/7 [==============================] - 0s 14ms/step - loss: 0.6306 - accuracy: 0.7526 - val_loss: 0.6848 - val_accuracy: 0.6800\n",
            "Epoch 22/500\n",
            "7/7 [==============================] - 0s 14ms/step - loss: 0.5835 - accuracy: 0.7681 - val_loss: 0.6975 - val_accuracy: 0.7067\n",
            "Epoch 23/500\n",
            "7/7 [==============================] - 0s 11ms/step - loss: 0.6082 - accuracy: 0.7578 - val_loss: 0.6640 - val_accuracy: 0.7067\n",
            "Epoch 24/500\n",
            "7/7 [==============================] - 0s 11ms/step - loss: 0.5900 - accuracy: 0.7644 - val_loss: 0.6966 - val_accuracy: 0.6867\n",
            "Epoch 25/500\n",
            "7/7 [==============================] - 0s 12ms/step - loss: 0.5483 - accuracy: 0.7867 - val_loss: 0.6700 - val_accuracy: 0.6800\n",
            "Epoch 26/500\n",
            "7/7 [==============================] - 0s 11ms/step - loss: 0.5389 - accuracy: 0.7874 - val_loss: 0.6568 - val_accuracy: 0.7333\n",
            "Epoch 27/500\n",
            "7/7 [==============================] - 0s 11ms/step - loss: 0.5400 - accuracy: 0.7800 - val_loss: 0.6641 - val_accuracy: 0.6933\n",
            "Epoch 28/500\n",
            "7/7 [==============================] - 0s 11ms/step - loss: 0.5286 - accuracy: 0.7963 - val_loss: 0.6948 - val_accuracy: 0.7200\n",
            "Epoch 29/500\n",
            "7/7 [==============================] - 0s 11ms/step - loss: 0.5099 - accuracy: 0.8030 - val_loss: 0.6713 - val_accuracy: 0.7133\n",
            "Epoch 30/500\n",
            "7/7 [==============================] - 0s 11ms/step - loss: 0.4969 - accuracy: 0.8119 - val_loss: 0.6548 - val_accuracy: 0.7467\n",
            "Epoch 31/500\n",
            "7/7 [==============================] - 0s 12ms/step - loss: 0.5139 - accuracy: 0.8059 - val_loss: 0.6221 - val_accuracy: 0.7533\n",
            "Epoch 32/500\n",
            "7/7 [==============================] - 0s 11ms/step - loss: 0.4989 - accuracy: 0.7933 - val_loss: 0.7519 - val_accuracy: 0.6800\n",
            "Epoch 33/500\n",
            "7/7 [==============================] - 0s 12ms/step - loss: 0.5083 - accuracy: 0.8081 - val_loss: 0.6453 - val_accuracy: 0.7333\n",
            "Epoch 34/500\n",
            "7/7 [==============================] - 0s 14ms/step - loss: 0.5032 - accuracy: 0.7963 - val_loss: 0.6929 - val_accuracy: 0.6933\n",
            "Epoch 35/500\n",
            "7/7 [==============================] - 0s 12ms/step - loss: 0.4628 - accuracy: 0.8111 - val_loss: 0.6391 - val_accuracy: 0.7333\n",
            "Epoch 36/500\n",
            "7/7 [==============================] - 0s 12ms/step - loss: 0.4533 - accuracy: 0.8207 - val_loss: 0.7838 - val_accuracy: 0.6600\n",
            "Epoch 37/500\n",
            "7/7 [==============================] - 0s 11ms/step - loss: 0.4937 - accuracy: 0.8059 - val_loss: 0.6543 - val_accuracy: 0.7333\n",
            "Epoch 38/500\n",
            "7/7 [==============================] - 0s 13ms/step - loss: 0.4439 - accuracy: 0.8304 - val_loss: 0.6345 - val_accuracy: 0.7533\n",
            "Epoch 39/500\n",
            "7/7 [==============================] - 0s 15ms/step - loss: 0.4376 - accuracy: 0.8363 - val_loss: 0.7424 - val_accuracy: 0.6733\n",
            "Epoch 40/500\n",
            "7/7 [==============================] - 0s 11ms/step - loss: 0.4285 - accuracy: 0.8311 - val_loss: 0.6332 - val_accuracy: 0.7333\n",
            "Epoch 41/500\n",
            "7/7 [==============================] - 0s 12ms/step - loss: 0.4170 - accuracy: 0.8341 - val_loss: 0.6694 - val_accuracy: 0.7333\n",
            "Epoch 42/500\n",
            "7/7 [==============================] - 0s 11ms/step - loss: 0.3823 - accuracy: 0.8607 - val_loss: 0.7301 - val_accuracy: 0.7000\n",
            "Epoch 43/500\n",
            "7/7 [==============================] - 0s 14ms/step - loss: 0.3726 - accuracy: 0.8593 - val_loss: 0.6544 - val_accuracy: 0.7467\n",
            "Epoch 44/500\n",
            "7/7 [==============================] - 0s 14ms/step - loss: 0.3433 - accuracy: 0.8696 - val_loss: 0.6741 - val_accuracy: 0.7667\n",
            "Epoch 45/500\n",
            "7/7 [==============================] - 0s 10ms/step - loss: 0.3353 - accuracy: 0.8741 - val_loss: 0.6416 - val_accuracy: 0.7533\n",
            "Epoch 46/500\n",
            "7/7 [==============================] - 0s 11ms/step - loss: 0.3222 - accuracy: 0.8815 - val_loss: 0.8482 - val_accuracy: 0.6800\n",
            "Epoch 47/500\n",
            "7/7 [==============================] - 0s 11ms/step - loss: 0.4462 - accuracy: 0.8185 - val_loss: 0.6841 - val_accuracy: 0.7467\n",
            "Epoch 48/500\n",
            "7/7 [==============================] - 0s 13ms/step - loss: 0.3737 - accuracy: 0.8489 - val_loss: 0.8081 - val_accuracy: 0.6933\n",
            "Epoch 49/500\n",
            "7/7 [==============================] - 0s 11ms/step - loss: 0.3848 - accuracy: 0.8496 - val_loss: 0.6437 - val_accuracy: 0.7600\n",
            "Epoch 50/500\n",
            "7/7 [==============================] - 0s 14ms/step - loss: 0.3607 - accuracy: 0.8467 - val_loss: 0.8744 - val_accuracy: 0.6867\n",
            "Epoch 51/500\n",
            "7/7 [==============================] - 0s 11ms/step - loss: 0.3493 - accuracy: 0.8615 - val_loss: 0.6866 - val_accuracy: 0.7533\n",
            "Epoch 52/500\n",
            "7/7 [==============================] - 0s 13ms/step - loss: 0.3030 - accuracy: 0.8896 - val_loss: 0.7547 - val_accuracy: 0.7000\n",
            "Epoch 53/500\n",
            "7/7 [==============================] - 0s 14ms/step - loss: 0.2970 - accuracy: 0.8800 - val_loss: 0.7267 - val_accuracy: 0.7533\n",
            "Epoch 54/500\n",
            "7/7 [==============================] - 0s 14ms/step - loss: 0.2623 - accuracy: 0.9119 - val_loss: 0.6653 - val_accuracy: 0.7733\n",
            "Epoch 55/500\n",
            "7/7 [==============================] - 0s 13ms/step - loss: 0.2550 - accuracy: 0.9126 - val_loss: 0.7513 - val_accuracy: 0.7267\n",
            "Epoch 56/500\n",
            "7/7 [==============================] - 0s 14ms/step - loss: 0.2347 - accuracy: 0.9170 - val_loss: 0.7178 - val_accuracy: 0.7400\n",
            "Epoch 57/500\n",
            "7/7 [==============================] - 0s 14ms/step - loss: 0.2319 - accuracy: 0.9215 - val_loss: 0.7559 - val_accuracy: 0.7533\n",
            "Epoch 58/500\n",
            "7/7 [==============================] - 0s 9ms/step - loss: 0.2615 - accuracy: 0.8978 - val_loss: 0.9180 - val_accuracy: 0.6667\n",
            "Epoch 59/500\n",
            "7/7 [==============================] - 0s 8ms/step - loss: 0.2477 - accuracy: 0.9119 - val_loss: 0.7521 - val_accuracy: 0.7333\n",
            "Epoch 60/500\n",
            "7/7 [==============================] - 0s 8ms/step - loss: 0.2931 - accuracy: 0.8926 - val_loss: 1.0895 - val_accuracy: 0.6333\n",
            "Epoch 61/500\n",
            "7/7 [==============================] - 0s 9ms/step - loss: 0.3116 - accuracy: 0.8763 - val_loss: 0.6751 - val_accuracy: 0.7333\n",
            "Epoch 62/500\n",
            "7/7 [==============================] - 0s 8ms/step - loss: 0.2348 - accuracy: 0.9156 - val_loss: 0.7466 - val_accuracy: 0.7267\n",
            "Epoch 63/500\n",
            "7/7 [==============================] - 0s 8ms/step - loss: 0.2017 - accuracy: 0.9393 - val_loss: 0.7956 - val_accuracy: 0.7333\n",
            "Epoch 64/500\n",
            "7/7 [==============================] - 0s 8ms/step - loss: 0.1902 - accuracy: 0.9274 - val_loss: 0.7941 - val_accuracy: 0.7467\n",
            "Epoch 65/500\n",
            "7/7 [==============================] - 0s 8ms/step - loss: 0.1737 - accuracy: 0.9437 - val_loss: 0.8832 - val_accuracy: 0.7000\n",
            "Epoch 66/500\n",
            "7/7 [==============================] - 0s 8ms/step - loss: 0.2108 - accuracy: 0.9289 - val_loss: 0.7879 - val_accuracy: 0.7533\n",
            "Epoch 67/500\n",
            "7/7 [==============================] - 0s 8ms/step - loss: 0.1925 - accuracy: 0.9304 - val_loss: 0.8548 - val_accuracy: 0.6867\n",
            "Epoch 68/500\n",
            "7/7 [==============================] - 0s 8ms/step - loss: 0.1873 - accuracy: 0.9393 - val_loss: 0.8010 - val_accuracy: 0.7400\n",
            "Epoch 69/500\n",
            "7/7 [==============================] - 0s 9ms/step - loss: 0.1578 - accuracy: 0.9481 - val_loss: 0.8770 - val_accuracy: 0.6733\n",
            "Epoch 70/500\n",
            "7/7 [==============================] - 0s 10ms/step - loss: 0.1706 - accuracy: 0.9407 - val_loss: 0.8420 - val_accuracy: 0.6867\n",
            "Epoch 71/500\n",
            "7/7 [==============================] - 0s 9ms/step - loss: 0.1909 - accuracy: 0.9289 - val_loss: 0.9245 - val_accuracy: 0.7267\n",
            "Epoch 72/500\n",
            "7/7 [==============================] - 0s 11ms/step - loss: 0.1633 - accuracy: 0.9496 - val_loss: 0.7794 - val_accuracy: 0.7200\n",
            "Epoch 73/500\n",
            "7/7 [==============================] - 0s 8ms/step - loss: 0.1385 - accuracy: 0.9578 - val_loss: 0.9798 - val_accuracy: 0.6867\n",
            "Epoch 74/500\n",
            "7/7 [==============================] - 0s 8ms/step - loss: 0.1672 - accuracy: 0.9378 - val_loss: 0.8473 - val_accuracy: 0.7400\n",
            "Epoch 75/500\n",
            "7/7 [==============================] - 0s 9ms/step - loss: 0.1684 - accuracy: 0.9422 - val_loss: 0.9857 - val_accuracy: 0.7333\n",
            "Epoch 76/500\n",
            "7/7 [==============================] - 0s 9ms/step - loss: 0.1810 - accuracy: 0.9230 - val_loss: 1.0192 - val_accuracy: 0.6733\n",
            "Epoch 77/500\n",
            "7/7 [==============================] - 0s 8ms/step - loss: 0.1613 - accuracy: 0.9430 - val_loss: 0.9737 - val_accuracy: 0.7200\n",
            "Epoch 78/500\n",
            "7/7 [==============================] - 0s 8ms/step - loss: 0.2443 - accuracy: 0.9067 - val_loss: 1.0387 - val_accuracy: 0.7067\n",
            "Epoch 79/500\n",
            "7/7 [==============================] - 0s 8ms/step - loss: 0.1858 - accuracy: 0.9296 - val_loss: 0.9415 - val_accuracy: 0.6600\n",
            "Epoch 80/500\n",
            "7/7 [==============================] - 0s 8ms/step - loss: 0.1439 - accuracy: 0.9563 - val_loss: 0.9428 - val_accuracy: 0.7000\n",
            "Epoch 81/500\n",
            "7/7 [==============================] - 0s 8ms/step - loss: 0.1164 - accuracy: 0.9630 - val_loss: 1.0153 - val_accuracy: 0.7200\n",
            "Epoch 82/500\n",
            "7/7 [==============================] - 0s 9ms/step - loss: 0.2023 - accuracy: 0.9252 - val_loss: 0.9064 - val_accuracy: 0.7133\n",
            "Epoch 83/500\n",
            "7/7 [==============================] - 0s 9ms/step - loss: 0.1666 - accuracy: 0.9407 - val_loss: 1.0174 - val_accuracy: 0.6800\n",
            "Epoch 84/500\n",
            "7/7 [==============================] - 0s 9ms/step - loss: 0.1267 - accuracy: 0.9630 - val_loss: 1.0680 - val_accuracy: 0.7000\n",
            "Epoch 85/500\n",
            "7/7 [==============================] - 0s 9ms/step - loss: 0.1408 - accuracy: 0.9533 - val_loss: 1.0404 - val_accuracy: 0.7000\n",
            "Epoch 86/500\n",
            "7/7 [==============================] - 0s 9ms/step - loss: 0.1720 - accuracy: 0.9341 - val_loss: 1.0103 - val_accuracy: 0.7467\n",
            "Epoch 87/500\n",
            "7/7 [==============================] - 0s 8ms/step - loss: 0.1376 - accuracy: 0.9504 - val_loss: 1.0939 - val_accuracy: 0.6800\n",
            "Epoch 88/500\n",
            "7/7 [==============================] - 0s 9ms/step - loss: 0.1158 - accuracy: 0.9630 - val_loss: 1.2010 - val_accuracy: 0.6867\n",
            "Epoch 89/500\n",
            "7/7 [==============================] - 0s 8ms/step - loss: 0.1092 - accuracy: 0.9652 - val_loss: 1.0866 - val_accuracy: 0.6733\n",
            "Epoch 90/500\n",
            "7/7 [==============================] - 0s 8ms/step - loss: 0.0890 - accuracy: 0.9719 - val_loss: 1.0187 - val_accuracy: 0.7200\n",
            "Epoch 91/500\n",
            "7/7 [==============================] - 0s 9ms/step - loss: 0.0900 - accuracy: 0.9756 - val_loss: 0.9479 - val_accuracy: 0.7400\n",
            "Epoch 92/500\n",
            "7/7 [==============================] - 0s 9ms/step - loss: 0.0855 - accuracy: 0.9748 - val_loss: 1.0207 - val_accuracy: 0.7267\n",
            "Epoch 93/500\n",
            "7/7 [==============================] - 0s 9ms/step - loss: 0.0837 - accuracy: 0.9711 - val_loss: 1.0828 - val_accuracy: 0.6733\n",
            "Epoch 94/500\n",
            "7/7 [==============================] - 0s 8ms/step - loss: 0.0851 - accuracy: 0.9681 - val_loss: 1.0305 - val_accuracy: 0.7200\n",
            "Epoch 95/500\n",
            "7/7 [==============================] - 0s 9ms/step - loss: 0.0719 - accuracy: 0.9778 - val_loss: 1.1278 - val_accuracy: 0.6933\n",
            "Epoch 96/500\n",
            "7/7 [==============================] - 0s 8ms/step - loss: 0.0674 - accuracy: 0.9815 - val_loss: 1.0589 - val_accuracy: 0.7000\n",
            "Epoch 97/500\n",
            "7/7 [==============================] - 0s 8ms/step - loss: 0.0544 - accuracy: 0.9867 - val_loss: 1.1424 - val_accuracy: 0.7400\n",
            "Epoch 98/500\n",
            "7/7 [==============================] - 0s 9ms/step - loss: 0.0500 - accuracy: 0.9859 - val_loss: 1.0939 - val_accuracy: 0.7200\n",
            "Epoch 99/500\n",
            "7/7 [==============================] - 0s 8ms/step - loss: 0.0583 - accuracy: 0.9844 - val_loss: 1.0851 - val_accuracy: 0.7067\n",
            "Epoch 100/500\n",
            "7/7 [==============================] - 0s 8ms/step - loss: 0.0508 - accuracy: 0.9889 - val_loss: 1.1793 - val_accuracy: 0.7200\n",
            "Epoch 101/500\n",
            "7/7 [==============================] - 0s 10ms/step - loss: 0.0471 - accuracy: 0.9881 - val_loss: 1.2237 - val_accuracy: 0.7400\n",
            "Epoch 102/500\n",
            "7/7 [==============================] - 0s 8ms/step - loss: 0.0398 - accuracy: 0.9911 - val_loss: 1.2355 - val_accuracy: 0.7000\n",
            "Epoch 103/500\n",
            "7/7 [==============================] - 0s 9ms/step - loss: 0.0394 - accuracy: 0.9919 - val_loss: 1.2229 - val_accuracy: 0.7067\n",
            "Epoch 104/500\n",
            "7/7 [==============================] - 0s 8ms/step - loss: 0.0385 - accuracy: 0.9919 - val_loss: 1.2494 - val_accuracy: 0.7400\n",
            "Epoch 105/500\n",
            "7/7 [==============================] - 0s 11ms/step - loss: 0.0352 - accuracy: 0.9933 - val_loss: 1.2642 - val_accuracy: 0.7067\n",
            "Epoch 106/500\n",
            "7/7 [==============================] - 0s 9ms/step - loss: 0.0336 - accuracy: 0.9933 - val_loss: 1.3504 - val_accuracy: 0.7133\n",
            "Epoch 107/500\n",
            "7/7 [==============================] - 0s 9ms/step - loss: 0.0303 - accuracy: 0.9963 - val_loss: 1.3109 - val_accuracy: 0.7467\n",
            "Epoch 108/500\n",
            "7/7 [==============================] - 0s 9ms/step - loss: 0.0358 - accuracy: 0.9926 - val_loss: 1.3030 - val_accuracy: 0.7267\n",
            "Epoch 109/500\n",
            "7/7 [==============================] - 0s 9ms/step - loss: 0.0338 - accuracy: 0.9948 - val_loss: 1.2524 - val_accuracy: 0.6933\n",
            "Epoch 110/500\n",
            "7/7 [==============================] - 0s 9ms/step - loss: 0.0302 - accuracy: 0.9970 - val_loss: 1.2896 - val_accuracy: 0.7200\n",
            "Epoch 111/500\n",
            "7/7 [==============================] - 0s 9ms/step - loss: 0.0305 - accuracy: 0.9941 - val_loss: 1.3912 - val_accuracy: 0.6867\n",
            "Epoch 112/500\n",
            "7/7 [==============================] - 0s 9ms/step - loss: 0.0310 - accuracy: 0.9926 - val_loss: 1.4398 - val_accuracy: 0.7000\n",
            "Epoch 113/500\n",
            "7/7 [==============================] - 0s 9ms/step - loss: 0.0256 - accuracy: 0.9978 - val_loss: 1.3592 - val_accuracy: 0.7133\n",
            "Epoch 114/500\n",
            "7/7 [==============================] - 0s 9ms/step - loss: 0.0213 - accuracy: 0.9985 - val_loss: 1.3472 - val_accuracy: 0.7000\n",
            "Epoch 115/500\n",
            "7/7 [==============================] - 0s 9ms/step - loss: 0.0188 - accuracy: 0.9985 - val_loss: 1.4462 - val_accuracy: 0.7000\n",
            "Epoch 116/500\n",
            "7/7 [==============================] - 0s 10ms/step - loss: 0.0221 - accuracy: 0.9970 - val_loss: 1.4278 - val_accuracy: 0.7333\n",
            "Epoch 117/500\n",
            "7/7 [==============================] - 0s 9ms/step - loss: 0.0244 - accuracy: 0.9970 - val_loss: 1.4922 - val_accuracy: 0.6867\n",
            "Epoch 118/500\n",
            "7/7 [==============================] - 0s 8ms/step - loss: 0.0225 - accuracy: 0.9963 - val_loss: 1.4629 - val_accuracy: 0.7000\n",
            "Epoch 119/500\n",
            "7/7 [==============================] - 0s 8ms/step - loss: 0.0181 - accuracy: 0.9978 - val_loss: 1.4417 - val_accuracy: 0.7267\n",
            "Epoch 120/500\n",
            "7/7 [==============================] - 0s 9ms/step - loss: 0.0273 - accuracy: 0.9941 - val_loss: 1.8413 - val_accuracy: 0.6667\n",
            "Epoch 121/500\n",
            "7/7 [==============================] - 0s 9ms/step - loss: 0.0597 - accuracy: 0.9815 - val_loss: 1.5454 - val_accuracy: 0.6600\n",
            "Epoch 122/500\n",
            "7/7 [==============================] - 0s 9ms/step - loss: 0.5091 - accuracy: 0.8570 - val_loss: 3.0517 - val_accuracy: 0.5400\n",
            "Epoch 123/500\n",
            "7/7 [==============================] - 0s 9ms/step - loss: 1.4240 - accuracy: 0.6341 - val_loss: 0.9029 - val_accuracy: 0.6667\n",
            "Epoch 124/500\n",
            "7/7 [==============================] - 0s 9ms/step - loss: 0.6538 - accuracy: 0.7104 - val_loss: 1.0282 - val_accuracy: 0.6600\n",
            "Epoch 125/500\n",
            "7/7 [==============================] - 0s 9ms/step - loss: 0.5220 - accuracy: 0.7770 - val_loss: 0.7802 - val_accuracy: 0.7067\n",
            "Epoch 126/500\n",
            "7/7 [==============================] - 0s 8ms/step - loss: 0.3703 - accuracy: 0.8548 - val_loss: 0.9085 - val_accuracy: 0.6533\n",
            "Epoch 127/500\n",
            "7/7 [==============================] - 0s 9ms/step - loss: 0.3057 - accuracy: 0.8830 - val_loss: 0.8961 - val_accuracy: 0.7267\n",
            "Epoch 128/500\n",
            "7/7 [==============================] - 0s 9ms/step - loss: 0.3110 - accuracy: 0.8778 - val_loss: 0.8097 - val_accuracy: 0.7267\n",
            "Epoch 129/500\n",
            "7/7 [==============================] - 0s 9ms/step - loss: 0.2820 - accuracy: 0.8911 - val_loss: 1.0835 - val_accuracy: 0.6400\n",
            "Epoch 130/500\n",
            "7/7 [==============================] - 0s 10ms/step - loss: 0.2544 - accuracy: 0.9052 - val_loss: 0.9020 - val_accuracy: 0.7133\n",
            "Epoch 131/500\n",
            "7/7 [==============================] - 0s 10ms/step - loss: 0.2168 - accuracy: 0.9133 - val_loss: 0.8455 - val_accuracy: 0.7333\n",
            "Epoch 132/500\n",
            "7/7 [==============================] - 0s 9ms/step - loss: 0.1699 - accuracy: 0.9356 - val_loss: 0.8959 - val_accuracy: 0.7333\n",
            "Epoch 133/500\n",
            "7/7 [==============================] - 0s 8ms/step - loss: 0.1419 - accuracy: 0.9578 - val_loss: 0.9588 - val_accuracy: 0.7200\n",
            "Epoch 134/500\n",
            "7/7 [==============================] - 0s 9ms/step - loss: 0.1376 - accuracy: 0.9578 - val_loss: 0.9932 - val_accuracy: 0.7133\n",
            "Epoch 135/500\n",
            "7/7 [==============================] - 0s 8ms/step - loss: 0.1120 - accuracy: 0.9622 - val_loss: 0.9566 - val_accuracy: 0.7267\n",
            "Epoch 136/500\n",
            "7/7 [==============================] - 0s 9ms/step - loss: 0.1126 - accuracy: 0.9585 - val_loss: 1.0788 - val_accuracy: 0.7133\n",
            "Epoch 137/500\n",
            "7/7 [==============================] - 0s 9ms/step - loss: 0.1601 - accuracy: 0.9356 - val_loss: 1.2648 - val_accuracy: 0.6933\n",
            "Epoch 138/500\n",
            "7/7 [==============================] - 0s 8ms/step - loss: 0.1234 - accuracy: 0.9526 - val_loss: 1.0815 - val_accuracy: 0.7467\n",
            "Epoch 139/500\n",
            "7/7 [==============================] - 0s 9ms/step - loss: 0.1304 - accuracy: 0.9541 - val_loss: 1.3735 - val_accuracy: 0.6800\n",
            "Epoch 140/500\n",
            "7/7 [==============================] - 0s 8ms/step - loss: 0.1081 - accuracy: 0.9563 - val_loss: 1.0938 - val_accuracy: 0.7133\n",
            "Epoch 141/500\n",
            "7/7 [==============================] - 0s 8ms/step - loss: 0.0748 - accuracy: 0.9822 - val_loss: 1.2116 - val_accuracy: 0.7267\n",
            "Epoch 142/500\n",
            "7/7 [==============================] - 0s 9ms/step - loss: 0.0639 - accuracy: 0.9830 - val_loss: 1.2164 - val_accuracy: 0.7067\n",
            "Epoch 143/500\n",
            "7/7 [==============================] - 0s 9ms/step - loss: 0.0585 - accuracy: 0.9800 - val_loss: 1.2210 - val_accuracy: 0.7400\n",
            "Epoch 144/500\n",
            "7/7 [==============================] - 0s 9ms/step - loss: 0.0613 - accuracy: 0.9837 - val_loss: 1.2690 - val_accuracy: 0.7067\n",
            "Epoch 145/500\n",
            "7/7 [==============================] - 0s 9ms/step - loss: 0.0459 - accuracy: 0.9881 - val_loss: 1.2538 - val_accuracy: 0.7333\n",
            "Epoch 146/500\n",
            "7/7 [==============================] - 0s 12ms/step - loss: 0.0465 - accuracy: 0.9874 - val_loss: 1.3834 - val_accuracy: 0.7067\n",
            "Epoch 147/500\n",
            "7/7 [==============================] - 0s 9ms/step - loss: 0.0423 - accuracy: 0.9919 - val_loss: 1.3655 - val_accuracy: 0.7133\n",
            "Epoch 148/500\n",
            "7/7 [==============================] - 0s 8ms/step - loss: 0.0330 - accuracy: 0.9956 - val_loss: 1.4194 - val_accuracy: 0.7133\n",
            "Epoch 149/500\n",
            "7/7 [==============================] - 0s 8ms/step - loss: 0.0418 - accuracy: 0.9881 - val_loss: 1.4250 - val_accuracy: 0.7133\n",
            "Epoch 150/500\n",
            "7/7 [==============================] - 0s 9ms/step - loss: 0.0828 - accuracy: 0.9704 - val_loss: 1.4820 - val_accuracy: 0.7067\n",
            "Epoch 151/500\n",
            "7/7 [==============================] - 0s 8ms/step - loss: 0.1166 - accuracy: 0.9548 - val_loss: 1.4465 - val_accuracy: 0.6933\n",
            "Epoch 152/500\n",
            "7/7 [==============================] - 0s 8ms/step - loss: 0.1202 - accuracy: 0.9563 - val_loss: 1.3409 - val_accuracy: 0.6933\n",
            "Epoch 153/500\n",
            "7/7 [==============================] - 0s 8ms/step - loss: 0.0596 - accuracy: 0.9881 - val_loss: 1.3089 - val_accuracy: 0.7133\n",
            "Epoch 154/500\n",
            "7/7 [==============================] - 0s 8ms/step - loss: 0.0517 - accuracy: 0.9874 - val_loss: 1.3562 - val_accuracy: 0.7267\n",
            "Epoch 155/500\n",
            "7/7 [==============================] - 0s 8ms/step - loss: 0.0332 - accuracy: 0.9941 - val_loss: 1.3136 - val_accuracy: 0.7333\n",
            "Epoch 156/500\n",
            "7/7 [==============================] - 0s 9ms/step - loss: 0.0289 - accuracy: 0.9948 - val_loss: 1.4177 - val_accuracy: 0.7200\n",
            "Epoch 157/500\n",
            "7/7 [==============================] - 0s 9ms/step - loss: 0.0320 - accuracy: 0.9911 - val_loss: 1.5111 - val_accuracy: 0.7067\n",
            "Epoch 158/500\n",
            "7/7 [==============================] - 0s 9ms/step - loss: 0.0302 - accuracy: 0.9948 - val_loss: 1.5921 - val_accuracy: 0.6867\n",
            "Epoch 159/500\n",
            "7/7 [==============================] - 0s 9ms/step - loss: 0.0361 - accuracy: 0.9904 - val_loss: 1.5268 - val_accuracy: 0.7200\n",
            "Epoch 160/500\n",
            "7/7 [==============================] - 0s 9ms/step - loss: 0.0972 - accuracy: 0.9585 - val_loss: 1.4290 - val_accuracy: 0.7400\n",
            "Epoch 161/500\n",
            "7/7 [==============================] - 0s 9ms/step - loss: 0.1083 - accuracy: 0.9600 - val_loss: 1.6504 - val_accuracy: 0.6600\n",
            "Epoch 162/500\n",
            "7/7 [==============================] - 0s 9ms/step - loss: 0.0785 - accuracy: 0.9711 - val_loss: 1.3232 - val_accuracy: 0.7200\n",
            "Epoch 163/500\n",
            "7/7 [==============================] - 0s 9ms/step - loss: 0.0566 - accuracy: 0.9852 - val_loss: 1.5411 - val_accuracy: 0.7000\n",
            "Epoch 164/500\n",
            "7/7 [==============================] - 0s 8ms/step - loss: 0.0503 - accuracy: 0.9837 - val_loss: 1.5526 - val_accuracy: 0.6933\n",
            "Epoch 165/500\n",
            "7/7 [==============================] - 0s 9ms/step - loss: 0.0335 - accuracy: 0.9919 - val_loss: 1.6575 - val_accuracy: 0.6733\n",
            "Epoch 166/500\n",
            "7/7 [==============================] - 0s 9ms/step - loss: 0.0405 - accuracy: 0.9896 - val_loss: 1.6871 - val_accuracy: 0.7000\n",
            "Epoch 167/500\n",
            "7/7 [==============================] - 0s 9ms/step - loss: 0.0355 - accuracy: 0.9904 - val_loss: 1.6341 - val_accuracy: 0.6933\n",
            "Epoch 168/500\n",
            "7/7 [==============================] - 0s 8ms/step - loss: 0.0589 - accuracy: 0.9815 - val_loss: 1.5171 - val_accuracy: 0.7133\n",
            "Epoch 169/500\n",
            "7/7 [==============================] - 0s 8ms/step - loss: 0.0990 - accuracy: 0.9667 - val_loss: 1.7315 - val_accuracy: 0.6467\n",
            "Epoch 170/500\n",
            "7/7 [==============================] - 0s 8ms/step - loss: 0.1204 - accuracy: 0.9570 - val_loss: 1.5318 - val_accuracy: 0.7067\n",
            "Epoch 171/500\n",
            "7/7 [==============================] - 0s 9ms/step - loss: 0.1257 - accuracy: 0.9430 - val_loss: 1.5566 - val_accuracy: 0.7000\n",
            "Epoch 172/500\n",
            "7/7 [==============================] - 0s 8ms/step - loss: 0.0656 - accuracy: 0.9741 - val_loss: 1.3493 - val_accuracy: 0.7000\n",
            "Epoch 173/500\n",
            "7/7 [==============================] - 0s 8ms/step - loss: 0.0423 - accuracy: 0.9881 - val_loss: 1.6807 - val_accuracy: 0.6600\n",
            "Epoch 174/500\n",
            "7/7 [==============================] - 0s 9ms/step - loss: 0.0470 - accuracy: 0.9867 - val_loss: 1.4888 - val_accuracy: 0.7200\n",
            "Epoch 175/500\n",
            "7/7 [==============================] - 0s 9ms/step - loss: 0.0363 - accuracy: 0.9933 - val_loss: 1.7546 - val_accuracy: 0.7400\n",
            "Epoch 176/500\n",
            "7/7 [==============================] - 0s 9ms/step - loss: 0.1692 - accuracy: 0.9422 - val_loss: 1.5557 - val_accuracy: 0.7067\n",
            "Epoch 177/500\n",
            "7/7 [==============================] - 0s 10ms/step - loss: 0.7427 - accuracy: 0.7911 - val_loss: 1.2154 - val_accuracy: 0.6533\n",
            "Epoch 178/500\n",
            "7/7 [==============================] - 0s 9ms/step - loss: 0.5038 - accuracy: 0.8230 - val_loss: 0.9003 - val_accuracy: 0.6867\n",
            "Epoch 179/500\n",
            "7/7 [==============================] - 0s 8ms/step - loss: 0.4386 - accuracy: 0.8193 - val_loss: 0.8682 - val_accuracy: 0.6867\n",
            "Epoch 180/500\n",
            "7/7 [==============================] - 0s 9ms/step - loss: 0.3631 - accuracy: 0.8607 - val_loss: 0.8070 - val_accuracy: 0.6867\n",
            "Epoch 181/500\n",
            "7/7 [==============================] - 0s 9ms/step - loss: 0.2718 - accuracy: 0.9052 - val_loss: 0.7892 - val_accuracy: 0.7133\n",
            "Epoch 182/500\n",
            "7/7 [==============================] - 0s 8ms/step - loss: 0.2107 - accuracy: 0.9111 - val_loss: 0.8021 - val_accuracy: 0.7333\n",
            "Epoch 183/500\n",
            "7/7 [==============================] - 0s 9ms/step - loss: 0.1395 - accuracy: 0.9496 - val_loss: 0.9148 - val_accuracy: 0.7267\n",
            "Epoch 184/500\n",
            "7/7 [==============================] - 0s 8ms/step - loss: 0.1143 - accuracy: 0.9615 - val_loss: 0.8938 - val_accuracy: 0.7667\n",
            "Epoch 185/500\n",
            "7/7 [==============================] - 0s 8ms/step - loss: 0.0949 - accuracy: 0.9652 - val_loss: 0.9604 - val_accuracy: 0.7467\n",
            "Epoch 186/500\n",
            "7/7 [==============================] - 0s 8ms/step - loss: 0.0685 - accuracy: 0.9807 - val_loss: 1.0345 - val_accuracy: 0.7600\n",
            "Epoch 187/500\n",
            "7/7 [==============================] - 0s 8ms/step - loss: 0.0581 - accuracy: 0.9852 - val_loss: 1.0654 - val_accuracy: 0.7467\n",
            "Epoch 188/500\n",
            "7/7 [==============================] - 0s 9ms/step - loss: 0.0471 - accuracy: 0.9881 - val_loss: 1.1616 - val_accuracy: 0.7333\n",
            "Epoch 189/500\n",
            "7/7 [==============================] - 0s 8ms/step - loss: 0.0430 - accuracy: 0.9904 - val_loss: 1.1173 - val_accuracy: 0.7533\n",
            "Epoch 190/500\n",
            "7/7 [==============================] - 0s 9ms/step - loss: 0.0416 - accuracy: 0.9933 - val_loss: 1.1527 - val_accuracy: 0.7333\n",
            "Epoch 191/500\n",
            "7/7 [==============================] - 0s 8ms/step - loss: 0.0339 - accuracy: 0.9926 - val_loss: 1.1405 - val_accuracy: 0.7467\n",
            "Epoch 192/500\n",
            "7/7 [==============================] - 0s 12ms/step - loss: 0.0316 - accuracy: 0.9919 - val_loss: 1.1747 - val_accuracy: 0.7467\n",
            "Epoch 193/500\n",
            "7/7 [==============================] - 0s 8ms/step - loss: 0.0342 - accuracy: 0.9919 - val_loss: 1.2815 - val_accuracy: 0.7400\n",
            "Epoch 194/500\n",
            "7/7 [==============================] - 0s 9ms/step - loss: 0.0245 - accuracy: 0.9963 - val_loss: 1.1851 - val_accuracy: 0.7467\n",
            "Epoch 195/500\n",
            "7/7 [==============================] - 0s 8ms/step - loss: 0.0195 - accuracy: 0.9978 - val_loss: 1.2512 - val_accuracy: 0.7467\n",
            "Epoch 196/500\n",
            "7/7 [==============================] - 0s 9ms/step - loss: 0.0180 - accuracy: 0.9978 - val_loss: 1.2831 - val_accuracy: 0.7533\n",
            "Epoch 197/500\n",
            "7/7 [==============================] - 0s 8ms/step - loss: 0.0166 - accuracy: 0.9985 - val_loss: 1.2560 - val_accuracy: 0.7533\n",
            "Epoch 198/500\n",
            "7/7 [==============================] - 0s 8ms/step - loss: 0.0167 - accuracy: 0.9978 - val_loss: 1.3180 - val_accuracy: 0.7533\n",
            "Epoch 199/500\n",
            "7/7 [==============================] - 0s 8ms/step - loss: 0.0177 - accuracy: 0.9978 - val_loss: 1.3325 - val_accuracy: 0.7467\n",
            "Epoch 200/500\n",
            "7/7 [==============================] - 0s 8ms/step - loss: 0.0155 - accuracy: 0.9978 - val_loss: 1.2991 - val_accuracy: 0.7533\n",
            "Epoch 201/500\n",
            "7/7 [==============================] - 0s 8ms/step - loss: 0.0144 - accuracy: 0.9985 - val_loss: 1.3537 - val_accuracy: 0.7400\n",
            "Epoch 202/500\n",
            "7/7 [==============================] - 0s 9ms/step - loss: 0.0136 - accuracy: 0.9985 - val_loss: 1.3588 - val_accuracy: 0.7200\n",
            "Epoch 203/500\n",
            "7/7 [==============================] - 0s 8ms/step - loss: 0.0138 - accuracy: 0.9985 - val_loss: 1.3490 - val_accuracy: 0.7533\n",
            "Epoch 204/500\n",
            "7/7 [==============================] - 0s 9ms/step - loss: 0.0146 - accuracy: 0.9985 - val_loss: 1.3823 - val_accuracy: 0.7467\n",
            "Epoch 205/500\n",
            "7/7 [==============================] - 0s 9ms/step - loss: 0.0151 - accuracy: 0.9985 - val_loss: 1.3643 - val_accuracy: 0.7533\n",
            "Epoch 206/500\n",
            "7/7 [==============================] - 0s 8ms/step - loss: 0.0167 - accuracy: 0.9970 - val_loss: 1.3774 - val_accuracy: 0.7533\n",
            "Epoch 207/500\n",
            "7/7 [==============================] - 0s 12ms/step - loss: 0.0142 - accuracy: 0.9978 - val_loss: 1.3599 - val_accuracy: 0.7400\n",
            "Epoch 208/500\n",
            "7/7 [==============================] - 0s 15ms/step - loss: 0.0103 - accuracy: 0.9993 - val_loss: 1.4298 - val_accuracy: 0.7333\n",
            "Epoch 209/500\n",
            "7/7 [==============================] - 0s 15ms/step - loss: 0.0099 - accuracy: 0.9993 - val_loss: 1.4516 - val_accuracy: 0.7200\n",
            "Epoch 210/500\n",
            "7/7 [==============================] - 0s 14ms/step - loss: 0.0085 - accuracy: 0.9993 - val_loss: 1.4461 - val_accuracy: 0.7267\n",
            "Epoch 211/500\n",
            "7/7 [==============================] - 0s 11ms/step - loss: 0.0081 - accuracy: 1.0000 - val_loss: 1.4444 - val_accuracy: 0.7533\n",
            "Epoch 212/500\n",
            "7/7 [==============================] - 0s 11ms/step - loss: 0.0079 - accuracy: 0.9993 - val_loss: 1.4474 - val_accuracy: 0.7200\n",
            "Epoch 213/500\n",
            "7/7 [==============================] - 0s 11ms/step - loss: 0.0073 - accuracy: 0.9993 - val_loss: 1.4664 - val_accuracy: 0.7267\n",
            "Epoch 214/500\n",
            "7/7 [==============================] - 0s 12ms/step - loss: 0.0075 - accuracy: 0.9993 - val_loss: 1.4722 - val_accuracy: 0.7333\n",
            "Epoch 215/500\n",
            "7/7 [==============================] - 0s 14ms/step - loss: 0.0063 - accuracy: 0.9993 - val_loss: 1.4942 - val_accuracy: 0.7267\n",
            "Epoch 216/500\n",
            "7/7 [==============================] - 0s 15ms/step - loss: 0.0060 - accuracy: 1.0000 - val_loss: 1.5062 - val_accuracy: 0.7333\n",
            "Epoch 217/500\n",
            "7/7 [==============================] - 0s 11ms/step - loss: 0.0058 - accuracy: 1.0000 - val_loss: 1.4888 - val_accuracy: 0.7400\n",
            "Epoch 218/500\n",
            "7/7 [==============================] - 0s 12ms/step - loss: 0.0058 - accuracy: 0.9993 - val_loss: 1.5118 - val_accuracy: 0.7267\n",
            "Epoch 219/500\n",
            "7/7 [==============================] - 0s 13ms/step - loss: 0.0055 - accuracy: 1.0000 - val_loss: 1.5363 - val_accuracy: 0.7200\n",
            "Epoch 220/500\n",
            "7/7 [==============================] - 0s 13ms/step - loss: 0.0055 - accuracy: 1.0000 - val_loss: 1.5281 - val_accuracy: 0.7333\n",
            "Epoch 221/500\n",
            "7/7 [==============================] - 0s 13ms/step - loss: 0.0054 - accuracy: 1.0000 - val_loss: 1.5289 - val_accuracy: 0.7400\n",
            "Epoch 222/500\n",
            "7/7 [==============================] - 0s 13ms/step - loss: 0.0063 - accuracy: 0.9993 - val_loss: 1.5415 - val_accuracy: 0.7333\n",
            "Epoch 223/500\n",
            "7/7 [==============================] - 0s 13ms/step - loss: 0.0051 - accuracy: 1.0000 - val_loss: 1.5596 - val_accuracy: 0.7200\n",
            "Epoch 224/500\n",
            "7/7 [==============================] - 0s 11ms/step - loss: 0.0048 - accuracy: 1.0000 - val_loss: 1.5643 - val_accuracy: 0.7333\n",
            "Epoch 225/500\n",
            "7/7 [==============================] - 0s 11ms/step - loss: 0.0046 - accuracy: 1.0000 - val_loss: 1.5511 - val_accuracy: 0.7467\n",
            "Epoch 226/500\n",
            "7/7 [==============================] - 0s 14ms/step - loss: 0.0052 - accuracy: 1.0000 - val_loss: 1.5623 - val_accuracy: 0.7333\n",
            "Epoch 227/500\n",
            "7/7 [==============================] - 0s 14ms/step - loss: 0.0042 - accuracy: 1.0000 - val_loss: 1.6097 - val_accuracy: 0.7133\n",
            "Epoch 228/500\n",
            "7/7 [==============================] - 0s 11ms/step - loss: 0.0046 - accuracy: 1.0000 - val_loss: 1.5910 - val_accuracy: 0.7267\n",
            "Epoch 229/500\n",
            "7/7 [==============================] - 0s 15ms/step - loss: 0.0045 - accuracy: 1.0000 - val_loss: 1.5953 - val_accuracy: 0.7333\n",
            "Epoch 230/500\n",
            "7/7 [==============================] - 0s 14ms/step - loss: 0.0038 - accuracy: 1.0000 - val_loss: 1.6371 - val_accuracy: 0.7133\n",
            "Epoch 231/500\n",
            "7/7 [==============================] - 0s 12ms/step - loss: 0.0043 - accuracy: 1.0000 - val_loss: 1.6337 - val_accuracy: 0.7133\n",
            "Epoch 232/500\n",
            "7/7 [==============================] - 0s 14ms/step - loss: 0.0043 - accuracy: 1.0000 - val_loss: 1.6071 - val_accuracy: 0.7333\n",
            "Epoch 233/500\n",
            "7/7 [==============================] - 0s 12ms/step - loss: 0.0042 - accuracy: 1.0000 - val_loss: 1.6470 - val_accuracy: 0.7400\n",
            "Epoch 234/500\n",
            "7/7 [==============================] - 0s 13ms/step - loss: 0.0047 - accuracy: 1.0000 - val_loss: 1.6850 - val_accuracy: 0.7133\n",
            "Epoch 235/500\n",
            "7/7 [==============================] - 0s 13ms/step - loss: 0.0038 - accuracy: 1.0000 - val_loss: 1.6195 - val_accuracy: 0.7267\n",
            "Epoch 236/500\n",
            "7/7 [==============================] - 0s 11ms/step - loss: 0.0032 - accuracy: 1.0000 - val_loss: 1.6338 - val_accuracy: 0.7400\n",
            "Epoch 237/500\n",
            "7/7 [==============================] - 0s 10ms/step - loss: 0.0036 - accuracy: 1.0000 - val_loss: 1.7459 - val_accuracy: 0.7200\n",
            "Epoch 238/500\n",
            "7/7 [==============================] - 0s 11ms/step - loss: 0.0040 - accuracy: 1.0000 - val_loss: 1.6509 - val_accuracy: 0.7267\n",
            "Epoch 239/500\n",
            "7/7 [==============================] - 0s 11ms/step - loss: 0.0040 - accuracy: 1.0000 - val_loss: 1.6575 - val_accuracy: 0.7267\n",
            "Epoch 240/500\n",
            "7/7 [==============================] - 0s 14ms/step - loss: 0.0035 - accuracy: 1.0000 - val_loss: 1.6718 - val_accuracy: 0.7467\n",
            "Epoch 241/500\n",
            "7/7 [==============================] - 0s 12ms/step - loss: 0.0035 - accuracy: 1.0000 - val_loss: 1.6482 - val_accuracy: 0.7467\n",
            "Epoch 242/500\n",
            "7/7 [==============================] - 0s 16ms/step - loss: 0.0032 - accuracy: 1.0000 - val_loss: 1.7599 - val_accuracy: 0.7067\n",
            "Epoch 243/500\n",
            "7/7 [==============================] - 0s 11ms/step - loss: 0.0034 - accuracy: 1.0000 - val_loss: 1.6985 - val_accuracy: 0.7333\n",
            "Epoch 244/500\n",
            "7/7 [==============================] - 0s 12ms/step - loss: 0.0031 - accuracy: 1.0000 - val_loss: 1.6801 - val_accuracy: 0.7267\n",
            "Epoch 245/500\n",
            "7/7 [==============================] - 0s 11ms/step - loss: 0.0034 - accuracy: 1.0000 - val_loss: 1.6937 - val_accuracy: 0.7467\n",
            "Epoch 246/500\n",
            "7/7 [==============================] - 0s 12ms/step - loss: 0.0043 - accuracy: 1.0000 - val_loss: 1.7496 - val_accuracy: 0.7267\n",
            "Epoch 247/500\n",
            "7/7 [==============================] - 0s 15ms/step - loss: 0.0030 - accuracy: 1.0000 - val_loss: 1.7711 - val_accuracy: 0.7067\n",
            "Epoch 248/500\n",
            "7/7 [==============================] - 0s 13ms/step - loss: 0.0026 - accuracy: 1.0000 - val_loss: 1.7616 - val_accuracy: 0.7267\n",
            "Epoch 249/500\n",
            "7/7 [==============================] - 0s 14ms/step - loss: 0.0028 - accuracy: 1.0000 - val_loss: 1.7815 - val_accuracy: 0.7400\n",
            "Epoch 250/500\n",
            "7/7 [==============================] - 0s 12ms/step - loss: 0.0034 - accuracy: 1.0000 - val_loss: 1.7807 - val_accuracy: 0.7267\n",
            "Epoch 251/500\n",
            "7/7 [==============================] - 0s 14ms/step - loss: 0.0023 - accuracy: 1.0000 - val_loss: 1.7905 - val_accuracy: 0.7133\n",
            "Epoch 252/500\n",
            "7/7 [==============================] - 0s 12ms/step - loss: 0.0027 - accuracy: 1.0000 - val_loss: 1.7953 - val_accuracy: 0.7133\n",
            "Epoch 253/500\n",
            "7/7 [==============================] - 0s 13ms/step - loss: 0.0025 - accuracy: 1.0000 - val_loss: 1.7771 - val_accuracy: 0.7400\n",
            "Epoch 254/500\n",
            "7/7 [==============================] - 0s 11ms/step - loss: 0.0023 - accuracy: 1.0000 - val_loss: 1.8085 - val_accuracy: 0.7200\n",
            "Epoch 255/500\n",
            "7/7 [==============================] - 0s 14ms/step - loss: 0.0018 - accuracy: 1.0000 - val_loss: 1.8203 - val_accuracy: 0.7133\n",
            "Epoch 256/500\n",
            "7/7 [==============================] - 0s 12ms/step - loss: 0.0020 - accuracy: 1.0000 - val_loss: 1.8242 - val_accuracy: 0.7333\n",
            "Epoch 257/500\n",
            "7/7 [==============================] - 0s 12ms/step - loss: 0.0021 - accuracy: 1.0000 - val_loss: 1.8249 - val_accuracy: 0.7267\n",
            "Epoch 258/500\n",
            "7/7 [==============================] - 0s 14ms/step - loss: 0.0017 - accuracy: 1.0000 - val_loss: 1.8261 - val_accuracy: 0.7200\n",
            "Epoch 259/500\n",
            "7/7 [==============================] - 0s 13ms/step - loss: 0.0018 - accuracy: 1.0000 - val_loss: 1.8262 - val_accuracy: 0.7267\n",
            "Epoch 260/500\n",
            "7/7 [==============================] - 0s 14ms/step - loss: 0.0017 - accuracy: 1.0000 - val_loss: 1.8495 - val_accuracy: 0.7200\n",
            "Epoch 261/500\n",
            "7/7 [==============================] - 0s 11ms/step - loss: 0.0015 - accuracy: 1.0000 - val_loss: 1.8471 - val_accuracy: 0.7200\n",
            "Epoch 262/500\n",
            "7/7 [==============================] - 0s 13ms/step - loss: 0.0015 - accuracy: 1.0000 - val_loss: 1.8691 - val_accuracy: 0.7200\n",
            "Epoch 263/500\n",
            "7/7 [==============================] - 0s 11ms/step - loss: 0.0015 - accuracy: 1.0000 - val_loss: 1.8460 - val_accuracy: 0.7267\n",
            "Epoch 264/500\n",
            "7/7 [==============================] - 0s 14ms/step - loss: 0.0015 - accuracy: 1.0000 - val_loss: 1.8723 - val_accuracy: 0.7200\n",
            "Epoch 265/500\n",
            "7/7 [==============================] - 0s 15ms/step - loss: 0.0014 - accuracy: 1.0000 - val_loss: 1.8752 - val_accuracy: 0.7200\n",
            "Epoch 266/500\n",
            "7/7 [==============================] - 0s 14ms/step - loss: 0.0014 - accuracy: 1.0000 - val_loss: 1.8642 - val_accuracy: 0.7267\n",
            "Epoch 267/500\n",
            "7/7 [==============================] - 0s 11ms/step - loss: 0.0015 - accuracy: 1.0000 - val_loss: 1.9082 - val_accuracy: 0.7200\n",
            "Epoch 268/500\n",
            "7/7 [==============================] - 0s 14ms/step - loss: 0.0013 - accuracy: 1.0000 - val_loss: 1.8720 - val_accuracy: 0.7267\n",
            "Epoch 269/500\n",
            "7/7 [==============================] - 0s 14ms/step - loss: 0.0013 - accuracy: 1.0000 - val_loss: 1.9327 - val_accuracy: 0.7200\n",
            "Epoch 270/500\n",
            "7/7 [==============================] - 0s 11ms/step - loss: 0.0014 - accuracy: 1.0000 - val_loss: 1.8837 - val_accuracy: 0.7333\n",
            "Epoch 271/500\n",
            "7/7 [==============================] - 0s 15ms/step - loss: 0.0013 - accuracy: 1.0000 - val_loss: 1.9257 - val_accuracy: 0.7200\n",
            "Epoch 272/500\n",
            "7/7 [==============================] - 0s 14ms/step - loss: 0.0013 - accuracy: 1.0000 - val_loss: 1.9033 - val_accuracy: 0.7267\n",
            "Epoch 273/500\n",
            "7/7 [==============================] - 0s 15ms/step - loss: 0.0011 - accuracy: 1.0000 - val_loss: 1.9377 - val_accuracy: 0.7200\n",
            "Epoch 274/500\n",
            "7/7 [==============================] - 0s 15ms/step - loss: 0.0011 - accuracy: 1.0000 - val_loss: 1.9109 - val_accuracy: 0.7267\n",
            "Epoch 275/500\n",
            "7/7 [==============================] - 0s 14ms/step - loss: 0.0012 - accuracy: 1.0000 - val_loss: 1.9577 - val_accuracy: 0.7200\n",
            "Epoch 276/500\n",
            "7/7 [==============================] - 0s 14ms/step - loss: 0.0011 - accuracy: 1.0000 - val_loss: 1.9144 - val_accuracy: 0.7267\n",
            "Epoch 277/500\n",
            "7/7 [==============================] - 0s 14ms/step - loss: 0.0011 - accuracy: 1.0000 - val_loss: 1.9540 - val_accuracy: 0.7200\n",
            "Epoch 278/500\n",
            "7/7 [==============================] - 0s 16ms/step - loss: 0.0011 - accuracy: 1.0000 - val_loss: 1.9301 - val_accuracy: 0.7267\n",
            "Epoch 279/500\n",
            "7/7 [==============================] - 0s 12ms/step - loss: 0.0010 - accuracy: 1.0000 - val_loss: 1.9718 - val_accuracy: 0.7200\n",
            "Epoch 280/500\n",
            "7/7 [==============================] - 0s 9ms/step - loss: 0.0010 - accuracy: 1.0000 - val_loss: 1.9413 - val_accuracy: 0.7267\n",
            "Epoch 281/500\n",
            "7/7 [==============================] - 0s 9ms/step - loss: 9.4996e-04 - accuracy: 1.0000 - val_loss: 1.9634 - val_accuracy: 0.7200\n",
            "Epoch 282/500\n",
            "7/7 [==============================] - 0s 8ms/step - loss: 9.2088e-04 - accuracy: 1.0000 - val_loss: 1.9535 - val_accuracy: 0.7267\n",
            "Epoch 283/500\n",
            "7/7 [==============================] - 0s 9ms/step - loss: 0.0010 - accuracy: 1.0000 - val_loss: 1.9965 - val_accuracy: 0.7200\n",
            "Epoch 284/500\n",
            "7/7 [==============================] - 0s 8ms/step - loss: 0.0010 - accuracy: 1.0000 - val_loss: 1.9562 - val_accuracy: 0.7333\n",
            "Epoch 285/500\n",
            "7/7 [==============================] - 0s 9ms/step - loss: 9.7533e-04 - accuracy: 1.0000 - val_loss: 1.9858 - val_accuracy: 0.7200\n",
            "Epoch 286/500\n",
            "7/7 [==============================] - 0s 9ms/step - loss: 8.8260e-04 - accuracy: 1.0000 - val_loss: 1.9697 - val_accuracy: 0.7200\n",
            "Epoch 287/500\n",
            "7/7 [==============================] - 0s 9ms/step - loss: 9.1204e-04 - accuracy: 1.0000 - val_loss: 1.9923 - val_accuracy: 0.7200\n",
            "Epoch 288/500\n",
            "7/7 [==============================] - 0s 10ms/step - loss: 8.3806e-04 - accuracy: 1.0000 - val_loss: 1.9867 - val_accuracy: 0.7200\n",
            "Epoch 289/500\n",
            "7/7 [==============================] - 0s 9ms/step - loss: 8.2426e-04 - accuracy: 1.0000 - val_loss: 1.9977 - val_accuracy: 0.7200\n",
            "Epoch 290/500\n",
            "7/7 [==============================] - 0s 9ms/step - loss: 8.2428e-04 - accuracy: 1.0000 - val_loss: 1.9994 - val_accuracy: 0.7133\n",
            "Epoch 291/500\n",
            "7/7 [==============================] - 0s 9ms/step - loss: 8.2462e-04 - accuracy: 1.0000 - val_loss: 2.0083 - val_accuracy: 0.7200\n",
            "Epoch 292/500\n",
            "7/7 [==============================] - 0s 9ms/step - loss: 8.6714e-04 - accuracy: 1.0000 - val_loss: 2.0001 - val_accuracy: 0.7200\n",
            "Epoch 293/500\n",
            "7/7 [==============================] - 0s 9ms/step - loss: 7.7307e-04 - accuracy: 1.0000 - val_loss: 2.0016 - val_accuracy: 0.7133\n",
            "Epoch 294/500\n",
            "7/7 [==============================] - 0s 9ms/step - loss: 7.6313e-04 - accuracy: 1.0000 - val_loss: 2.0201 - val_accuracy: 0.7200\n",
            "Epoch 295/500\n",
            "7/7 [==============================] - 0s 9ms/step - loss: 7.2458e-04 - accuracy: 1.0000 - val_loss: 2.0202 - val_accuracy: 0.7200\n",
            "Epoch 296/500\n",
            "7/7 [==============================] - 0s 8ms/step - loss: 7.2293e-04 - accuracy: 1.0000 - val_loss: 2.0381 - val_accuracy: 0.7200\n",
            "Epoch 297/500\n",
            "7/7 [==============================] - 0s 9ms/step - loss: 7.1512e-04 - accuracy: 1.0000 - val_loss: 2.0269 - val_accuracy: 0.7133\n",
            "Epoch 298/500\n",
            "7/7 [==============================] - 0s 8ms/step - loss: 6.9755e-04 - accuracy: 1.0000 - val_loss: 2.0290 - val_accuracy: 0.7133\n",
            "Epoch 299/500\n",
            "7/7 [==============================] - 0s 9ms/step - loss: 6.8897e-04 - accuracy: 1.0000 - val_loss: 2.0516 - val_accuracy: 0.7200\n",
            "Epoch 300/500\n",
            "7/7 [==============================] - 0s 9ms/step - loss: 6.9200e-04 - accuracy: 1.0000 - val_loss: 2.0441 - val_accuracy: 0.7200\n",
            "Epoch 301/500\n",
            "7/7 [==============================] - 0s 10ms/step - loss: 6.8123e-04 - accuracy: 1.0000 - val_loss: 2.0593 - val_accuracy: 0.7133\n",
            "Epoch 302/500\n",
            "7/7 [==============================] - 0s 12ms/step - loss: 6.6545e-04 - accuracy: 1.0000 - val_loss: 2.0489 - val_accuracy: 0.7200\n",
            "Epoch 303/500\n",
            "7/7 [==============================] - 0s 9ms/step - loss: 6.5458e-04 - accuracy: 1.0000 - val_loss: 2.0608 - val_accuracy: 0.7200\n",
            "Epoch 304/500\n",
            "7/7 [==============================] - 0s 8ms/step - loss: 6.2877e-04 - accuracy: 1.0000 - val_loss: 2.0631 - val_accuracy: 0.7133\n",
            "Epoch 305/500\n",
            "7/7 [==============================] - 0s 9ms/step - loss: 6.2022e-04 - accuracy: 1.0000 - val_loss: 2.0686 - val_accuracy: 0.7200\n",
            "Epoch 306/500\n",
            "7/7 [==============================] - 0s 10ms/step - loss: 6.0592e-04 - accuracy: 1.0000 - val_loss: 2.0736 - val_accuracy: 0.7200\n",
            "Epoch 307/500\n",
            "7/7 [==============================] - 0s 9ms/step - loss: 6.0415e-04 - accuracy: 1.0000 - val_loss: 2.0750 - val_accuracy: 0.7133\n",
            "Epoch 308/500\n",
            "7/7 [==============================] - 0s 9ms/step - loss: 5.9168e-04 - accuracy: 1.0000 - val_loss: 2.0776 - val_accuracy: 0.7200\n",
            "Epoch 309/500\n",
            "7/7 [==============================] - 0s 9ms/step - loss: 6.0400e-04 - accuracy: 1.0000 - val_loss: 2.0861 - val_accuracy: 0.7200\n",
            "Epoch 310/500\n",
            "7/7 [==============================] - 0s 9ms/step - loss: 6.1633e-04 - accuracy: 1.0000 - val_loss: 2.0939 - val_accuracy: 0.7200\n",
            "Epoch 311/500\n",
            "7/7 [==============================] - 0s 9ms/step - loss: 5.8195e-04 - accuracy: 1.0000 - val_loss: 2.0844 - val_accuracy: 0.7200\n",
            "Epoch 312/500\n",
            "7/7 [==============================] - 0s 9ms/step - loss: 5.6889e-04 - accuracy: 1.0000 - val_loss: 2.0999 - val_accuracy: 0.7200\n",
            "Epoch 313/500\n",
            "7/7 [==============================] - 0s 9ms/step - loss: 5.6261e-04 - accuracy: 1.0000 - val_loss: 2.0966 - val_accuracy: 0.7200\n",
            "Epoch 314/500\n",
            "7/7 [==============================] - 0s 9ms/step - loss: 5.6155e-04 - accuracy: 1.0000 - val_loss: 2.1111 - val_accuracy: 0.7200\n",
            "Epoch 315/500\n",
            "7/7 [==============================] - 0s 8ms/step - loss: 5.3074e-04 - accuracy: 1.0000 - val_loss: 2.1023 - val_accuracy: 0.7200\n",
            "Epoch 316/500\n",
            "7/7 [==============================] - 0s 10ms/step - loss: 5.2162e-04 - accuracy: 1.0000 - val_loss: 2.1264 - val_accuracy: 0.7200\n",
            "Epoch 317/500\n",
            "7/7 [==============================] - 0s 9ms/step - loss: 5.3940e-04 - accuracy: 1.0000 - val_loss: 2.1127 - val_accuracy: 0.7200\n",
            "Epoch 318/500\n",
            "7/7 [==============================] - 0s 9ms/step - loss: 5.1137e-04 - accuracy: 1.0000 - val_loss: 2.1124 - val_accuracy: 0.7200\n",
            "Epoch 319/500\n",
            "7/7 [==============================] - 0s 9ms/step - loss: 5.0563e-04 - accuracy: 1.0000 - val_loss: 2.1288 - val_accuracy: 0.7200\n",
            "Epoch 320/500\n",
            "7/7 [==============================] - 0s 9ms/step - loss: 4.9265e-04 - accuracy: 1.0000 - val_loss: 2.1283 - val_accuracy: 0.7200\n",
            "Epoch 321/500\n",
            "7/7 [==============================] - 0s 9ms/step - loss: 4.9182e-04 - accuracy: 1.0000 - val_loss: 2.1359 - val_accuracy: 0.7200\n",
            "Epoch 322/500\n",
            "7/7 [==============================] - 0s 9ms/step - loss: 4.8356e-04 - accuracy: 1.0000 - val_loss: 2.1410 - val_accuracy: 0.7200\n",
            "Epoch 323/500\n",
            "7/7 [==============================] - 0s 8ms/step - loss: 4.7305e-04 - accuracy: 1.0000 - val_loss: 2.1333 - val_accuracy: 0.7200\n",
            "Epoch 324/500\n",
            "7/7 [==============================] - 0s 10ms/step - loss: 4.8944e-04 - accuracy: 1.0000 - val_loss: 2.1523 - val_accuracy: 0.7200\n",
            "Epoch 325/500\n",
            "7/7 [==============================] - 0s 9ms/step - loss: 4.7062e-04 - accuracy: 1.0000 - val_loss: 2.1469 - val_accuracy: 0.7200\n",
            "Epoch 326/500\n",
            "7/7 [==============================] - 0s 8ms/step - loss: 4.5739e-04 - accuracy: 1.0000 - val_loss: 2.1474 - val_accuracy: 0.7200\n",
            "Epoch 327/500\n",
            "7/7 [==============================] - 0s 9ms/step - loss: 4.6175e-04 - accuracy: 1.0000 - val_loss: 2.1661 - val_accuracy: 0.7200\n",
            "Epoch 328/500\n",
            "7/7 [==============================] - 0s 9ms/step - loss: 4.5135e-04 - accuracy: 1.0000 - val_loss: 2.1571 - val_accuracy: 0.7133\n",
            "Epoch 329/500\n",
            "7/7 [==============================] - 0s 9ms/step - loss: 4.4282e-04 - accuracy: 1.0000 - val_loss: 2.1778 - val_accuracy: 0.7200\n",
            "Epoch 330/500\n",
            "7/7 [==============================] - 0s 9ms/step - loss: 4.3803e-04 - accuracy: 1.0000 - val_loss: 2.1573 - val_accuracy: 0.7200\n",
            "Epoch 331/500\n",
            "7/7 [==============================] - 0s 11ms/step - loss: 4.2090e-04 - accuracy: 1.0000 - val_loss: 2.1796 - val_accuracy: 0.7200\n",
            "Epoch 332/500\n",
            "7/7 [==============================] - 0s 9ms/step - loss: 4.1979e-04 - accuracy: 1.0000 - val_loss: 2.1768 - val_accuracy: 0.7200\n",
            "Epoch 333/500\n",
            "7/7 [==============================] - 0s 9ms/step - loss: 4.3302e-04 - accuracy: 1.0000 - val_loss: 2.1849 - val_accuracy: 0.7200\n",
            "Epoch 334/500\n",
            "7/7 [==============================] - 0s 8ms/step - loss: 4.3958e-04 - accuracy: 1.0000 - val_loss: 2.1883 - val_accuracy: 0.7200\n",
            "Epoch 335/500\n",
            "7/7 [==============================] - 0s 9ms/step - loss: 4.0876e-04 - accuracy: 1.0000 - val_loss: 2.1793 - val_accuracy: 0.7200\n",
            "Epoch 336/500\n",
            "7/7 [==============================] - 0s 9ms/step - loss: 4.0923e-04 - accuracy: 1.0000 - val_loss: 2.2035 - val_accuracy: 0.7200\n",
            "Epoch 337/500\n",
            "7/7 [==============================] - 0s 10ms/step - loss: 4.0324e-04 - accuracy: 1.0000 - val_loss: 2.1920 - val_accuracy: 0.7200\n",
            "Epoch 338/500\n",
            "7/7 [==============================] - 0s 9ms/step - loss: 3.7419e-04 - accuracy: 1.0000 - val_loss: 2.2029 - val_accuracy: 0.7200\n",
            "Epoch 339/500\n",
            "7/7 [==============================] - 0s 9ms/step - loss: 3.9051e-04 - accuracy: 1.0000 - val_loss: 2.1933 - val_accuracy: 0.7200\n",
            "Epoch 340/500\n",
            "7/7 [==============================] - 0s 9ms/step - loss: 3.7462e-04 - accuracy: 1.0000 - val_loss: 2.2063 - val_accuracy: 0.7200\n",
            "Epoch 341/500\n",
            "7/7 [==============================] - 0s 9ms/step - loss: 3.7182e-04 - accuracy: 1.0000 - val_loss: 2.2182 - val_accuracy: 0.7200\n",
            "Epoch 342/500\n",
            "7/7 [==============================] - 0s 9ms/step - loss: 3.7451e-04 - accuracy: 1.0000 - val_loss: 2.2125 - val_accuracy: 0.7267\n",
            "Epoch 343/500\n",
            "7/7 [==============================] - 0s 9ms/step - loss: 3.7854e-04 - accuracy: 1.0000 - val_loss: 2.2213 - val_accuracy: 0.7200\n",
            "Epoch 344/500\n",
            "7/7 [==============================] - 0s 9ms/step - loss: 3.5132e-04 - accuracy: 1.0000 - val_loss: 2.2152 - val_accuracy: 0.7200\n",
            "Epoch 345/500\n",
            "7/7 [==============================] - 0s 11ms/step - loss: 3.5948e-04 - accuracy: 1.0000 - val_loss: 2.2261 - val_accuracy: 0.7200\n",
            "Epoch 346/500\n",
            "7/7 [==============================] - 0s 9ms/step - loss: 3.4028e-04 - accuracy: 1.0000 - val_loss: 2.2226 - val_accuracy: 0.7200\n",
            "Epoch 347/500\n",
            "7/7 [==============================] - 0s 10ms/step - loss: 3.4782e-04 - accuracy: 1.0000 - val_loss: 2.2410 - val_accuracy: 0.7200\n",
            "Epoch 348/500\n",
            "7/7 [==============================] - 0s 9ms/step - loss: 3.4164e-04 - accuracy: 1.0000 - val_loss: 2.2351 - val_accuracy: 0.7200\n",
            "Epoch 349/500\n",
            "7/7 [==============================] - 0s 9ms/step - loss: 3.3229e-04 - accuracy: 1.0000 - val_loss: 2.2380 - val_accuracy: 0.7267\n",
            "Epoch 350/500\n",
            "7/7 [==============================] - 0s 8ms/step - loss: 3.2585e-04 - accuracy: 1.0000 - val_loss: 2.2478 - val_accuracy: 0.7200\n",
            "Epoch 351/500\n",
            "7/7 [==============================] - 0s 9ms/step - loss: 3.2117e-04 - accuracy: 1.0000 - val_loss: 2.2541 - val_accuracy: 0.7267\n",
            "Epoch 352/500\n",
            "7/7 [==============================] - 0s 12ms/step - loss: 3.2354e-04 - accuracy: 1.0000 - val_loss: 2.2559 - val_accuracy: 0.7200\n",
            "Epoch 353/500\n",
            "7/7 [==============================] - 0s 9ms/step - loss: 3.1869e-04 - accuracy: 1.0000 - val_loss: 2.2591 - val_accuracy: 0.7200\n",
            "Epoch 354/500\n",
            "7/7 [==============================] - 0s 10ms/step - loss: 3.0828e-04 - accuracy: 1.0000 - val_loss: 2.2549 - val_accuracy: 0.7200\n",
            "Epoch 355/500\n",
            "7/7 [==============================] - 0s 9ms/step - loss: 3.1428e-04 - accuracy: 1.0000 - val_loss: 2.2750 - val_accuracy: 0.7200\n",
            "Epoch 356/500\n",
            "7/7 [==============================] - 0s 9ms/step - loss: 2.9490e-04 - accuracy: 1.0000 - val_loss: 2.2547 - val_accuracy: 0.7200\n",
            "Epoch 357/500\n",
            "7/7 [==============================] - 0s 9ms/step - loss: 3.1546e-04 - accuracy: 1.0000 - val_loss: 2.2725 - val_accuracy: 0.7200\n",
            "Epoch 358/500\n",
            "7/7 [==============================] - 0s 9ms/step - loss: 3.0592e-04 - accuracy: 1.0000 - val_loss: 2.2784 - val_accuracy: 0.7200\n",
            "Epoch 359/500\n",
            "7/7 [==============================] - 0s 11ms/step - loss: 2.9731e-04 - accuracy: 1.0000 - val_loss: 2.2756 - val_accuracy: 0.7200\n",
            "Epoch 360/500\n",
            "7/7 [==============================] - 0s 9ms/step - loss: 2.9245e-04 - accuracy: 1.0000 - val_loss: 2.2839 - val_accuracy: 0.7200\n",
            "Epoch 361/500\n",
            "7/7 [==============================] - 0s 9ms/step - loss: 3.0808e-04 - accuracy: 1.0000 - val_loss: 2.2855 - val_accuracy: 0.7267\n",
            "Epoch 362/500\n",
            "7/7 [==============================] - 0s 9ms/step - loss: 2.9224e-04 - accuracy: 1.0000 - val_loss: 2.2984 - val_accuracy: 0.7200\n",
            "Epoch 363/500\n",
            "7/7 [==============================] - 0s 9ms/step - loss: 2.7575e-04 - accuracy: 1.0000 - val_loss: 2.2765 - val_accuracy: 0.7267\n",
            "Epoch 364/500\n",
            "7/7 [==============================] - 0s 9ms/step - loss: 2.7540e-04 - accuracy: 1.0000 - val_loss: 2.3040 - val_accuracy: 0.7200\n",
            "Epoch 365/500\n",
            "7/7 [==============================] - 0s 9ms/step - loss: 2.7382e-04 - accuracy: 1.0000 - val_loss: 2.2992 - val_accuracy: 0.7267\n",
            "Epoch 366/500\n",
            "7/7 [==============================] - 0s 9ms/step - loss: 2.6207e-04 - accuracy: 1.0000 - val_loss: 2.3087 - val_accuracy: 0.7267\n",
            "Epoch 367/500\n",
            "7/7 [==============================] - 0s 9ms/step - loss: 2.7200e-04 - accuracy: 1.0000 - val_loss: 2.3042 - val_accuracy: 0.7267\n",
            "Epoch 368/500\n",
            "7/7 [==============================] - 0s 9ms/step - loss: 2.5818e-04 - accuracy: 1.0000 - val_loss: 2.3101 - val_accuracy: 0.7200\n",
            "Epoch 369/500\n",
            "7/7 [==============================] - 0s 8ms/step - loss: 2.5344e-04 - accuracy: 1.0000 - val_loss: 2.3179 - val_accuracy: 0.7200\n",
            "Epoch 370/500\n",
            "7/7 [==============================] - 0s 9ms/step - loss: 2.4890e-04 - accuracy: 1.0000 - val_loss: 2.3196 - val_accuracy: 0.7267\n",
            "Epoch 371/500\n",
            "7/7 [==============================] - 0s 10ms/step - loss: 2.4792e-04 - accuracy: 1.0000 - val_loss: 2.3279 - val_accuracy: 0.7267\n",
            "Epoch 372/500\n",
            "7/7 [==============================] - 0s 9ms/step - loss: 2.4749e-04 - accuracy: 1.0000 - val_loss: 2.3319 - val_accuracy: 0.7200\n",
            "Epoch 373/500\n",
            "7/7 [==============================] - 0s 9ms/step - loss: 2.4391e-04 - accuracy: 1.0000 - val_loss: 2.3290 - val_accuracy: 0.7200\n",
            "Epoch 374/500\n",
            "7/7 [==============================] - 0s 37ms/step - loss: 2.4412e-04 - accuracy: 1.0000 - val_loss: 2.3320 - val_accuracy: 0.7133\n",
            "Epoch 375/500\n",
            "7/7 [==============================] - 0s 17ms/step - loss: 2.3883e-04 - accuracy: 1.0000 - val_loss: 2.3426 - val_accuracy: 0.7200\n",
            "Epoch 376/500\n",
            "7/7 [==============================] - 0s 9ms/step - loss: 2.3422e-04 - accuracy: 1.0000 - val_loss: 2.3431 - val_accuracy: 0.7267\n",
            "Epoch 377/500\n",
            "7/7 [==============================] - 0s 9ms/step - loss: 2.3091e-04 - accuracy: 1.0000 - val_loss: 2.3388 - val_accuracy: 0.7200\n",
            "Epoch 378/500\n",
            "7/7 [==============================] - 0s 9ms/step - loss: 2.2799e-04 - accuracy: 1.0000 - val_loss: 2.3486 - val_accuracy: 0.7133\n",
            "Epoch 379/500\n",
            "7/7 [==============================] - 0s 10ms/step - loss: 2.3013e-04 - accuracy: 1.0000 - val_loss: 2.3584 - val_accuracy: 0.7200\n",
            "Epoch 380/500\n",
            "7/7 [==============================] - 0s 9ms/step - loss: 2.2852e-04 - accuracy: 1.0000 - val_loss: 2.3612 - val_accuracy: 0.7267\n",
            "Epoch 381/500\n",
            "7/7 [==============================] - 0s 9ms/step - loss: 2.1864e-04 - accuracy: 1.0000 - val_loss: 2.3596 - val_accuracy: 0.7133\n",
            "Epoch 382/500\n",
            "7/7 [==============================] - 0s 10ms/step - loss: 2.2251e-04 - accuracy: 1.0000 - val_loss: 2.3584 - val_accuracy: 0.7267\n",
            "Epoch 383/500\n",
            "7/7 [==============================] - 0s 10ms/step - loss: 2.2022e-04 - accuracy: 1.0000 - val_loss: 2.3657 - val_accuracy: 0.7267\n",
            "Epoch 384/500\n",
            "7/7 [==============================] - 0s 10ms/step - loss: 2.2981e-04 - accuracy: 1.0000 - val_loss: 2.3755 - val_accuracy: 0.7200\n",
            "Epoch 385/500\n",
            "7/7 [==============================] - 0s 11ms/step - loss: 2.0844e-04 - accuracy: 1.0000 - val_loss: 2.3563 - val_accuracy: 0.7267\n",
            "Epoch 386/500\n",
            "7/7 [==============================] - 0s 9ms/step - loss: 2.1059e-04 - accuracy: 1.0000 - val_loss: 2.3789 - val_accuracy: 0.7200\n",
            "Epoch 387/500\n",
            "7/7 [==============================] - 0s 9ms/step - loss: 2.1052e-04 - accuracy: 1.0000 - val_loss: 2.3798 - val_accuracy: 0.7200\n",
            "Epoch 388/500\n",
            "7/7 [==============================] - 0s 9ms/step - loss: 2.1522e-04 - accuracy: 1.0000 - val_loss: 2.3804 - val_accuracy: 0.7200\n",
            "Epoch 389/500\n",
            "7/7 [==============================] - 0s 8ms/step - loss: 2.0155e-04 - accuracy: 1.0000 - val_loss: 2.4029 - val_accuracy: 0.7200\n",
            "Epoch 390/500\n",
            "7/7 [==============================] - 0s 9ms/step - loss: 2.0109e-04 - accuracy: 1.0000 - val_loss: 2.3817 - val_accuracy: 0.7267\n",
            "Epoch 391/500\n",
            "7/7 [==============================] - 0s 8ms/step - loss: 1.9731e-04 - accuracy: 1.0000 - val_loss: 2.3921 - val_accuracy: 0.7200\n",
            "Epoch 392/500\n",
            "7/7 [==============================] - 0s 11ms/step - loss: 1.9202e-04 - accuracy: 1.0000 - val_loss: 2.3963 - val_accuracy: 0.7200\n",
            "Epoch 393/500\n",
            "7/7 [==============================] - 0s 10ms/step - loss: 1.9035e-04 - accuracy: 1.0000 - val_loss: 2.3958 - val_accuracy: 0.7267\n",
            "Epoch 394/500\n",
            "7/7 [==============================] - 0s 9ms/step - loss: 1.8965e-04 - accuracy: 1.0000 - val_loss: 2.4036 - val_accuracy: 0.7267\n",
            "Epoch 395/500\n",
            "7/7 [==============================] - 0s 9ms/step - loss: 1.8523e-04 - accuracy: 1.0000 - val_loss: 2.4104 - val_accuracy: 0.7200\n",
            "Epoch 396/500\n",
            "7/7 [==============================] - 0s 9ms/step - loss: 1.9020e-04 - accuracy: 1.0000 - val_loss: 2.4034 - val_accuracy: 0.7267\n",
            "Epoch 397/500\n",
            "7/7 [==============================] - 0s 9ms/step - loss: 1.8226e-04 - accuracy: 1.0000 - val_loss: 2.4083 - val_accuracy: 0.7267\n",
            "Epoch 398/500\n",
            "7/7 [==============================] - 0s 9ms/step - loss: 1.8251e-04 - accuracy: 1.0000 - val_loss: 2.4260 - val_accuracy: 0.7200\n",
            "Epoch 399/500\n",
            "7/7 [==============================] - 0s 11ms/step - loss: 1.8021e-04 - accuracy: 1.0000 - val_loss: 2.4134 - val_accuracy: 0.7133\n",
            "Epoch 400/500\n",
            "7/7 [==============================] - 0s 9ms/step - loss: 1.7637e-04 - accuracy: 1.0000 - val_loss: 2.4149 - val_accuracy: 0.7200\n",
            "Epoch 401/500\n",
            "7/7 [==============================] - 0s 11ms/step - loss: 1.7538e-04 - accuracy: 1.0000 - val_loss: 2.4282 - val_accuracy: 0.7200\n",
            "Epoch 402/500\n",
            "7/7 [==============================] - 0s 9ms/step - loss: 1.7283e-04 - accuracy: 1.0000 - val_loss: 2.4313 - val_accuracy: 0.7200\n",
            "Epoch 403/500\n",
            "7/7 [==============================] - 0s 10ms/step - loss: 1.7060e-04 - accuracy: 1.0000 - val_loss: 2.4336 - val_accuracy: 0.7133\n",
            "Epoch 404/500\n",
            "7/7 [==============================] - 0s 9ms/step - loss: 1.6923e-04 - accuracy: 1.0000 - val_loss: 2.4303 - val_accuracy: 0.7267\n",
            "Epoch 405/500\n",
            "7/7 [==============================] - 0s 9ms/step - loss: 1.7122e-04 - accuracy: 1.0000 - val_loss: 2.4407 - val_accuracy: 0.7200\n",
            "Epoch 406/500\n",
            "7/7 [==============================] - 0s 9ms/step - loss: 1.6943e-04 - accuracy: 1.0000 - val_loss: 2.4408 - val_accuracy: 0.7200\n",
            "Epoch 407/500\n",
            "7/7 [==============================] - 0s 8ms/step - loss: 1.7089e-04 - accuracy: 1.0000 - val_loss: 2.4383 - val_accuracy: 0.7267\n",
            "Epoch 408/500\n",
            "7/7 [==============================] - 0s 9ms/step - loss: 1.6117e-04 - accuracy: 1.0000 - val_loss: 2.4555 - val_accuracy: 0.7200\n",
            "Epoch 409/500\n",
            "7/7 [==============================] - 0s 9ms/step - loss: 1.6283e-04 - accuracy: 1.0000 - val_loss: 2.4373 - val_accuracy: 0.7267\n",
            "Epoch 410/500\n",
            "7/7 [==============================] - 0s 10ms/step - loss: 1.6041e-04 - accuracy: 1.0000 - val_loss: 2.4456 - val_accuracy: 0.7267\n",
            "Epoch 411/500\n",
            "7/7 [==============================] - 0s 9ms/step - loss: 1.6133e-04 - accuracy: 1.0000 - val_loss: 2.4596 - val_accuracy: 0.7200\n",
            "Epoch 412/500\n",
            "7/7 [==============================] - 0s 9ms/step - loss: 1.5528e-04 - accuracy: 1.0000 - val_loss: 2.4525 - val_accuracy: 0.7267\n",
            "Epoch 413/500\n",
            "7/7 [==============================] - 0s 10ms/step - loss: 1.5569e-04 - accuracy: 1.0000 - val_loss: 2.4632 - val_accuracy: 0.7200\n",
            "Epoch 414/500\n",
            "7/7 [==============================] - 0s 9ms/step - loss: 1.5346e-04 - accuracy: 1.0000 - val_loss: 2.4600 - val_accuracy: 0.7200\n",
            "Epoch 415/500\n",
            "7/7 [==============================] - 0s 13ms/step - loss: 1.5431e-04 - accuracy: 1.0000 - val_loss: 2.4632 - val_accuracy: 0.7200\n",
            "Epoch 416/500\n",
            "7/7 [==============================] - 0s 18ms/step - loss: 1.5035e-04 - accuracy: 1.0000 - val_loss: 2.4601 - val_accuracy: 0.7333\n",
            "Epoch 417/500\n",
            "7/7 [==============================] - 0s 13ms/step - loss: 1.4741e-04 - accuracy: 1.0000 - val_loss: 2.4744 - val_accuracy: 0.7200\n",
            "Epoch 418/500\n",
            "7/7 [==============================] - 0s 16ms/step - loss: 1.4649e-04 - accuracy: 1.0000 - val_loss: 2.4748 - val_accuracy: 0.7200\n",
            "Epoch 419/500\n",
            "7/7 [==============================] - 0s 12ms/step - loss: 1.4443e-04 - accuracy: 1.0000 - val_loss: 2.4717 - val_accuracy: 0.7267\n",
            "Epoch 420/500\n",
            "7/7 [==============================] - 0s 12ms/step - loss: 1.4458e-04 - accuracy: 1.0000 - val_loss: 2.4790 - val_accuracy: 0.7200\n",
            "Epoch 421/500\n",
            "7/7 [==============================] - 0s 12ms/step - loss: 1.4298e-04 - accuracy: 1.0000 - val_loss: 2.4755 - val_accuracy: 0.7133\n",
            "Epoch 422/500\n",
            "7/7 [==============================] - 0s 13ms/step - loss: 1.4799e-04 - accuracy: 1.0000 - val_loss: 2.4911 - val_accuracy: 0.7200\n",
            "Epoch 423/500\n",
            "7/7 [==============================] - 0s 12ms/step - loss: 1.3947e-04 - accuracy: 1.0000 - val_loss: 2.4847 - val_accuracy: 0.7267\n",
            "Epoch 424/500\n",
            "7/7 [==============================] - 0s 15ms/step - loss: 1.4263e-04 - accuracy: 1.0000 - val_loss: 2.4955 - val_accuracy: 0.7200\n",
            "Epoch 425/500\n",
            "7/7 [==============================] - 0s 14ms/step - loss: 1.4120e-04 - accuracy: 1.0000 - val_loss: 2.5047 - val_accuracy: 0.7200\n",
            "Epoch 426/500\n",
            "7/7 [==============================] - 0s 13ms/step - loss: 1.3676e-04 - accuracy: 1.0000 - val_loss: 2.4838 - val_accuracy: 0.7333\n",
            "Epoch 427/500\n",
            "7/7 [==============================] - 0s 14ms/step - loss: 1.3836e-04 - accuracy: 1.0000 - val_loss: 2.4935 - val_accuracy: 0.7133\n",
            "Epoch 428/500\n",
            "7/7 [==============================] - 0s 13ms/step - loss: 1.3834e-04 - accuracy: 1.0000 - val_loss: 2.5112 - val_accuracy: 0.7200\n",
            "Epoch 429/500\n",
            "7/7 [==============================] - 0s 18ms/step - loss: 1.3248e-04 - accuracy: 1.0000 - val_loss: 2.4987 - val_accuracy: 0.7333\n",
            "Epoch 430/500\n",
            "7/7 [==============================] - 0s 16ms/step - loss: 1.3187e-04 - accuracy: 1.0000 - val_loss: 2.5112 - val_accuracy: 0.7200\n",
            "Epoch 431/500\n",
            "7/7 [==============================] - 0s 15ms/step - loss: 1.3197e-04 - accuracy: 1.0000 - val_loss: 2.5110 - val_accuracy: 0.7200\n",
            "Epoch 432/500\n",
            "7/7 [==============================] - 0s 11ms/step - loss: 1.2723e-04 - accuracy: 1.0000 - val_loss: 2.5012 - val_accuracy: 0.7267\n",
            "Epoch 433/500\n",
            "7/7 [==============================] - 0s 13ms/step - loss: 1.2791e-04 - accuracy: 1.0000 - val_loss: 2.5153 - val_accuracy: 0.7200\n",
            "Epoch 434/500\n",
            "7/7 [==============================] - 0s 13ms/step - loss: 1.2475e-04 - accuracy: 1.0000 - val_loss: 2.5260 - val_accuracy: 0.7200\n",
            "Epoch 435/500\n",
            "7/7 [==============================] - 0s 17ms/step - loss: 1.2440e-04 - accuracy: 1.0000 - val_loss: 2.5163 - val_accuracy: 0.7200\n",
            "Epoch 436/500\n",
            "7/7 [==============================] - 0s 14ms/step - loss: 1.2246e-04 - accuracy: 1.0000 - val_loss: 2.5176 - val_accuracy: 0.7200\n",
            "Epoch 437/500\n",
            "7/7 [==============================] - 0s 15ms/step - loss: 1.2259e-04 - accuracy: 1.0000 - val_loss: 2.5238 - val_accuracy: 0.7200\n",
            "Epoch 438/500\n",
            "7/7 [==============================] - 0s 14ms/step - loss: 1.2068e-04 - accuracy: 1.0000 - val_loss: 2.5281 - val_accuracy: 0.7200\n",
            "Epoch 439/500\n",
            "7/7 [==============================] - 0s 14ms/step - loss: 1.1965e-04 - accuracy: 1.0000 - val_loss: 2.5320 - val_accuracy: 0.7200\n",
            "Epoch 440/500\n",
            "7/7 [==============================] - 0s 12ms/step - loss: 1.1835e-04 - accuracy: 1.0000 - val_loss: 2.5306 - val_accuracy: 0.7133\n",
            "Epoch 441/500\n",
            "7/7 [==============================] - 0s 15ms/step - loss: 1.1656e-04 - accuracy: 1.0000 - val_loss: 2.5319 - val_accuracy: 0.7133\n",
            "Epoch 442/500\n",
            "7/7 [==============================] - 0s 12ms/step - loss: 1.1618e-04 - accuracy: 1.0000 - val_loss: 2.5407 - val_accuracy: 0.7200\n",
            "Epoch 443/500\n",
            "7/7 [==============================] - 0s 14ms/step - loss: 1.1455e-04 - accuracy: 1.0000 - val_loss: 2.5415 - val_accuracy: 0.7200\n",
            "Epoch 444/500\n",
            "7/7 [==============================] - 0s 11ms/step - loss: 1.1699e-04 - accuracy: 1.0000 - val_loss: 2.5429 - val_accuracy: 0.7133\n",
            "Epoch 445/500\n",
            "7/7 [==============================] - 0s 12ms/step - loss: 1.1320e-04 - accuracy: 1.0000 - val_loss: 2.5532 - val_accuracy: 0.7200\n",
            "Epoch 446/500\n",
            "7/7 [==============================] - 0s 14ms/step - loss: 1.1369e-04 - accuracy: 1.0000 - val_loss: 2.5448 - val_accuracy: 0.7267\n",
            "Epoch 447/500\n",
            "7/7 [==============================] - 0s 14ms/step - loss: 1.1340e-04 - accuracy: 1.0000 - val_loss: 2.5490 - val_accuracy: 0.7133\n",
            "Epoch 448/500\n",
            "7/7 [==============================] - 0s 14ms/step - loss: 1.1165e-04 - accuracy: 1.0000 - val_loss: 2.5641 - val_accuracy: 0.7200\n",
            "Epoch 449/500\n",
            "7/7 [==============================] - 0s 15ms/step - loss: 1.1189e-04 - accuracy: 1.0000 - val_loss: 2.5542 - val_accuracy: 0.7200\n",
            "Epoch 450/500\n",
            "7/7 [==============================] - 0s 14ms/step - loss: 1.0847e-04 - accuracy: 1.0000 - val_loss: 2.5527 - val_accuracy: 0.7200\n",
            "Epoch 451/500\n",
            "7/7 [==============================] - 0s 12ms/step - loss: 1.0741e-04 - accuracy: 1.0000 - val_loss: 2.5598 - val_accuracy: 0.7133\n",
            "Epoch 452/500\n",
            "7/7 [==============================] - 0s 15ms/step - loss: 1.0810e-04 - accuracy: 1.0000 - val_loss: 2.5640 - val_accuracy: 0.7200\n",
            "Epoch 453/500\n",
            "7/7 [==============================] - 0s 14ms/step - loss: 1.1051e-04 - accuracy: 1.0000 - val_loss: 2.5737 - val_accuracy: 0.7200\n",
            "Epoch 454/500\n",
            "7/7 [==============================] - 0s 14ms/step - loss: 1.0418e-04 - accuracy: 1.0000 - val_loss: 2.5579 - val_accuracy: 0.7200\n",
            "Epoch 455/500\n",
            "7/7 [==============================] - 0s 15ms/step - loss: 1.0691e-04 - accuracy: 1.0000 - val_loss: 2.5701 - val_accuracy: 0.7200\n",
            "Epoch 456/500\n",
            "7/7 [==============================] - 0s 13ms/step - loss: 1.0537e-04 - accuracy: 1.0000 - val_loss: 2.5816 - val_accuracy: 0.7133\n",
            "Epoch 457/500\n",
            "7/7 [==============================] - 0s 13ms/step - loss: 1.0038e-04 - accuracy: 1.0000 - val_loss: 2.5765 - val_accuracy: 0.7200\n",
            "Epoch 458/500\n",
            "7/7 [==============================] - 0s 12ms/step - loss: 1.0237e-04 - accuracy: 1.0000 - val_loss: 2.5777 - val_accuracy: 0.7133\n",
            "Epoch 459/500\n",
            "7/7 [==============================] - 0s 12ms/step - loss: 1.0053e-04 - accuracy: 1.0000 - val_loss: 2.5760 - val_accuracy: 0.7133\n",
            "Epoch 460/500\n",
            "7/7 [==============================] - 0s 14ms/step - loss: 1.0149e-04 - accuracy: 1.0000 - val_loss: 2.5908 - val_accuracy: 0.7200\n",
            "Epoch 461/500\n",
            "7/7 [==============================] - 0s 11ms/step - loss: 9.9484e-05 - accuracy: 1.0000 - val_loss: 2.5842 - val_accuracy: 0.7200\n",
            "Epoch 462/500\n",
            "7/7 [==============================] - 0s 17ms/step - loss: 9.6860e-05 - accuracy: 1.0000 - val_loss: 2.5903 - val_accuracy: 0.7133\n",
            "Epoch 463/500\n",
            "7/7 [==============================] - 0s 12ms/step - loss: 9.7382e-05 - accuracy: 1.0000 - val_loss: 2.5925 - val_accuracy: 0.7200\n",
            "Epoch 464/500\n",
            "7/7 [==============================] - 0s 13ms/step - loss: 9.6085e-05 - accuracy: 1.0000 - val_loss: 2.5928 - val_accuracy: 0.7200\n",
            "Epoch 465/500\n",
            "7/7 [==============================] - 0s 12ms/step - loss: 9.4727e-05 - accuracy: 1.0000 - val_loss: 2.5922 - val_accuracy: 0.7200\n",
            "Epoch 466/500\n",
            "7/7 [==============================] - 0s 13ms/step - loss: 9.7807e-05 - accuracy: 1.0000 - val_loss: 2.5953 - val_accuracy: 0.7267\n",
            "Epoch 467/500\n",
            "7/7 [==============================] - 0s 12ms/step - loss: 9.2972e-05 - accuracy: 1.0000 - val_loss: 2.6079 - val_accuracy: 0.7200\n",
            "Epoch 468/500\n",
            "7/7 [==============================] - 0s 16ms/step - loss: 9.5450e-05 - accuracy: 1.0000 - val_loss: 2.6029 - val_accuracy: 0.7133\n",
            "Epoch 469/500\n",
            "7/7 [==============================] - 0s 12ms/step - loss: 1.0212e-04 - accuracy: 1.0000 - val_loss: 2.5885 - val_accuracy: 0.7200\n",
            "Epoch 470/500\n",
            "7/7 [==============================] - 0s 15ms/step - loss: 8.9391e-05 - accuracy: 1.0000 - val_loss: 2.6164 - val_accuracy: 0.7200\n",
            "Epoch 471/500\n",
            "7/7 [==============================] - 0s 11ms/step - loss: 9.5751e-05 - accuracy: 1.0000 - val_loss: 2.6101 - val_accuracy: 0.7200\n",
            "Epoch 472/500\n",
            "7/7 [==============================] - 0s 13ms/step - loss: 9.0915e-05 - accuracy: 1.0000 - val_loss: 2.6012 - val_accuracy: 0.7333\n",
            "Epoch 473/500\n",
            "7/7 [==============================] - 0s 12ms/step - loss: 8.9202e-05 - accuracy: 1.0000 - val_loss: 2.6216 - val_accuracy: 0.7133\n",
            "Epoch 474/500\n",
            "7/7 [==============================] - 0s 14ms/step - loss: 8.9211e-05 - accuracy: 1.0000 - val_loss: 2.6176 - val_accuracy: 0.7133\n",
            "Epoch 475/500\n",
            "7/7 [==============================] - 0s 39ms/step - loss: 8.6562e-05 - accuracy: 1.0000 - val_loss: 2.6131 - val_accuracy: 0.7267\n",
            "Epoch 476/500\n",
            "7/7 [==============================] - 0s 41ms/step - loss: 8.6865e-05 - accuracy: 1.0000 - val_loss: 2.6229 - val_accuracy: 0.7200\n",
            "Epoch 477/500\n",
            "7/7 [==============================] - 0s 15ms/step - loss: 8.5672e-05 - accuracy: 1.0000 - val_loss: 2.6252 - val_accuracy: 0.7200\n",
            "Epoch 478/500\n",
            "7/7 [==============================] - 0s 13ms/step - loss: 8.4745e-05 - accuracy: 1.0000 - val_loss: 2.6261 - val_accuracy: 0.7133\n",
            "Epoch 479/500\n",
            "7/7 [==============================] - 0s 12ms/step - loss: 8.4150e-05 - accuracy: 1.0000 - val_loss: 2.6305 - val_accuracy: 0.7200\n",
            "Epoch 480/500\n",
            "7/7 [==============================] - 0s 14ms/step - loss: 8.4225e-05 - accuracy: 1.0000 - val_loss: 2.6358 - val_accuracy: 0.7200\n",
            "Epoch 481/500\n",
            "7/7 [==============================] - 0s 15ms/step - loss: 8.3412e-05 - accuracy: 1.0000 - val_loss: 2.6263 - val_accuracy: 0.7133\n",
            "Epoch 482/500\n",
            "7/7 [==============================] - 0s 13ms/step - loss: 8.3056e-05 - accuracy: 1.0000 - val_loss: 2.6365 - val_accuracy: 0.7200\n",
            "Epoch 483/500\n",
            "7/7 [==============================] - 0s 13ms/step - loss: 8.1517e-05 - accuracy: 1.0000 - val_loss: 2.6426 - val_accuracy: 0.7133\n",
            "Epoch 484/500\n",
            "7/7 [==============================] - 0s 12ms/step - loss: 8.1500e-05 - accuracy: 1.0000 - val_loss: 2.6451 - val_accuracy: 0.7200\n",
            "Epoch 485/500\n",
            "7/7 [==============================] - 0s 11ms/step - loss: 8.0788e-05 - accuracy: 1.0000 - val_loss: 2.6416 - val_accuracy: 0.7133\n",
            "Epoch 486/500\n",
            "7/7 [==============================] - 0s 15ms/step - loss: 7.9781e-05 - accuracy: 1.0000 - val_loss: 2.6380 - val_accuracy: 0.7200\n",
            "Epoch 487/500\n",
            "7/7 [==============================] - 0s 15ms/step - loss: 7.9096e-05 - accuracy: 1.0000 - val_loss: 2.6471 - val_accuracy: 0.7200\n",
            "Epoch 488/500\n",
            "7/7 [==============================] - 0s 14ms/step - loss: 7.9146e-05 - accuracy: 1.0000 - val_loss: 2.6538 - val_accuracy: 0.7133\n",
            "Epoch 489/500\n",
            "7/7 [==============================] - 0s 12ms/step - loss: 7.6576e-05 - accuracy: 1.0000 - val_loss: 2.6476 - val_accuracy: 0.7200\n",
            "Epoch 490/500\n",
            "7/7 [==============================] - 0s 10ms/step - loss: 7.9595e-05 - accuracy: 1.0000 - val_loss: 2.6606 - val_accuracy: 0.7133\n",
            "Epoch 491/500\n",
            "7/7 [==============================] - 0s 9ms/step - loss: 7.7069e-05 - accuracy: 1.0000 - val_loss: 2.6598 - val_accuracy: 0.7200\n",
            "Epoch 492/500\n",
            "7/7 [==============================] - 0s 9ms/step - loss: 7.6527e-05 - accuracy: 1.0000 - val_loss: 2.6535 - val_accuracy: 0.7267\n",
            "Epoch 493/500\n",
            "7/7 [==============================] - 0s 9ms/step - loss: 7.5317e-05 - accuracy: 1.0000 - val_loss: 2.6616 - val_accuracy: 0.7133\n",
            "Epoch 494/500\n",
            "7/7 [==============================] - 0s 10ms/step - loss: 7.4565e-05 - accuracy: 1.0000 - val_loss: 2.6663 - val_accuracy: 0.7133\n",
            "Epoch 495/500\n",
            "7/7 [==============================] - 0s 9ms/step - loss: 7.4930e-05 - accuracy: 1.0000 - val_loss: 2.6655 - val_accuracy: 0.7133\n",
            "Epoch 496/500\n",
            "7/7 [==============================] - 0s 9ms/step - loss: 7.3436e-05 - accuracy: 1.0000 - val_loss: 2.6679 - val_accuracy: 0.7133\n",
            "Epoch 497/500\n",
            "7/7 [==============================] - 0s 9ms/step - loss: 7.2901e-05 - accuracy: 1.0000 - val_loss: 2.6694 - val_accuracy: 0.7133\n",
            "Epoch 498/500\n",
            "7/7 [==============================] - 0s 9ms/step - loss: 7.1976e-05 - accuracy: 1.0000 - val_loss: 2.6688 - val_accuracy: 0.7200\n",
            "Epoch 499/500\n",
            "7/7 [==============================] - 0s 10ms/step - loss: 7.1870e-05 - accuracy: 1.0000 - val_loss: 2.6759 - val_accuracy: 0.7133\n",
            "Epoch 500/500\n",
            "7/7 [==============================] - 0s 11ms/step - loss: 7.2448e-05 - accuracy: 1.0000 - val_loss: 2.6809 - val_accuracy: 0.7133\n"
          ]
        }
      ]
    },
    {
      "cell_type": "markdown",
      "source": [
        "## Plotting epoch-wise training and validation accuracies in the same plot"
      ],
      "metadata": {
        "id": "5VgvgmnQypXD"
      }
    },
    {
      "cell_type": "code",
      "source": [
        "plt.plot(history.epoch,history.history['accuracy'],color='r',label='Training Accuracy')\n",
        "plt.plot(history.epoch,history.history['val_accuracy'],color='b',label='Validation Accuracy')\n",
        "plt.title(\"Epoch-wise Training vs Validation Accuracies\")\n",
        "plt.xlabel('No. of Epochs')\n",
        "plt.ylabel('Accuracy Score')\n",
        "plt.legend()\n",
        "plt.show()"
      ],
      "metadata": {
        "colab": {
          "base_uri": "https://localhost:8080/",
          "height": 472
        },
        "id": "OaGYZo3pg6Og",
        "outputId": "dffdf7d9-1f36-499f-a2b9-ce4290254a01"
      },
      "execution_count": 23,
      "outputs": [
        {
          "output_type": "display_data",
          "data": {
            "text/plain": [
              "<Figure size 640x480 with 1 Axes>"
            ],
            "image/png": "[encoded data removed]"
          },
          "metadata": {}
        }
      ]
    },
    {
      "cell_type": "markdown",
      "source": [
        "## Loading the Test Data"
      ],
      "metadata": {
        "id": "pQ8wfOdYzET3"
      }
    },
    {
      "cell_type": "code",
      "source": [
        "test_data,test_label=load_images('/content/drive/MyDrive/cifar-3class-data/test')"
      ],
      "metadata": {
        "id": "9May82-Rh0J0"
      },
      "execution_count": 24,
      "outputs": []
    },
    {
      "cell_type": "code",
      "source": [
        "test_data=flatten_n_normalize(test_data)"
      ],
      "metadata": {
        "id": "7UpINBY1iiT7"
      },
      "execution_count": 25,
      "outputs": []
    },
    {
      "cell_type": "markdown",
      "source": [
        "## Evaluating the Model on Test Data and Computing Loss and Accuracy Score"
      ],
      "metadata": {
        "id": "tUI9_o4gzRRj"
      }
    },
    {
      "cell_type": "code",
      "source": [
        "evaluate=model.evaluate(test_data,test_label)"
      ],
      "metadata": {
        "colab": {
          "base_uri": "https://localhost:8080/"
        },
        "id": "AO-DZ1G2jrkS",
        "outputId": "b9523c3a-6310-4a92-80fc-0a7dda8f2290"
      },
      "execution_count": 26,
      "outputs": [
        {
          "output_type": "stream",
          "name": "stdout",
          "text": [
            "10/10 [==============================] - 0s 3ms/step - loss: 2.5195 - accuracy: 0.7333\n"
          ]
        }
      ]
    },
    {
      "cell_type": "code",
      "source": [
        "evaluate[0]"
      ],
      "metadata": {
        "colab": {
          "base_uri": "https://localhost:8080/"
        },
        "id": "5_XgHqMqkCxl",
        "outputId": "a5adbe28-73cc-41f7-a890-63e4d2b4c6e7"
      },
      "execution_count": 27,
      "outputs": [
        {
          "output_type": "execute_result",
          "data": {
            "text/plain": [
              "2.5194880962371826"
            ]
          },
          "metadata": {},
          "execution_count": 27
        }
      ]
    },
    {
      "cell_type": "code",
      "source": [
        "print(f\"The Test Loss of the model is {evaluate[0]}\")\n",
        "print(f\"The accuracy score of the model is {round(evaluate[1]*100,2)}%\")\n"
      ],
      "metadata": {
        "colab": {
          "base_uri": "https://localhost:8080/"
        },
        "id": "S52pOt_gza1-",
        "outputId": "942ca457-efa7-406a-cd38-ad7db8b6de8d"
      },
      "execution_count": 28,
      "outputs": [
        {
          "output_type": "stream",
          "name": "stdout",
          "text": [
            "The Test Loss of the model is 2.5194880962371826\n",
            "The accuracy score of the model is 73.33%\n"
          ]
        }
      ]
    },
    {
      "cell_type": "markdown",
      "source": [
        "## **CNN**"
      ],
      "metadata": {
        "id": "e0Rmxlzikx6N"
      }
    },
    {
      "cell_type": "code",
      "source": [
        "training_data,training_labels = load_images('/content/drive/MyDrive/cifar-3class-data/train')"
      ],
      "metadata": {
        "id": "ZSWH9ptXmHfL"
      },
      "execution_count": 29,
      "outputs": []
    },
    {
      "cell_type": "markdown",
      "source": [
        "## Creating Validation Set of 10%  Training Data"
      ],
      "metadata": {
        "id": "ZBLq-5q40H7v"
      }
    },
    {
      "cell_type": "code",
      "source": [
        "X_train,X_test,Y_train,Y_test=train_test_split(training_data,training_labels,test_size=0.1,random_state=42)"
      ],
      "metadata": {
        "id": "ckIB8p9MmYCF"
      },
      "execution_count": 30,
      "outputs": []
    },
    {
      "cell_type": "markdown",
      "source": [
        "### Performing Normalization on Data"
      ],
      "metadata": {
        "id": "GeaEw1IY0WeF"
      }
    },
    {
      "cell_type": "code",
      "source": [
        "def normalize(X):\n",
        "    return X/255\n",
        "X_train=normalize(X_train)\n",
        "X_test=normalize(X_test)"
      ],
      "metadata": {
        "id": "ITNT8JY5mwcF"
      },
      "execution_count": 31,
      "outputs": []
    },
    {
      "cell_type": "markdown",
      "source": [
        "### Creating the Specified Structure for Architecture for CNN"
      ],
      "metadata": {
        "id": "usR8k08p0h_H"
      }
    },
    {
      "cell_type": "code",
      "source": [
        "model=Sequential()\n",
        "\n",
        "model.add(Conv2D(64,kernel_size=(3,3),padding='same',activation='relu',input_shape=(32,32,3)))\n",
        "model.add(Conv2D(64,kernel_size=(3,3),padding='same',activation='relu'))\n",
        "model.add(MaxPooling2D(pool_size=(2,2),padding='valid'))\n",
        "\n",
        "model.add(Conv2D(128,kernel_size=(3,3),padding='same',activation='relu'))\n",
        "model.add(Conv2D(128,kernel_size=(3,3),padding='same',activation='relu'))\n",
        "model.add(MaxPooling2D(pool_size=(2,2),padding='valid'))\n",
        "\n",
        "model.add(Flatten())\n",
        "\n",
        "model.add(Dense(512,activation='relu'))\n",
        "model.add(Dense(100,activation='relu'))\n",
        "model.add(Dense(3,activation='softmax'))"
      ],
      "metadata": {
        "id": "ard1QZVkkz1_"
      },
      "execution_count": 32,
      "outputs": []
    },
    {
      "cell_type": "code",
      "source": [
        "model.compile(optimizer='Adam',loss='sparse_categorical_crossentropy',metrics='accuracy')"
      ],
      "metadata": {
        "id": "3uB8EcpDlUje"
      },
      "execution_count": 33,
      "outputs": []
    },
    {
      "cell_type": "code",
      "source": [
        "history_cnn = model.fit(X_train,Y_train,epochs=50,batch_size=200,validation_data=(X_test,Y_test))"
      ],
      "metadata": {
        "colab": {
          "base_uri": "https://localhost:8080/"
        },
        "id": "9CcWRX1hnvd7",
        "outputId": "a1e1e944-3ae6-4af2-bf09-a24b08e8275c"
      },
      "execution_count": 34,
      "outputs": [
        {
          "output_type": "stream",
          "name": "stdout",
          "text": [
            "Epoch 1/50\n",
            "7/7 [==============================] - 9s 174ms/step - loss: 1.1184 - accuracy: 0.3222 - val_loss: 1.0655 - val_accuracy: 0.6467\n",
            "Epoch 2/50\n",
            "7/7 [==============================] - 0s 37ms/step - loss: 1.0086 - accuracy: 0.5207 - val_loss: 0.9165 - val_accuracy: 0.7333\n",
            "Epoch 3/50\n",
            "7/7 [==============================] - 0s 35ms/step - loss: 0.8937 - accuracy: 0.6430 - val_loss: 0.7857 - val_accuracy: 0.7067\n",
            "Epoch 4/50\n",
            "7/7 [==============================] - 0s 35ms/step - loss: 0.7150 - accuracy: 0.7052 - val_loss: 0.7803 - val_accuracy: 0.6733\n",
            "Epoch 5/50\n",
            "7/7 [==============================] - 0s 37ms/step - loss: 0.6962 - accuracy: 0.7156 - val_loss: 0.6329 - val_accuracy: 0.7333\n",
            "Epoch 6/50\n",
            "7/7 [==============================] - 0s 36ms/step - loss: 0.6004 - accuracy: 0.7659 - val_loss: 0.5695 - val_accuracy: 0.7600\n",
            "Epoch 7/50\n",
            "7/7 [==============================] - 0s 36ms/step - loss: 0.5166 - accuracy: 0.7770 - val_loss: 0.5254 - val_accuracy: 0.7933\n",
            "Epoch 8/50\n",
            "7/7 [==============================] - 0s 38ms/step - loss: 0.4771 - accuracy: 0.8000 - val_loss: 0.6750 - val_accuracy: 0.7533\n",
            "Epoch 9/50\n",
            "7/7 [==============================] - 0s 35ms/step - loss: 0.5307 - accuracy: 0.7770 - val_loss: 0.5090 - val_accuracy: 0.8000\n",
            "Epoch 10/50\n",
            "7/7 [==============================] - 0s 37ms/step - loss: 0.4606 - accuracy: 0.8126 - val_loss: 0.4993 - val_accuracy: 0.7933\n",
            "Epoch 11/50\n",
            "7/7 [==============================] - 0s 35ms/step - loss: 0.4033 - accuracy: 0.8415 - val_loss: 0.4340 - val_accuracy: 0.8533\n",
            "Epoch 12/50\n",
            "7/7 [==============================] - 0s 36ms/step - loss: 0.3525 - accuracy: 0.8570 - val_loss: 0.4616 - val_accuracy: 0.8067\n",
            "Epoch 13/50\n",
            "7/7 [==============================] - 0s 36ms/step - loss: 0.3406 - accuracy: 0.8711 - val_loss: 0.4004 - val_accuracy: 0.8400\n",
            "Epoch 14/50\n",
            "7/7 [==============================] - 0s 32ms/step - loss: 0.3088 - accuracy: 0.8756 - val_loss: 0.3980 - val_accuracy: 0.8667\n",
            "Epoch 15/50\n",
            "7/7 [==============================] - 0s 31ms/step - loss: 0.2988 - accuracy: 0.8948 - val_loss: 0.4082 - val_accuracy: 0.8467\n",
            "Epoch 16/50\n",
            "7/7 [==============================] - 0s 31ms/step - loss: 0.2429 - accuracy: 0.9022 - val_loss: 0.4429 - val_accuracy: 0.8400\n",
            "Epoch 17/50\n",
            "7/7 [==============================] - 0s 32ms/step - loss: 0.2046 - accuracy: 0.9170 - val_loss: 0.4536 - val_accuracy: 0.8200\n",
            "Epoch 18/50\n",
            "7/7 [==============================] - 0s 32ms/step - loss: 0.1914 - accuracy: 0.9296 - val_loss: 0.5263 - val_accuracy: 0.8133\n",
            "Epoch 19/50\n",
            "7/7 [==============================] - 0s 32ms/step - loss: 0.1455 - accuracy: 0.9548 - val_loss: 0.5672 - val_accuracy: 0.8067\n",
            "Epoch 20/50\n",
            "7/7 [==============================] - 0s 33ms/step - loss: 0.1187 - accuracy: 0.9644 - val_loss: 0.5431 - val_accuracy: 0.8200\n",
            "Epoch 21/50\n",
            "7/7 [==============================] - 0s 34ms/step - loss: 0.0904 - accuracy: 0.9667 - val_loss: 0.6521 - val_accuracy: 0.8400\n",
            "Epoch 22/50\n",
            "7/7 [==============================] - 0s 33ms/step - loss: 0.0761 - accuracy: 0.9770 - val_loss: 0.6895 - val_accuracy: 0.8267\n",
            "Epoch 23/50\n",
            "7/7 [==============================] - 0s 33ms/step - loss: 0.0583 - accuracy: 0.9830 - val_loss: 0.6586 - val_accuracy: 0.8067\n",
            "Epoch 24/50\n",
            "7/7 [==============================] - 0s 33ms/step - loss: 0.0492 - accuracy: 0.9874 - val_loss: 0.7003 - val_accuracy: 0.8200\n",
            "Epoch 25/50\n",
            "7/7 [==============================] - 0s 32ms/step - loss: 0.0659 - accuracy: 0.9748 - val_loss: 0.7602 - val_accuracy: 0.8067\n",
            "Epoch 26/50\n",
            "7/7 [==============================] - 0s 32ms/step - loss: 0.1246 - accuracy: 0.9504 - val_loss: 0.5992 - val_accuracy: 0.8200\n",
            "Epoch 27/50\n",
            "7/7 [==============================] - 0s 32ms/step - loss: 0.0645 - accuracy: 0.9807 - val_loss: 0.7902 - val_accuracy: 0.8200\n",
            "Epoch 28/50\n",
            "7/7 [==============================] - 0s 31ms/step - loss: 0.0524 - accuracy: 0.9822 - val_loss: 0.7209 - val_accuracy: 0.8333\n",
            "Epoch 29/50\n",
            "7/7 [==============================] - 0s 31ms/step - loss: 0.0362 - accuracy: 0.9889 - val_loss: 0.8254 - val_accuracy: 0.8267\n",
            "Epoch 30/50\n",
            "7/7 [==============================] - 0s 33ms/step - loss: 0.0240 - accuracy: 0.9948 - val_loss: 0.9047 - val_accuracy: 0.8200\n",
            "Epoch 31/50\n",
            "7/7 [==============================] - 0s 32ms/step - loss: 0.0214 - accuracy: 0.9933 - val_loss: 0.7800 - val_accuracy: 0.8467\n",
            "Epoch 32/50\n",
            "7/7 [==============================] - 0s 34ms/step - loss: 0.0118 - accuracy: 0.9978 - val_loss: 0.9222 - val_accuracy: 0.8467\n",
            "Epoch 33/50\n",
            "7/7 [==============================] - 0s 34ms/step - loss: 0.0112 - accuracy: 0.9978 - val_loss: 1.0337 - val_accuracy: 0.8267\n",
            "Epoch 34/50\n",
            "7/7 [==============================] - 0s 32ms/step - loss: 0.0125 - accuracy: 0.9978 - val_loss: 1.0102 - val_accuracy: 0.8200\n",
            "Epoch 35/50\n",
            "7/7 [==============================] - 0s 32ms/step - loss: 0.0070 - accuracy: 0.9985 - val_loss: 1.1431 - val_accuracy: 0.8200\n",
            "Epoch 36/50\n",
            "7/7 [==============================] - 0s 31ms/step - loss: 0.0031 - accuracy: 1.0000 - val_loss: 1.0845 - val_accuracy: 0.8267\n",
            "Epoch 37/50\n",
            "7/7 [==============================] - 0s 31ms/step - loss: 0.0022 - accuracy: 0.9993 - val_loss: 1.1142 - val_accuracy: 0.8267\n",
            "Epoch 38/50\n",
            "7/7 [==============================] - 0s 33ms/step - loss: 0.0020 - accuracy: 1.0000 - val_loss: 1.1188 - val_accuracy: 0.8400\n",
            "Epoch 39/50\n",
            "7/7 [==============================] - 0s 34ms/step - loss: 0.0014 - accuracy: 1.0000 - val_loss: 1.1330 - val_accuracy: 0.8333\n",
            "Epoch 40/50\n",
            "7/7 [==============================] - 0s 33ms/step - loss: 9.7213e-04 - accuracy: 1.0000 - val_loss: 1.1644 - val_accuracy: 0.8333\n",
            "Epoch 41/50\n",
            "7/7 [==============================] - 0s 31ms/step - loss: 8.2350e-04 - accuracy: 1.0000 - val_loss: 1.1853 - val_accuracy: 0.8333\n",
            "Epoch 42/50\n",
            "7/7 [==============================] - 0s 32ms/step - loss: 6.6760e-04 - accuracy: 1.0000 - val_loss: 1.2306 - val_accuracy: 0.8400\n",
            "Epoch 43/50\n",
            "7/7 [==============================] - 0s 31ms/step - loss: 5.7735e-04 - accuracy: 1.0000 - val_loss: 1.2323 - val_accuracy: 0.8333\n",
            "Epoch 44/50\n",
            "7/7 [==============================] - 0s 32ms/step - loss: 4.9968e-04 - accuracy: 1.0000 - val_loss: 1.2587 - val_accuracy: 0.8333\n",
            "Epoch 45/50\n",
            "7/7 [==============================] - 0s 32ms/step - loss: 4.7254e-04 - accuracy: 1.0000 - val_loss: 1.2768 - val_accuracy: 0.8333\n",
            "Epoch 46/50\n",
            "7/7 [==============================] - 0s 33ms/step - loss: 4.0767e-04 - accuracy: 1.0000 - val_loss: 1.2803 - val_accuracy: 0.8333\n",
            "Epoch 47/50\n",
            "7/7 [==============================] - 0s 31ms/step - loss: 3.8764e-04 - accuracy: 1.0000 - val_loss: 1.2925 - val_accuracy: 0.8267\n",
            "Epoch 48/50\n",
            "7/7 [==============================] - 0s 32ms/step - loss: 3.6035e-04 - accuracy: 1.0000 - val_loss: 1.3115 - val_accuracy: 0.8267\n",
            "Epoch 49/50\n",
            "7/7 [==============================] - 0s 31ms/step - loss: 3.2605e-04 - accuracy: 1.0000 - val_loss: 1.3140 - val_accuracy: 0.8333\n",
            "Epoch 50/50\n",
            "7/7 [==============================] - 0s 31ms/step - loss: 3.0548e-04 - accuracy: 1.0000 - val_loss: 1.3289 - val_accuracy: 0.8200\n"
          ]
        }
      ]
    },
    {
      "cell_type": "markdown",
      "source": [
        "## Saving the model"
      ],
      "metadata": {
        "id": "UZNsdGij0uLf"
      }
    },
    {
      "cell_type": "code",
      "source": [
        "model.save(\"/content/drive/MyDrive/cifar-3class-data/my_cnn_model.h5\")"
      ],
      "metadata": {
        "colab": {
          "base_uri": "https://localhost:8080/"
        },
        "id": "X4fQnwY-oRb1",
        "outputId": "be84328a-46bd-40ff-c7ba-57c6b50a0068"
      },
      "execution_count": 35,
      "outputs": [
        {
          "output_type": "stream",
          "name": "stderr",
          "text": [
            "/usr/local/lib/python3.10/dist-packages/keras/src/engine/training.py:3079: UserWarning: You are saving your model as an HDF5 file via `model.save()`. This file format is considered legacy. We recommend using instead the native Keras format, e.g. `model.save('my_model.keras')`.\n",
            "  saving_api.save_model(\n"
          ]
        }
      ]
    },
    {
      "cell_type": "code",
      "source": [
        "plt.plot(history_cnn.epoch,history_cnn.history['accuracy'],color='r',label='Training Accuracy')\n",
        "plt.plot(history_cnn.epoch,history_cnn.history['val_accuracy'],color='b',label='Validation Accuracy')\n",
        "plt.title(\"Epoch-wise Training vs Validation Accuracies\")\n",
        "plt.xlabel('No. of Epochs')\n",
        "plt.ylabel('Accuracy Score')\n",
        "plt.legend()\n",
        "plt.show()"
      ],
      "metadata": {
        "colab": {
          "base_uri": "https://localhost:8080/",
          "height": 472
        },
        "id": "3c5jiOdRo22d",
        "outputId": "2e61abf8-6881-4218-d089-47c038fe87e6"
      },
      "execution_count": 36,
      "outputs": [
        {
          "output_type": "display_data",
          "data": {
            "text/plain": [
              "<Figure size 640x480 with 1 Axes>"
            ],
            "image/png": "[encoded data removed]"
          },
          "metadata": {}
        }
      ]
    },
    {
      "cell_type": "code",
      "source": [
        "test_data,test_label=load_images('/content/drive/MyDrive/cifar-3class-data/test')"
      ],
      "metadata": {
        "id": "NhvCpEU5pUlN"
      },
      "execution_count": 37,
      "outputs": []
    },
    {
      "cell_type": "code",
      "source": [
        "test_data=normalize(test_data)"
      ],
      "metadata": {
        "id": "LRk3r6faqmbo"
      },
      "execution_count": 38,
      "outputs": []
    },
    {
      "cell_type": "markdown",
      "source": [
        "## Loading the Model for Prediction"
      ],
      "metadata": {
        "id": "AprwIAv80y0Q"
      }
    },
    {
      "cell_type": "code",
      "source": [
        "loaded_model = keras.models.load_model(\"/content/drive/MyDrive/cifar-3class-data/my_cnn_model.h5\")"
      ],
      "metadata": {
        "id": "kCB3EuxPqqCF"
      },
      "execution_count": 39,
      "outputs": []
    },
    {
      "cell_type": "code",
      "source": [
        "Y_pred=loaded_model.predict(test_data)"
      ],
      "metadata": {
        "colab": {
          "base_uri": "https://localhost:8080/"
        },
        "id": "-5x840fuq5Eo",
        "outputId": "b2bb2f80-acf5-44d4-9d3b-b8d065db2ffd"
      },
      "execution_count": 40,
      "outputs": [
        {
          "output_type": "stream",
          "name": "stdout",
          "text": [
            "10/10 [==============================] - 0s 16ms/step\n"
          ]
        }
      ]
    },
    {
      "cell_type": "markdown",
      "source": [
        "### Class Probabilities of Test Data"
      ],
      "metadata": {
        "id": "_QLqFJS004eF"
      }
    },
    {
      "cell_type": "code",
      "source": [
        "Y_pred"
      ],
      "metadata": {
        "colab": {
          "base_uri": "https://localhost:8080/"
        },
        "id": "wyVt_yfBrMC_",
        "outputId": "ae524bfc-9cf3-4c89-819a-a7530b00d372"
      },
      "execution_count": 41,
      "outputs": [
        {
          "output_type": "execute_result",
          "data": {
            "text/plain": [
              "array([[6.83833122e-01, 6.54619187e-04, 3.15512270e-01],\n",
              "       [4.45318483e-02, 7.24219339e-12, 9.55468118e-01],\n",
              "       [8.26959014e-01, 1.72479838e-01, 5.61151071e-04],\n",
              "       [1.16542947e-11, 2.06139424e-12, 1.00000000e+00],\n",
              "       [7.28903830e-12, 1.22220845e-10, 1.00000000e+00],\n",
              "       [9.99565423e-01, 4.30744461e-04, 3.86814327e-06],\n",
              "       [3.74459091e-07, 3.55170476e-10, 9.99999642e-01],\n",
              "       [1.76900148e-08, 1.00000000e+00, 6.19284897e-14],\n",
              "       [3.78031917e-09, 1.51482240e-08, 1.00000000e+00],\n",
              "       [9.99995470e-01, 4.94939749e-14, 4.48805804e-06],\n",
              "       [2.08220168e-04, 7.38611959e-07, 9.99791086e-01],\n",
              "       [1.46637022e-14, 4.05537827e-14, 1.00000000e+00],\n",
              "       [1.06542274e-01, 1.33937419e-06, 8.93456340e-01],\n",
              "       [3.78353178e-07, 3.18119744e-13, 9.99999642e-01],\n",
              "       [2.19935188e-14, 1.36079793e-11, 1.00000000e+00],\n",
              "       [1.09337450e-09, 1.00806326e-13, 1.00000000e+00],\n",
              "       [9.95750565e-11, 2.86073986e-12, 1.00000000e+00],\n",
              "       [1.26830384e-03, 5.01171089e-05, 9.98681605e-01],\n",
              "       [4.32250624e-10, 4.83234945e-11, 1.00000000e+00],\n",
              "       [6.09003337e-08, 7.17218965e-15, 9.99999881e-01],\n",
              "       [9.86407755e-09, 3.55509133e-12, 1.00000000e+00],\n",
              "       [8.71705939e-04, 7.60259070e-07, 9.99127567e-01],\n",
              "       [4.02636535e-10, 2.18565838e-05, 9.99978185e-01],\n",
              "       [8.56656413e-07, 2.12812028e-03, 9.97871041e-01],\n",
              "       [1.40321970e-01, 1.59058378e-09, 8.59677970e-01],\n",
              "       [7.06428409e-08, 3.38320096e-05, 9.99966145e-01],\n",
              "       [1.55372391e-08, 1.00000000e+00, 9.09588811e-12],\n",
              "       [7.08281934e-01, 2.09170435e-06, 2.91715920e-01],\n",
              "       [5.40844347e-08, 4.14958415e-11, 1.00000000e+00],\n",
              "       [1.50940025e-08, 6.02175254e-10, 1.00000000e+00],\n",
              "       [9.08305585e-01, 4.61460389e-02, 4.55484167e-02],\n",
              "       [4.63322364e-03, 1.95411467e-05, 9.95347202e-01],\n",
              "       [6.79778580e-08, 5.72134250e-11, 9.99999881e-01],\n",
              "       [1.23353250e-09, 1.91874273e-12, 1.00000000e+00],\n",
              "       [3.37725952e-02, 3.14982138e-11, 9.66227472e-01],\n",
              "       [1.72296768e-05, 1.35914468e-06, 9.99981403e-01],\n",
              "       [5.72616727e-08, 8.03554068e-14, 1.00000000e+00],\n",
              "       [2.80717217e-07, 3.22705228e-06, 9.99996543e-01],\n",
              "       [9.31522859e-09, 4.81154728e-14, 1.00000000e+00],\n",
              "       [4.95961785e-07, 3.79608844e-10, 9.99999523e-01],\n",
              "       [8.70973378e-13, 5.57337076e-12, 1.00000000e+00],\n",
              "       [8.66355707e-13, 1.59565562e-16, 1.00000000e+00],\n",
              "       [9.90603745e-01, 6.78186535e-11, 9.39628296e-03],\n",
              "       [2.22003438e-09, 1.67369191e-11, 1.00000000e+00],\n",
              "       [1.52404041e-07, 1.26584174e-10, 9.99999881e-01],\n",
              "       [2.87511028e-08, 3.11951989e-13, 1.00000000e+00],\n",
              "       [5.30591365e-14, 9.45309966e-06, 9.99990582e-01],\n",
              "       [1.12425539e-07, 5.08742443e-19, 9.99999881e-01],\n",
              "       [3.46811602e-09, 1.39376202e-11, 1.00000000e+00],\n",
              "       [9.29184914e-01, 2.75557327e-10, 7.08150640e-02],\n",
              "       [2.55468627e-03, 9.73518491e-02, 9.00093436e-01],\n",
              "       [7.25162846e-11, 1.67631169e-11, 1.00000000e+00],\n",
              "       [1.44107581e-09, 6.43784137e-09, 1.00000000e+00],\n",
              "       [2.87094899e-02, 8.27875226e-08, 9.71290410e-01],\n",
              "       [5.26558086e-02, 4.58553195e-09, 9.47344244e-01],\n",
              "       [3.29137656e-05, 5.60057846e-14, 9.99967098e-01],\n",
              "       [3.72652270e-10, 4.44433936e-05, 9.99955535e-01],\n",
              "       [3.05752661e-02, 4.81196905e-09, 9.69424784e-01],\n",
              "       [4.69309480e-09, 1.08251056e-11, 1.00000000e+00],\n",
              "       [8.61015437e-08, 8.03640265e-09, 9.99999881e-01],\n",
              "       [2.10042556e-11, 2.89880119e-14, 1.00000000e+00],\n",
              "       [9.35315788e-01, 6.13305740e-10, 6.46842420e-02],\n",
              "       [9.93386152e-07, 2.36160440e-12, 9.99999046e-01],\n",
              "       [9.99962211e-01, 1.12506889e-07, 3.76832031e-05],\n",
              "       [9.53024685e-01, 3.18457652e-12, 4.69753109e-02],\n",
              "       [9.99999642e-01, 1.38066580e-09, 3.67263311e-07],\n",
              "       [7.74335695e-06, 1.22021777e-06, 9.99991059e-01],\n",
              "       [7.96212018e-01, 1.03315001e-03, 2.02754870e-01],\n",
              "       [1.24545724e-04, 9.86217531e-12, 9.99875426e-01],\n",
              "       [6.08504295e-01, 1.25253617e-04, 3.91370416e-01],\n",
              "       [8.70107397e-05, 2.38162597e-11, 9.99912977e-01],\n",
              "       [6.24719746e-07, 3.09743306e-13, 9.99999404e-01],\n",
              "       [1.63172095e-04, 1.34854283e-09, 9.99836802e-01],\n",
              "       [6.55270727e-09, 7.96654798e-10, 1.00000000e+00],\n",
              "       [1.00000000e+00, 3.08162496e-09, 7.12480682e-12],\n",
              "       [9.98552859e-01, 2.70137079e-10, 1.44716003e-03],\n",
              "       [2.82662183e-01, 4.60709204e-09, 7.17337847e-01],\n",
              "       [5.49534290e-12, 1.47797254e-14, 1.00000000e+00],\n",
              "       [1.21918943e-04, 5.48846356e-06, 9.99872565e-01],\n",
              "       [1.42314006e-04, 6.11079377e-05, 9.99796569e-01],\n",
              "       [8.04333880e-08, 5.64428371e-09, 9.99999881e-01],\n",
              "       [1.04858000e-09, 3.74368675e-10, 1.00000000e+00],\n",
              "       [2.50877790e-08, 1.48829365e-12, 1.00000000e+00],\n",
              "       [1.49727042e-09, 2.28492491e-13, 1.00000000e+00],\n",
              "       [9.36107039e-01, 2.90334447e-05, 6.38638958e-02],\n",
              "       [1.36623194e-05, 1.49678585e-11, 9.99986291e-01],\n",
              "       [3.65229785e-01, 8.73886328e-03, 6.26031339e-01],\n",
              "       [3.36602360e-01, 2.41598582e-06, 6.63395226e-01],\n",
              "       [1.68236163e-08, 1.19197333e-10, 1.00000000e+00],\n",
              "       [3.00824990e-11, 9.33799371e-10, 1.00000000e+00],\n",
              "       [1.96070360e-08, 3.19323534e-13, 1.00000000e+00],\n",
              "       [6.64213928e-07, 2.79358731e-10, 9.99999285e-01],\n",
              "       [2.74182112e-05, 7.38780946e-05, 9.99898672e-01],\n",
              "       [8.44487236e-09, 4.81435672e-14, 1.00000000e+00],\n",
              "       [3.04217374e-10, 3.77566156e-14, 1.00000000e+00],\n",
              "       [9.84633289e-07, 5.49673160e-08, 9.99998927e-01],\n",
              "       [1.07723358e-03, 3.76980382e-14, 9.98922765e-01],\n",
              "       [3.46641493e-10, 6.88264779e-10, 1.00000000e+00],\n",
              "       [1.29585828e-07, 3.56881239e-04, 9.99642968e-01],\n",
              "       [9.13622556e-04, 8.38307410e-11, 9.99086380e-01],\n",
              "       [6.42103454e-11, 1.00000000e+00, 9.32037026e-19],\n",
              "       [9.37591747e-14, 1.00000000e+00, 9.05239926e-22],\n",
              "       [6.02837744e-08, 9.99999881e-01, 7.66392764e-17],\n",
              "       [1.42025280e-13, 1.00000000e+00, 7.75495077e-24],\n",
              "       [1.73834316e-08, 1.00000000e+00, 1.69382839e-18],\n",
              "       [3.47924359e-12, 9.99636292e-01, 3.63683852e-04],\n",
              "       [4.77094173e-01, 5.22898257e-01, 7.62563332e-06],\n",
              "       [2.73780472e-07, 9.99999762e-01, 1.68916381e-13],\n",
              "       [5.66534091e-08, 1.00000000e+00, 1.32822330e-11],\n",
              "       [6.00154351e-07, 9.99999404e-01, 5.30441678e-16],\n",
              "       [1.03063906e-13, 1.00000000e+00, 1.29851633e-16],\n",
              "       [5.72020610e-07, 9.99999404e-01, 3.20370863e-09],\n",
              "       [2.52707799e-10, 1.00000000e+00, 4.77640721e-18],\n",
              "       [4.66522220e-13, 1.00000000e+00, 4.72177020e-10],\n",
              "       [2.89359065e-07, 9.99999762e-01, 4.93247445e-14],\n",
              "       [1.18372934e-09, 1.00000000e+00, 2.09446853e-15],\n",
              "       [4.96393005e-26, 1.00000000e+00, 4.38510156e-18],\n",
              "       [2.78313028e-12, 1.00000000e+00, 1.08518388e-14],\n",
              "       [8.03160874e-05, 9.99918938e-01, 6.72545980e-07],\n",
              "       [6.14525486e-10, 1.00000000e+00, 8.62949713e-14],\n",
              "       [9.99781191e-01, 2.18453075e-04, 3.34132125e-07],\n",
              "       [1.39920703e-05, 9.99986053e-01, 1.59643576e-10],\n",
              "       [2.06276684e-12, 1.00000000e+00, 1.88801312e-22],\n",
              "       [3.42905274e-16, 1.00000000e+00, 8.66402261e-16],\n",
              "       [6.89946115e-04, 9.99310017e-01, 1.13314176e-12],\n",
              "       [8.92971277e-01, 1.07028559e-01, 7.73688882e-08],\n",
              "       [2.15380845e-04, 9.99784648e-01, 1.72720293e-11],\n",
              "       [5.58998459e-10, 1.00000000e+00, 6.01862818e-18],\n",
              "       [5.85603304e-02, 9.41439688e-01, 1.15984858e-13],\n",
              "       [5.85484905e-09, 1.00000000e+00, 8.40615771e-13],\n",
              "       [5.84297813e-03, 3.63657344e-03, 9.90520477e-01],\n",
              "       [2.08753358e-18, 1.00000000e+00, 4.44795018e-22],\n",
              "       [4.51731439e-18, 9.99999881e-01, 1.08606152e-07],\n",
              "       [2.92944946e-10, 1.00000000e+00, 1.54620484e-13],\n",
              "       [7.99573689e-12, 1.00000000e+00, 6.01014633e-23],\n",
              "       [5.50714545e-02, 9.44928586e-01, 2.57933036e-10],\n",
              "       [2.52112444e-03, 9.97478902e-01, 1.45484455e-13],\n",
              "       [2.99628550e-06, 9.99994874e-01, 2.11395445e-06],\n",
              "       [7.57878596e-14, 1.00000000e+00, 3.55746077e-22],\n",
              "       [2.14986216e-15, 1.00000000e+00, 8.11177427e-12],\n",
              "       [3.60383838e-01, 6.39616132e-01, 2.85909126e-11],\n",
              "       [2.26107483e-14, 1.00000000e+00, 1.38947307e-18],\n",
              "       [1.34370584e-05, 9.99986529e-01, 1.46909163e-17],\n",
              "       [2.04036857e-16, 1.00000000e+00, 6.39070694e-19],\n",
              "       [1.14626891e-16, 1.00000000e+00, 4.65552138e-18],\n",
              "       [3.21270094e-12, 1.00000000e+00, 3.60812262e-23],\n",
              "       [3.27456187e-11, 1.00000000e+00, 5.49803048e-18],\n",
              "       [1.58741677e-04, 9.99841213e-01, 3.19846094e-11],\n",
              "       [1.91234450e-09, 1.00000000e+00, 7.93323407e-10],\n",
              "       [3.59737479e-12, 1.00000000e+00, 4.42847012e-19],\n",
              "       [2.07123563e-08, 1.00000000e+00, 1.46113755e-15],\n",
              "       [7.13679604e-14, 1.00000000e+00, 2.96764328e-12],\n",
              "       [2.14373482e-13, 1.00000000e+00, 9.82863118e-18],\n",
              "       [4.55318127e-17, 1.00000000e+00, 1.35930511e-09],\n",
              "       [1.65239610e-02, 9.83469486e-01, 6.54555743e-06],\n",
              "       [1.79922878e-07, 9.99999404e-01, 3.58655001e-07],\n",
              "       [6.90010443e-17, 1.00000000e+00, 1.45514993e-26],\n",
              "       [3.33575203e-12, 1.00000000e+00, 8.87196336e-14],\n",
              "       [1.09037377e-01, 8.90962601e-01, 1.40006171e-15],\n",
              "       [6.31637680e-18, 1.00000000e+00, 3.59497128e-25],\n",
              "       [1.28151653e-13, 1.00000000e+00, 3.19052774e-16],\n",
              "       [1.83028325e-01, 8.16971660e-01, 1.32288436e-09],\n",
              "       [1.57786628e-09, 9.99996662e-01, 3.37031815e-06],\n",
              "       [7.59951455e-14, 1.00000000e+00, 5.25823868e-18],\n",
              "       [2.24971041e-17, 1.00000000e+00, 1.42044935e-11],\n",
              "       [7.23757446e-02, 9.27624226e-01, 3.04653720e-12],\n",
              "       [3.58907172e-14, 1.00000000e+00, 1.36627420e-16],\n",
              "       [3.55403449e-19, 1.00000000e+00, 2.34027745e-11],\n",
              "       [2.27949748e-16, 1.00000000e+00, 8.90364183e-19],\n",
              "       [5.38661455e-13, 1.00000000e+00, 4.40626581e-24],\n",
              "       [1.21065010e-13, 1.00000000e+00, 4.42268162e-18],\n",
              "       [9.95706260e-01, 4.29294677e-03, 8.50874471e-07],\n",
              "       [4.45160159e-10, 1.00000000e+00, 3.58516168e-12],\n",
              "       [5.21131867e-08, 1.00000000e+00, 4.24520792e-12],\n",
              "       [3.44408870e-01, 6.55591071e-01, 1.54160729e-11],\n",
              "       [1.69140401e-14, 1.00000000e+00, 2.63422334e-14],\n",
              "       [2.55846590e-14, 1.00000000e+00, 1.69769289e-15],\n",
              "       [9.70825970e-01, 2.91740242e-02, 5.98663490e-15],\n",
              "       [1.40286822e-04, 9.99859691e-01, 3.63418522e-08],\n",
              "       [1.15281573e-09, 3.28608230e-02, 9.67139125e-01],\n",
              "       [5.02690200e-05, 9.99949694e-01, 7.07054925e-14],\n",
              "       [7.99294408e-09, 1.00000000e+00, 6.20280910e-12],\n",
              "       [5.43841291e-11, 1.00000000e+00, 1.82046337e-14],\n",
              "       [1.69498893e-03, 9.98304963e-01, 3.97318727e-20],\n",
              "       [1.73171468e-08, 1.00000000e+00, 1.03804118e-13],\n",
              "       [1.35975808e-03, 9.98640239e-01, 6.91172536e-11],\n",
              "       [1.62965644e-05, 9.99983668e-01, 6.63338648e-15],\n",
              "       [2.29666085e-13, 1.00000000e+00, 8.93739130e-13],\n",
              "       [3.00466157e-02, 9.02818620e-01, 6.71347752e-02],\n",
              "       [5.13092894e-03, 9.94869113e-01, 5.10898442e-11],\n",
              "       [3.34410463e-04, 9.99024868e-01, 6.40733982e-04],\n",
              "       [1.36479317e-11, 1.00000000e+00, 6.43736975e-18],\n",
              "       [1.67719685e-10, 9.99922752e-01, 7.72128624e-05],\n",
              "       [2.05398845e-08, 1.00000000e+00, 1.03090858e-09],\n",
              "       [5.61433917e-05, 9.99803483e-01, 1.40439835e-04],\n",
              "       [2.00347654e-06, 9.99997973e-01, 7.85428919e-15],\n",
              "       [1.38896991e-10, 1.00000000e+00, 1.11093040e-15],\n",
              "       [2.10427004e-07, 9.99971747e-01, 2.79632950e-05],\n",
              "       [9.79361210e-12, 1.00000000e+00, 1.14837642e-12],\n",
              "       [9.87852097e-01, 1.21478979e-02, 7.38883976e-09],\n",
              "       [9.99999642e-01, 3.53599148e-07, 8.81446560e-09],\n",
              "       [9.99999404e-01, 5.69933434e-07, 8.47556956e-14],\n",
              "       [2.62558716e-03, 7.67312103e-10, 9.97374415e-01],\n",
              "       [8.66922498e-01, 2.33760284e-06, 1.33075178e-01],\n",
              "       [9.99939680e-01, 6.12246235e-12, 6.03620392e-05],\n",
              "       [9.99950767e-01, 2.84282842e-09, 4.92321342e-05],\n",
              "       [1.00000000e+00, 1.14596699e-09, 1.27953983e-14],\n",
              "       [9.99964595e-01, 3.27356697e-10, 3.53710202e-05],\n",
              "       [1.36395713e-04, 3.47266465e-01, 6.52597189e-01],\n",
              "       [5.87643564e-01, 4.12263215e-01, 9.32582261e-05],\n",
              "       [2.12233271e-02, 1.15443049e-02, 9.67232347e-01],\n",
              "       [1.17915049e-01, 8.82084906e-01, 8.42413704e-13],\n",
              "       [9.99973655e-01, 2.63290040e-05, 1.43276152e-16],\n",
              "       [3.10362047e-05, 2.84208927e-05, 9.99940515e-01],\n",
              "       [9.86328065e-01, 7.50837188e-08, 1.36718284e-02],\n",
              "       [9.52047348e-01, 2.83093783e-07, 4.79524545e-02],\n",
              "       [5.64278424e-01, 1.46092038e-09, 4.35721546e-01],\n",
              "       [9.99997497e-01, 2.82723550e-17, 2.56063026e-06],\n",
              "       [5.77488132e-02, 1.91560301e-09, 9.42251205e-01],\n",
              "       [8.89035463e-01, 2.38405164e-06, 1.10962197e-01],\n",
              "       [9.86904144e-01, 9.46760552e-12, 1.30958632e-02],\n",
              "       [9.95572567e-01, 2.20207608e-09, 4.42739017e-03],\n",
              "       [8.04389179e-01, 1.95604846e-01, 5.93722280e-06],\n",
              "       [9.99998927e-01, 4.59506794e-07, 6.42843020e-07],\n",
              "       [9.99999642e-01, 3.23435302e-07, 2.58635979e-09],\n",
              "       [9.99951005e-01, 4.56179343e-08, 4.89886988e-05],\n",
              "       [9.01718140e-02, 1.15607008e-07, 9.09828007e-01],\n",
              "       [1.18173578e-08, 1.00000000e+00, 5.85677297e-12],\n",
              "       [9.99998808e-01, 1.15143268e-06, 5.62117063e-12],\n",
              "       [1.36171449e-02, 9.86366808e-01, 1.60345080e-05],\n",
              "       [1.00000000e+00, 5.43119542e-12, 4.06562961e-08],\n",
              "       [1.00000000e+00, 6.51262193e-13, 6.36856623e-10],\n",
              "       [9.99999881e-01, 1.68576875e-07, 5.49312595e-10],\n",
              "       [1.00000000e+00, 2.23433837e-12, 1.88549365e-15],\n",
              "       [1.00000000e+00, 7.65961052e-15, 2.85419570e-11],\n",
              "       [9.99999046e-01, 5.01044539e-09, 9.83640348e-07],\n",
              "       [1.00000000e+00, 4.92579444e-09, 2.96941305e-10],\n",
              "       [9.79894102e-01, 1.74361503e-07, 2.01057568e-02],\n",
              "       [9.99965549e-01, 1.50896824e-08, 3.44763757e-05],\n",
              "       [9.99213457e-01, 7.86554010e-04, 3.90149868e-09],\n",
              "       [3.06369010e-02, 1.47647158e-10, 9.69363034e-01],\n",
              "       [3.22628859e-03, 1.69944484e-04, 9.96603727e-01],\n",
              "       [9.99999285e-01, 7.52759206e-07, 1.96368759e-13],\n",
              "       [9.77636039e-01, 2.23639328e-02, 8.04910860e-11],\n",
              "       [1.00000000e+00, 3.01056888e-11, 5.26637695e-15],\n",
              "       [3.33596855e-01, 2.74341431e-07, 6.66402876e-01],\n",
              "       [9.99973059e-01, 2.89578334e-10, 2.69667307e-05],\n",
              "       [9.78416324e-01, 2.15831567e-02, 4.89820764e-07],\n",
              "       [1.00000000e+00, 1.11505063e-08, 2.52775773e-10],\n",
              "       [4.29067835e-02, 6.17232509e-02, 8.95369947e-01],\n",
              "       [9.99977112e-01, 1.15131715e-09, 2.28698318e-05],\n",
              "       [9.99605358e-01, 5.46352463e-10, 3.94642178e-04],\n",
              "       [9.99741852e-01, 1.51001863e-04, 1.07122505e-04],\n",
              "       [1.00000000e+00, 1.27211121e-13, 2.49842126e-11],\n",
              "       [9.99251187e-01, 7.48817227e-04, 1.07869091e-09],\n",
              "       [9.99998093e-01, 1.88756758e-06, 3.49507689e-09],\n",
              "       [9.97250378e-01, 2.74966122e-03, 7.05433162e-13],\n",
              "       [3.05964798e-01, 3.38369068e-06, 6.94031775e-01],\n",
              "       [5.51860511e-01, 5.62336333e-02, 3.91905785e-01],\n",
              "       [1.00000000e+00, 1.59340843e-08, 3.61074343e-13],\n",
              "       [1.93578079e-01, 1.34226585e-09, 8.06421936e-01],\n",
              "       [1.53066674e-02, 9.57099855e-01, 2.75935046e-02],\n",
              "       [9.98207450e-01, 1.73024519e-03, 6.23935848e-05],\n",
              "       [1.00000000e+00, 2.10196045e-11, 1.51427919e-08],\n",
              "       [1.00000000e+00, 5.76341817e-13, 1.85658611e-09],\n",
              "       [7.88227510e-07, 8.64268102e-11, 9.99999166e-01],\n",
              "       [9.12924469e-01, 8.70102346e-02, 6.52856470e-05],\n",
              "       [3.98066454e-03, 9.96019304e-01, 1.67407422e-15],\n",
              "       [9.99998450e-01, 7.01009384e-09, 1.50692699e-06],\n",
              "       [3.00990511e-02, 9.21275094e-03, 9.60688174e-01],\n",
              "       [9.69762981e-01, 9.20078776e-07, 3.02361213e-02],\n",
              "       [9.99985933e-01, 2.19206981e-08, 1.41088194e-05],\n",
              "       [3.25586734e-04, 2.33258907e-04, 9.99441087e-01],\n",
              "       [8.11183304e-02, 9.18879271e-01, 2.36396181e-06],\n",
              "       [1.00000000e+00, 1.15603271e-09, 7.82848395e-13],\n",
              "       [1.00000000e+00, 6.39133679e-09, 1.11138682e-10],\n",
              "       [9.99992490e-01, 2.02329261e-06, 5.44627028e-06],\n",
              "       [3.15919340e-01, 6.84073865e-01, 6.83324879e-06],\n",
              "       [9.99253213e-01, 2.72597504e-06, 7.44048913e-04],\n",
              "       [9.90864813e-01, 7.88219179e-09, 9.13523603e-03],\n",
              "       [2.66420011e-05, 2.52495215e-06, 9.99970794e-01],\n",
              "       [9.99999881e-01, 7.60674368e-08, 1.22009460e-08],\n",
              "       [1.00000000e+00, 1.72794685e-08, 1.10829257e-09],\n",
              "       [7.08150594e-07, 9.18043988e-14, 9.99999285e-01],\n",
              "       [9.99997616e-01, 2.40763120e-06, 1.36153524e-14],\n",
              "       [9.95502055e-01, 2.45279098e-05, 4.47339797e-03],\n",
              "       [1.00000000e+00, 2.18328804e-08, 1.31553631e-11],\n",
              "       [9.99956250e-01, 8.71025821e-11, 4.37610724e-05],\n",
              "       [9.99998927e-01, 1.69593478e-10, 1.13018439e-06],\n",
              "       [4.78062134e-07, 2.91861743e-05, 9.99970317e-01],\n",
              "       [9.99998569e-01, 1.29057098e-09, 1.37430050e-06],\n",
              "       [9.99827623e-01, 1.72361877e-04, 4.75446615e-09],\n",
              "       [1.00000000e+00, 1.46282342e-09, 7.35219594e-11],\n",
              "       [9.99712765e-01, 4.95766317e-10, 2.87227100e-04],\n",
              "       [9.99866843e-01, 6.74316834e-05, 6.56691118e-05],\n",
              "       [9.99999523e-01, 1.44045826e-11, 4.17407136e-07],\n",
              "       [9.97100174e-01, 4.77488449e-09, 2.89976015e-03],\n",
              "       [9.99998093e-01, 1.48379161e-06, 5.26253245e-07],\n",
              "       [1.00000000e+00, 1.51310999e-08, 2.02643022e-08],\n",
              "       [4.53598164e-02, 3.39854364e-06, 9.54636753e-01]], dtype=float32)"
            ]
          },
          "metadata": {},
          "execution_count": 41
        }
      ]
    },
    {
      "cell_type": "markdown",
      "source": [
        "## Using the argmax to assign class"
      ],
      "metadata": {
        "id": "bSTz_0dz1DgA"
      }
    },
    {
      "cell_type": "code",
      "source": [
        "predicted_class= np.argmax(Y_pred,axis=1)"
      ],
      "metadata": {
        "id": "ySTupFNUrN0Y"
      },
      "execution_count": 42,
      "outputs": []
    },
    {
      "cell_type": "code",
      "source": [
        "print(f\"The accuracy score of the model is {round(accuracy_score(test_label,predicted_class)*100,2)}%\")"
      ],
      "metadata": {
        "colab": {
          "base_uri": "https://localhost:8080/"
        },
        "id": "URT0AYour66h",
        "outputId": "55cf8517-d862-4f03-88de-af510e533a3c"
      },
      "execution_count": 43,
      "outputs": [
        {
          "output_type": "stream",
          "name": "stdout",
          "text": [
            "The accuracy score of the model is 82.67%\n"
          ]
        }
      ]
    },
    {
      "cell_type": "markdown",
      "source": [
        "## Computing the Confusion Matrix"
      ],
      "metadata": {
        "id": "MPguc5hK1k-T"
      }
    },
    {
      "cell_type": "code",
      "source": [
        "confusion_matrix(test_label,predicted_class)"
      ],
      "metadata": {
        "colab": {
          "base_uri": "https://localhost:8080/"
        },
        "id": "ALgdg6SesAbL",
        "outputId": "05861d39-bb52-412b-8021-b0b3518f3945"
      },
      "execution_count": 44,
      "outputs": [
        {
          "output_type": "execute_result",
          "data": {
            "text/plain": [
              "array([[74,  7, 19],\n",
              "       [ 5, 93,  2],\n",
              "       [17,  2, 81]])"
            ]
          },
          "metadata": {},
          "execution_count": 44
        }
      ]
    },
    {
      "cell_type": "code",
      "source": [
        "disp = ConfusionMatrixDisplay(confusion_matrix(test_label,predicted_class),display_labels=np.unique(test_label))\n",
        "disp.plot()\n",
        "plt.show()"
      ],
      "metadata": {
        "colab": {
          "base_uri": "https://localhost:8080/",
          "height": 449
        },
        "id": "AEx4nHVxs_rR",
        "outputId": "33181181-45c5-4495-aa42-e332cbc22da9"
      },
      "execution_count": 45,
      "outputs": [
        {
          "output_type": "display_data",
          "data": {
            "text/plain": [
              "<Figure size 640x480 with 2 Axes>"
            ],
            "image/png": "[encoded data removed]"
          },
          "metadata": {}
        }
      ]
    },
    {
      "cell_type": "code",
      "source": [],
      "metadata": {
        "id": "dS8Xr0I9tn-7"
      },
      "execution_count": 45,
      "outputs": []
    }
  ]
}